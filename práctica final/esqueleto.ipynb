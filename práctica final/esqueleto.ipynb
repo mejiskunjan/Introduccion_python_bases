{
 "cells": [
  {
   "cell_type": "markdown",
   "id": "8a350419",
   "metadata": {},
   "source": [
    "# Esqueleto para la prática final\n",
    "\n",
    "Seguir de manera opcional.\n",
    "\n",
    "Lo recomiendo si estás atascado."
   ]
  },
  {
   "cell_type": "code",
   "execution_count": 5,
   "id": "eb391a55",
   "metadata": {},
   "outputs": [
    {
     "name": "stdout",
     "output_type": "stream",
     "text": [
      "Collecting yfinance\n",
      "  Downloading yfinance-0.2.66-py2.py3-none-any.whl.metadata (6.0 kB)\n",
      "Requirement already satisfied: pandas>=1.3.0 in /Users/gonzalo/miniconda3/envs/first_try/lib/python3.9/site-packages (from yfinance) (2.3.2)\n",
      "Requirement already satisfied: numpy>=1.16.5 in /Users/gonzalo/miniconda3/envs/first_try/lib/python3.9/site-packages (from yfinance) (2.0.2)\n",
      "Requirement already satisfied: requests>=2.31 in /Users/gonzalo/miniconda3/envs/first_try/lib/python3.9/site-packages (from yfinance) (2.32.3)\n",
      "Collecting multitasking>=0.0.7 (from yfinance)\n",
      "  Downloading multitasking-0.0.12.tar.gz (19 kB)\n",
      "  Preparing metadata (setup.py) ... \u001b[?25ldone\n",
      "\u001b[?25hRequirement already satisfied: platformdirs>=2.0.0 in /Users/gonzalo/miniconda3/envs/first_try/lib/python3.9/site-packages (from yfinance) (3.10.0)\n",
      "Requirement already satisfied: pytz>=2022.5 in /Users/gonzalo/miniconda3/envs/first_try/lib/python3.9/site-packages (from yfinance) (2024.1)\n",
      "Collecting frozendict>=2.3.4 (from yfinance)\n",
      "  Using cached frozendict-2.4.6-cp39-cp39-macosx_11_0_arm64.whl.metadata (23 kB)\n",
      "Collecting peewee>=3.16.2 (from yfinance)\n",
      "  Downloading peewee-3.18.2.tar.gz (949 kB)\n",
      "\u001b[2K     \u001b[90m━━━━━━━━━━━━━━━━━━━━━━━━━━━━━━━━━━━━━━\u001b[0m \u001b[32m949.2/949.2 kB\u001b[0m \u001b[31m24.9 MB/s\u001b[0m eta \u001b[36m0:00:00\u001b[0m\n",
      "\u001b[?25h  Installing build dependencies ... \u001b[?25ldone\n",
      "\u001b[?25h  Getting requirements to build wheel ... \u001b[?25ldone\n",
      "\u001b[?25h  Preparing metadata (pyproject.toml) ... \u001b[?25ldone\n",
      "\u001b[?25hRequirement already satisfied: beautifulsoup4>=4.11.1 in /Users/gonzalo/miniconda3/envs/first_try/lib/python3.9/site-packages (from yfinance) (4.12.3)\n",
      "Collecting curl_cffi>=0.7 (from yfinance)\n",
      "  Downloading curl_cffi-0.13.0-cp39-abi3-macosx_11_0_arm64.whl.metadata (13 kB)\n",
      "Collecting protobuf>=3.19.0 (from yfinance)\n",
      "  Downloading protobuf-6.32.1-cp39-abi3-macosx_10_9_universal2.whl.metadata (593 bytes)\n",
      "Collecting websockets>=13.0 (from yfinance)\n",
      "  Downloading websockets-15.0.1-cp39-cp39-macosx_11_0_arm64.whl.metadata (6.8 kB)\n",
      "Requirement already satisfied: soupsieve>1.2 in /Users/gonzalo/miniconda3/envs/first_try/lib/python3.9/site-packages (from beautifulsoup4>=4.11.1->yfinance) (2.5)\n",
      "Requirement already satisfied: cffi>=1.12.0 in /Users/gonzalo/miniconda3/envs/first_try/lib/python3.9/site-packages (from curl_cffi>=0.7->yfinance) (1.17.1)\n",
      "Requirement already satisfied: certifi>=2024.2.2 in /Users/gonzalo/miniconda3/envs/first_try/lib/python3.9/site-packages (from curl_cffi>=0.7->yfinance) (2024.8.30)\n",
      "Requirement already satisfied: python-dateutil>=2.8.2 in /Users/gonzalo/miniconda3/envs/first_try/lib/python3.9/site-packages (from pandas>=1.3.0->yfinance) (2.9.0.post0)\n",
      "Requirement already satisfied: tzdata>=2022.7 in /Users/gonzalo/miniconda3/envs/first_try/lib/python3.9/site-packages (from pandas>=1.3.0->yfinance) (2025.2)\n",
      "Requirement already satisfied: charset-normalizer<4,>=2 in /Users/gonzalo/miniconda3/envs/first_try/lib/python3.9/site-packages (from requests>=2.31->yfinance) (3.3.2)\n",
      "Requirement already satisfied: idna<4,>=2.5 in /Users/gonzalo/miniconda3/envs/first_try/lib/python3.9/site-packages (from requests>=2.31->yfinance) (3.7)\n",
      "Requirement already satisfied: urllib3<3,>=1.21.1 in /Users/gonzalo/miniconda3/envs/first_try/lib/python3.9/site-packages (from requests>=2.31->yfinance) (2.2.3)\n",
      "Requirement already satisfied: pycparser in /Users/gonzalo/miniconda3/envs/first_try/lib/python3.9/site-packages (from cffi>=1.12.0->curl_cffi>=0.7->yfinance) (2.21)\n",
      "Requirement already satisfied: six>=1.5 in /Users/gonzalo/miniconda3/envs/first_try/lib/python3.9/site-packages (from python-dateutil>=2.8.2->pandas>=1.3.0->yfinance) (1.16.0)\n",
      "Downloading yfinance-0.2.66-py2.py3-none-any.whl (123 kB)\n",
      "Downloading curl_cffi-0.13.0-cp39-abi3-macosx_11_0_arm64.whl (3.0 MB)\n",
      "\u001b[2K   \u001b[90m━━━━━━━━━━━━━━━━━━━━━━━━━━━━━━━━━━━━━━━━\u001b[0m \u001b[32m3.0/3.0 MB\u001b[0m \u001b[31m48.4 MB/s\u001b[0m eta \u001b[36m0:00:00\u001b[0m\n",
      "\u001b[?25hUsing cached frozendict-2.4.6-cp39-cp39-macosx_11_0_arm64.whl (37 kB)\n",
      "Downloading protobuf-6.32.1-cp39-abi3-macosx_10_9_universal2.whl (426 kB)\n",
      "Downloading websockets-15.0.1-cp39-cp39-macosx_11_0_arm64.whl (173 kB)\n",
      "Building wheels for collected packages: multitasking, peewee\n",
      "  Building wheel for multitasking (setup.py) ... \u001b[?25ldone\n",
      "\u001b[?25h  Created wheel for multitasking: filename=multitasking-0.0.12-py3-none-any.whl size=15548 sha256=3fbe97ee45a4c874687e91d38d8d56defc1c180c58c2b6a0ca1dc930c8ac36a2\n",
      "  Stored in directory: /Users/gonzalo/Library/Caches/pip/wheels/98/75/bc/9eaa3cdeaaca347bab26c7e83a7e2f365d82584d65a2d48e7a\n",
      "  Building wheel for peewee (pyproject.toml) ... \u001b[?25ldone\n",
      "\u001b[?25h  Created wheel for peewee: filename=peewee-3.18.2-cp39-cp39-macosx_11_0_arm64.whl size=272139 sha256=35c2b73e8bd6a5641c979756c3f33cecbef3fe79508b0b4f2d1d5931f0e4f92b\n",
      "  Stored in directory: /Users/gonzalo/Library/Caches/pip/wheels/90/fe/6b/3ca19914342fba0fdef3ced789c96ce76e2665b502d838cc1f\n",
      "Successfully built multitasking peewee\n",
      "Installing collected packages: peewee, multitasking, websockets, protobuf, frozendict, curl_cffi, yfinance\n",
      "Successfully installed curl_cffi-0.13.0 frozendict-2.4.6 multitasking-0.0.12 peewee-3.18.2 protobuf-6.32.1 websockets-15.0.1 yfinance-0.2.66\n"
     ]
    }
   ],
   "source": [
    "!pip install yfinance"
   ]
  },
  {
   "cell_type": "code",
   "execution_count": 6,
   "id": "fae0f321",
   "metadata": {},
   "outputs": [],
   "source": [
    "import numpy as np \n",
    "import pandas as pd \n",
    "import matplotlib.pyplot as plt \n",
    "import yfinance as yf \n",
    "\n",
    "# Lectura de tickers del sp_500\n",
    "tickers = pd.read_csv(\"sp500.csv\")"
   ]
  },
  {
   "cell_type": "code",
   "execution_count": null,
   "id": "9e762a83",
   "metadata": {},
   "outputs": [],
   "source": [
    "# Comprobar que hay en 'tickers'\n"
   ]
  },
  {
   "cell_type": "code",
   "execution_count": null,
   "id": "c6fad85d",
   "metadata": {},
   "outputs": [],
   "source": [
    "# Descargar los datos de entre 2023 y 2024\n"
   ]
  },
  {
   "cell_type": "code",
   "execution_count": null,
   "id": "49a31cc9",
   "metadata": {},
   "outputs": [],
   "source": [
    "# Elegir 10 activos aleatoriamente de la lista de tickers\n",
    "\n",
    "# Comprobar que su matriz de correlaciones no tiene valores mayores que 1\n",
    "# excepto la diagonal\n",
    "\n",
    "# Repetir todo el proceso de elección si no se cumple esa condición\n",
    "# (usa un bucle)"
   ]
  },
  {
   "cell_type": "code",
   "execution_count": null,
   "id": "9d2fbc5d",
   "metadata": {},
   "outputs": [],
   "source": [
    "# Con los 10 activos seleccionados, genera 100 combinaciones de pesos aleatorios que sumen 1\n",
    "# Esto se puede hacer generando 10 número aleatorios y dividiendo el array / sum(array)\n"
   ]
  },
  {
   "cell_type": "code",
   "execution_count": null,
   "id": "a863fea8",
   "metadata": {},
   "outputs": [],
   "source": [
    "# Comprobar el comportamiento de estas carteras durante el 2023 a 2024.\n",
    "# Una cartera es pesos @ retornos\n",
    "# Los retornos se calculando de la siguiente manera\n",
    "# precio_adj = datos['Close']\n",
    "# retornos = np.log(precios_adj).diff().dropna() !!!! cuidado con el dropna !!!!!"
   ]
  }
 ],
 "metadata": {
  "kernelspec": {
   "display_name": "first_try",
   "language": "python",
   "name": "python3"
  },
  "language_info": {
   "codemirror_mode": {
    "name": "ipython",
    "version": 3
   },
   "file_extension": ".py",
   "mimetype": "text/x-python",
   "name": "python",
   "nbconvert_exporter": "python",
   "pygments_lexer": "ipython3",
   "version": "3.9.20"
  }
 },
 "nbformat": 4,
 "nbformat_minor": 5
}
