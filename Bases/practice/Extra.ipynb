{
 "cells": [
  {
   "cell_type": "markdown",
   "id": "0e16e50e",
   "metadata": {},
   "source": [
    "### 1) \n",
    "\n",
    "Crea un diccionario con nombres y edades. Luego, muestra los nombres de las personas mayores de edad (≥18)."
   ]
  },
  {
   "cell_type": "code",
   "execution_count": null,
   "id": "4eb74844",
   "metadata": {},
   "outputs": [],
   "source": []
  },
  {
   "cell_type": "markdown",
   "id": "11884e66",
   "metadata": {},
   "source": [
    "### 2)\n",
    "\n",
    "Pide una palabra y determina si es un palíndromo (se lee igual al revés)."
   ]
  },
  {
   "cell_type": "code",
   "execution_count": null,
   "id": "19d1d344",
   "metadata": {},
   "outputs": [],
   "source": []
  },
  {
   "cell_type": "markdown",
   "id": "d149dd73",
   "metadata": {},
   "source": [
    "### 3)\n",
    "\n",
    "Crea una función que genere una contraseña aleatoria de 8 caracteres con letras y números."
   ]
  },
  {
   "cell_type": "code",
   "execution_count": null,
   "id": "082a6ca3",
   "metadata": {},
   "outputs": [],
   "source": []
  },
  {
   "cell_type": "markdown",
   "id": "7418e4ec",
   "metadata": {},
   "source": [
    "### 4)\n",
    "\n",
    "Simula un cajero: el usuario introduce una cantidad a retirar y el programa devuelve cuántos billetes de 50, 20, 10 y 5 se necesitan."
   ]
  },
  {
   "cell_type": "code",
   "execution_count": null,
   "id": "3984f59f",
   "metadata": {},
   "outputs": [],
   "source": []
  },
  {
   "cell_type": "markdown",
   "id": "561f6d42",
   "metadata": {},
   "source": [
    "### 5)\n",
    "\n",
    "Pide al usuario la altura de un triángulo y dibuja un triángulo rectángulo de asteriscos usando bucles anidados."
   ]
  },
  {
   "cell_type": "code",
   "execution_count": null,
   "id": "74810ca1",
   "metadata": {},
   "outputs": [],
   "source": [
    "\n"
   ]
  },
  {
   "cell_type": "markdown",
   "id": "026b239b",
   "metadata": {},
   "source": [
    "### 6)\n",
    "\n",
    "Pide al usuario el número de asteriscos por lado y dibuja un triángulo isosceles con esa cantidad de asteriscos por lado."
   ]
  },
  {
   "cell_type": "code",
   "execution_count": null,
   "id": "5d7123f9",
   "metadata": {},
   "outputs": [],
   "source": []
  }
 ],
 "metadata": {
  "kernelspec": {
   "display_name": "first_try",
   "language": "python",
   "name": "python3"
  },
  "language_info": {
   "codemirror_mode": {
    "name": "ipython",
    "version": 3
   },
   "file_extension": ".py",
   "mimetype": "text/x-python",
   "name": "python",
   "nbconvert_exporter": "python",
   "pygments_lexer": "ipython3",
   "version": "3.9.20"
  }
 },
 "nbformat": 4,
 "nbformat_minor": 5
}
