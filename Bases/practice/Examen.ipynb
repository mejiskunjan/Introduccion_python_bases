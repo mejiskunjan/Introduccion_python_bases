{
  "cells": [
    {
      "cell_type": "markdown",
      "metadata": {
        "colab_type": "text",
        "id": "view-in-github"
      },
      "source": [
        "<a href=\"https://colab.research.google.com/github/alfonso-santos/Introduccion-a-Python-para-las-Finanzas-2024/blob/main/Modulo_01_Fundamentos/src/Solucion_examen_modulo_01.ipynb\" target=\"_parent\"><img src=\"https://colab.research.google.com/assets/colab-badge.svg\" alt=\"Open In Colab\"/></a>"
      ]
    },
    {
      "cell_type": "markdown",
      "metadata": {
        "id": "cnH59-PcaRpm"
      },
      "source": [
        "# Prueba módulo 01"
      ]
    },
    {
      "cell_type": "markdown",
      "metadata": {
        "id": "oK4YlwJxPyLO"
      },
      "source": [
        "## Contexto:\n",
        "\n",
        "Poner de tiempo máximo 1h.\n",
        "\n",
        "Hacerlo en silencio como si fuese un examen.\n",
        "\n",
        "Si alguno tiene dudas y lo necesita que me envíe el código cuando lo termine con las correspondientes dudas."
      ]
    },
    {
      "cell_type": "markdown",
      "metadata": {
        "id": "yl3_Vct9aUfk"
      },
      "source": [
        "## Ejercicio 1.\n",
        "\n",
        "Tenemos una serie de ingresos mensuales en una empresa: 5000, 5500, 6000, 6500, 7000, 7500, 4000, 3000, 8000, 8500, 9000, 9500.\n",
        "\n",
        "También tenemos los gastos mensuales de esa misma empresa: 3000, 3200, 3500, 3700, 3800, 3900, 2000, 3500, 5000, 4000, 4200, 4300.\n",
        "\n",
        "Suponiendo un saldo inicial de 0:\n",
        "\n",
        "Calcula el saldo mensual (ingresos menos gastos). (1.5 pts)\n",
        "\n"
      ]
    },
    {
      "cell_type": "code",
      "execution_count": null,
      "metadata": {
        "colab": {
          "base_uri": "https://localhost:8080/"
        },
        "id": "loqAMcdkaPqI",
        "outputId": "c5d47b56-a0f2-4955-bc1c-d6a7f0b6de4a"
      },
      "outputs": [],
      "source": [
        "# Escribe aquí tu código"
      ]
    },
    {
      "cell_type": "markdown",
      "metadata": {
        "id": "u97jsUsXPyLQ"
      },
      "source": [
        "## Ejercicio 2.\n",
        "\n",
        "Imprime los saldos mensuales. (0.25 pts)\n"
      ]
    },
    {
      "cell_type": "code",
      "execution_count": null,
      "metadata": {
        "colab": {
          "base_uri": "https://localhost:8080/"
        },
        "id": "yXloiyMdPyLQ",
        "outputId": "7a9449be-ced8-4a60-a0d2-f0b19cacfd73"
      },
      "outputs": [],
      "source": [
        "# Escribe aquí tu código"
      ]
    },
    {
      "cell_type": "markdown",
      "metadata": {
        "id": "2gHI7QKfPyLQ"
      },
      "source": [
        "## Ejercicio 3.\n",
        "\n",
        "Calcula el saldo total de los 9 primeros meses. (1.5 pts)\n",
        "\n"
      ]
    },
    {
      "cell_type": "code",
      "execution_count": null,
      "metadata": {
        "id": "LHqZGj5IPyLQ"
      },
      "outputs": [],
      "source": [
        "# Escribe aquí tu código"
      ]
    },
    {
      "cell_type": "markdown",
      "metadata": {
        "id": "f1xgUUfLPyLQ"
      },
      "source": [
        "## Ejercicio 4.\n",
        "\n",
        "Imprime el saldo total de los primeros 9 meses (0.25 pts)\n"
      ]
    },
    {
      "cell_type": "code",
      "execution_count": null,
      "metadata": {
        "colab": {
          "base_uri": "https://localhost:8080/"
        },
        "id": "s3chZDLuPyLQ",
        "outputId": "e253cb2d-7ebe-47ed-a893-862024b23918"
      },
      "outputs": [],
      "source": [
        "# Escribe aquí tu código\n"
      ]
    },
    {
      "cell_type": "markdown",
      "metadata": {
        "id": "MVZnPSXGPyLR"
      },
      "source": [
        "## Ejercicio 5.\n",
        "\n",
        " Imprime el saldo mayor y el saldo menor de todos los saldos (0.5 pts)\n",
        "\n"
      ]
    },
    {
      "cell_type": "code",
      "execution_count": null,
      "metadata": {
        "colab": {
          "base_uri": "https://localhost:8080/"
        },
        "id": "hcSaHrV8PyLR",
        "outputId": "0e3360ea-6e49-4e44-9377-21c9f81f3464"
      },
      "outputs": [],
      "source": [
        "# Escribe aquí tu código"
      ]
    },
    {
      "cell_type": "markdown",
      "metadata": {
        "id": "7cElzplyPyLR"
      },
      "source": [
        "## APARTADO 2"
      ]
    },
    {
      "cell_type": "markdown",
      "metadata": {
        "id": "MStZJxZecGC1"
      },
      "source": [
        "## Ejercicio 6.\n",
        "\n",
        "Tienes tres diccionarios:\n",
        "\n",
        "+ Un diccionario que contiene los precios actuales de las acciones.\n",
        "+ Dos diccionarios que contienen la cantidad de acciones que cada inversor posee.\n",
        "\n",
        "Calcula el valor de la cartera del primer inversor. (1.75 pts)"
      ]
    },
    {
      "cell_type": "code",
      "execution_count": null,
      "metadata": {
        "colab": {
          "base_uri": "https://localhost:8080/"
        },
        "id": "JTKOtlBrcicn",
        "outputId": "d8460661-938e-49b7-fc2f-9dfa7e448a4d"
      },
      "outputs": [],
      "source": [
        "# Escribe aquí tu código\n"
      ]
    },
    {
      "cell_type": "markdown",
      "metadata": {
        "id": "oYJZePhOPyLR"
      },
      "source": [
        "## Ejercicio 7.\n",
        "\n",
        "Calcula el valor de la cartera del segundo inversor. (1.75 pts)\n"
      ]
    },
    {
      "cell_type": "code",
      "execution_count": null,
      "metadata": {
        "colab": {
          "base_uri": "https://localhost:8080/"
        },
        "id": "1GFUzN08PyLR",
        "outputId": "911f412e-cbdf-4c6d-ed20-cfeff7c7f02e"
      },
      "outputs": [],
      "source": [
        "# Escribe aquí tu código"
      ]
    },
    {
      "cell_type": "markdown",
      "metadata": {
        "id": "S_4ErLi6PyLR"
      },
      "source": [
        "## Ejercicio 8.\n",
        "\n",
        "Compáralos e imprime por pantalla el resultado mayor. (0.5 pts)\n"
      ]
    },
    {
      "cell_type": "code",
      "execution_count": null,
      "metadata": {
        "colab": {
          "base_uri": "https://localhost:8080/"
        },
        "id": "ZdMDPWWnPyLR",
        "outputId": "4a69dabc-1155-4e2e-838d-07ecec9fcf78"
      },
      "outputs": [],
      "source": [
        "# Escribe aquí tu código"
      ]
    },
    {
      "cell_type": "markdown",
      "metadata": {
        "id": "DbRC5fuwdR1o"
      },
      "source": [
        "## Ejercicio 9.\n",
        "\n",
        "Crea una función que reciba una lista y te devuelva el último elemento. (0.75 pts)\n"
      ]
    },
    {
      "cell_type": "code",
      "execution_count": null,
      "metadata": {
        "id": "-eoDxR5dPyLR"
      },
      "outputs": [],
      "source": [
        "# Escribe aquí tu código\n"
      ]
    },
    {
      "cell_type": "markdown",
      "metadata": {
        "id": "ipWPKvDZPyLR"
      },
      "source": [
        "## Ejercicio 10.\n",
        "\n",
        "Crea una función que reciba dos listas y te devuelva un diccionario usando la primera como claves y la segunda como valores. (1.25 pts)\n",
        "\n"
      ]
    },
    {
      "cell_type": "code",
      "execution_count": null,
      "metadata": {
        "id": "JSajSkOKPyLR"
      },
      "outputs": [],
      "source": [
        "# Escribe aquí tu código\n"
      ]
    }
  ],
  "metadata": {
    "colab": {
      "include_colab_link": true,
      "provenance": []
    },
    "kernelspec": {
      "display_name": "Python 3",
      "name": "python3"
    },
    "language_info": {
      "codemirror_mode": {
        "name": "ipython",
        "version": 3
      },
      "file_extension": ".py",
      "mimetype": "text/x-python",
      "name": "python",
      "nbconvert_exporter": "python",
      "pygments_lexer": "ipython3",
      "version": "3.11.6"
    }
  },
  "nbformat": 4,
  "nbformat_minor": 0
}
