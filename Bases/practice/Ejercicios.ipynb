{
  "cells": [
    {
      "cell_type": "markdown",
      "metadata": {
        "colab_type": "text",
        "id": "view-in-github"
      },
      "source": [
        "<a href=\"https://colab.research.google.com/github/alfonso-santos/Introduccion-a-Python-para-las-Finanzas-2024/blob/main/Modulo_01_Fundamentos/src/Ejercicios_examen_lunes_21.ipynb\" target=\"_parent\"><img src=\"https://colab.research.google.com/assets/colab-badge.svg\" alt=\"Open In Colab\"/></a>"
      ]
    },
    {
      "cell_type": "markdown",
      "metadata": {
        "id": "nyvINZpP1hcz"
      },
      "source": [
        "# Ejercicios práctica"
      ]
    },
    {
      "cell_type": "markdown",
      "metadata": {
        "id": "rhKZ6klI1yEK"
      },
      "source": [
        "1) Sumar todos los elementos de una lista: Dada una lista de números, utiliza un bucle for para sumar todos los elementos"
      ]
    },
    {
      "cell_type": "code",
      "execution_count": 14,
      "metadata": {
        "colab": {
          "base_uri": "https://localhost:8080/"
        },
        "id": "6Bm6PIKw1d4P",
        "outputId": "0c39306e-9bcf-4a49-eb05-c3044253121c"
      },
      "outputs": [
        {
          "name": "stdout",
          "output_type": "stream",
          "text": [
            "42\n",
            "Total con sum(): 42\n"
          ]
        }
      ],
      "source": [
        "# Ejercicio 1\n",
        "lista_ej_1 = [1,2,3,4,5,6,6,5,4,3,2,1]\n",
        "\n",
        "# Escribe aquí tu código\n",
        "total = 0\n",
        "\n",
        "for num in lista_ej_1:\n",
        "  total = total + num #añadimos el elemento\n",
        "\n",
        "print(total)\n",
        "\n",
        "# Solución con sum\n",
        "total_sum = sum(lista_ej_1)\n",
        "print(f\"Total con sum(): {total_sum}\")"
      ]
    },
    {
      "cell_type": "markdown",
      "metadata": {
        "id": "eJ_ZzRFz2hPC"
      },
      "source": [
        "2) Contar números pares: Dada una lista de enteros, usa un bucle for y un condicional para contar cuántos números son pares."
      ]
    },
    {
      "cell_type": "code",
      "execution_count": 15,
      "metadata": {
        "colab": {
          "base_uri": "https://localhost:8080/"
        },
        "id": "6b1dS1CD2g8D",
        "outputId": "a0763132-e3b1-49df-d441-60e0e8eb5e59"
      },
      "outputs": [
        {
          "name": "stdout",
          "output_type": "stream",
          "text": [
            "6\n"
          ]
        }
      ],
      "source": [
        "# Ejercicio 2\n",
        "lista_ej_2 = [1,2,3,4,5,6,6,5,4,3,2,1]\n",
        "\n",
        "# Escribe aquí tu código\n",
        "total_pares = 0\n",
        "\n",
        "for num in lista_ej_2:\n",
        "  if num % 2 == 0:\n",
        "    total_pares = total_pares + 1 #contamos si es par\n",
        "\n",
        "print(total_pares)"
      ]
    },
    {
      "cell_type": "markdown",
      "metadata": {
        "id": "pt5VM5Q_2p4-"
      },
      "source": [
        "3) Filtrar números negativos: Dada una lista de números, crea una nueva lista que solo contenga los números negativos utilizando un bucle y un condicional."
      ]
    },
    {
      "cell_type": "code",
      "execution_count": 16,
      "metadata": {
        "colab": {
          "base_uri": "https://localhost:8080/"
        },
        "id": "-daYMG6i2rRW",
        "outputId": "f482de9c-dee3-42a1-fec4-71d4eba44991"
      },
      "outputs": [
        {
          "name": "stdout",
          "output_type": "stream",
          "text": [
            "[-3, -7, -2, -5, -4, -7, -8]\n"
          ]
        }
      ],
      "source": [
        "# Ejercicio 3\n",
        "import random\n",
        "lista_ej_3 = [random.randint(-10, 10) for _ in range(10)]\n",
        "\n",
        "# Escribe aquí tu código\n",
        "num_neg = []\n",
        "\n",
        "for num in lista_ej_3:\n",
        "  if num < 0:\n",
        "    num_neg.append(num)\n",
        "\n",
        "print(num_neg)"
      ]
    },
    {
      "cell_type": "markdown",
      "metadata": {
        "id": "Ay94raYj2v6H"
      },
      "source": [
        "4) Multiplicar todos los elementos por 2: Dada una lista, crea una nueva lista que contenga todos los elementos multiplicados por 2."
      ]
    },
    {
      "cell_type": "code",
      "execution_count": 17,
      "metadata": {
        "colab": {
          "base_uri": "https://localhost:8080/"
        },
        "id": "d_Xfhitk2uGg",
        "outputId": "15e1ceaa-d267-4121-e482-fa384cac941c"
      },
      "outputs": [
        {
          "name": "stdout",
          "output_type": "stream",
          "text": [
            "[2, 4, 6, 8, 10, 12, 12, 10, 8, 6, 4, 2]\n",
            "Usando numpy [ 2  4  6  8 10 12 12 10  8  6  4  2]\n"
          ]
        }
      ],
      "source": [
        "# Ejercicio 4\n",
        "lista_ej_4 = [1,2,3,4,5,6,6,5,4,3,2,1]\n",
        "\n",
        "# Escribe aquí tu código\n",
        "por_dos = []\n",
        "\n",
        "for num in lista_ej_4:\n",
        "  por_dos.append(num*2)\n",
        "\n",
        "print(por_dos)\n",
        "\n",
        "# Solución con np.multiply\n",
        "import numpy as np\n",
        "\n",
        "por_dos_numpy = np.multiply(lista_ej_4, 2)\n",
        "\n",
        "print(f\"Usando numpy {por_dos_numpy}\")"
      ]
    },
    {
      "cell_type": "markdown",
      "metadata": {
        "id": "4_immpsf218J"
      },
      "source": [
        "5) Revertir una lista: Usando un bucle for, crea una nueva lista que sea la inversa de la lista original."
      ]
    },
    {
      "cell_type": "code",
      "execution_count": 21,
      "metadata": {
        "colab": {
          "base_uri": "https://localhost:8080/"
        },
        "id": "DMRUxEsn25Ub",
        "outputId": "6b702408-5270-497c-b414-3e1455b86448"
      },
      "outputs": [
        {
          "name": "stdout",
          "output_type": "stream",
          "text": [
            "[0, 9, 6, 3, 4, 8, 21, 4, 7, 5]\n",
            "Usando función reversed(): [0, 9, 6, 3, 4, 8, 21, 4, 7, 5, 2]\n"
          ]
        }
      ],
      "source": [
        "# Ejercicio 5\n",
        "lista_ej_5 = [2,5,7,4,21,8,4,3,6,9,0]\n",
        "\n",
        "# Escribe aqui tu código\n",
        "reves_con_indices = []\n",
        "\n",
        "for i in range(1, len(lista_ej_5), 1):\n",
        "  reves_con_indices.append(lista_ej_5[-i])\n",
        "\n",
        "print(reves_con_indices)\n",
        "\n",
        "# Solución con reversed()\n",
        "usando_reversed = []\n",
        "usando_reversed = list(reversed(lista_ej_5)).copy()\n",
        "\n",
        "print(f\"Usando función reversed(): {usando_reversed}\")"
      ]
    },
    {
      "cell_type": "markdown",
      "metadata": {
        "id": "gwQZurvP27Qb"
      },
      "source": [
        "6) Encontrar el número más grande: Dada una lista de números, utiliza un bucle for y condicionales para encontrar el número más grande."
      ]
    },
    {
      "cell_type": "code",
      "execution_count": 22,
      "metadata": {
        "colab": {
          "base_uri": "https://localhost:8080/"
        },
        "id": "XUyUCbAi2_nG",
        "outputId": "a484704d-e002-48a1-b20c-66baacf29489"
      },
      "outputs": [
        {
          "name": "stdout",
          "output_type": "stream",
          "text": [
            "21\n",
            "Máximo usando max: 21\n"
          ]
        }
      ],
      "source": [
        "# Ejercicio 6\n",
        "lista_ej_6 = [2,5,7,4,21,8,4,3,6,9,0]\n",
        "\n",
        "# Escribe aqui tu código\n",
        "maximo = -1000\n",
        "\n",
        "for num in lista_ej_6:\n",
        "  if num > maximo:\n",
        "    maximo = num\n",
        "\n",
        "print(maximo)\n",
        "\n",
        "# Usando max()\n",
        "max_con_funcion_max = max(lista_ej_6)\n",
        "print(f\"Máximo usando max: {max_con_funcion_max}\")"
      ]
    },
    {
      "cell_type": "markdown",
      "metadata": {
        "id": "C6W3EARl3Ba0"
      },
      "source": [
        "7) Eliminar duplicados: Dada una lista, crea una nueva lista que no contenga elementos duplicados."
      ]
    },
    {
      "cell_type": "code",
      "execution_count": 27,
      "metadata": {
        "colab": {
          "base_uri": "https://localhost:8080/"
        },
        "id": "PoLAgSiO3HwL",
        "outputId": "c8c115d7-b9d3-461b-f29a-1e5b33b072c7"
      },
      "outputs": [
        {
          "name": "stdout",
          "output_type": "stream",
          "text": [
            "[1, 2, 3, 4, 5, 6]\n"
          ]
        }
      ],
      "source": [
        "# Ejercicio 7\n",
        "lista_ej_7 = [1,2,3,4,5,6,6,5,4,3,2,1]\n",
        "\n",
        "# Escribe aquí tu código\n",
        "lista_sin_repetidos = []\n",
        "\n",
        "for num in lista_ej_7:\n",
        "  if num not in lista_sin_repetidos:\n",
        "    lista_sin_repetidos.append(num)\n",
        "\n",
        "print(lista_sin_repetidos)"
      ]
    },
    {
      "cell_type": "markdown",
      "metadata": {
        "id": "dxFIlfP13LA_"
      },
      "source": [
        "8) Contar cuántos números son mayores que 10: Dada una lista de números, cuenta cuántos son mayores que 10."
      ]
    },
    {
      "cell_type": "code",
      "execution_count": 28,
      "metadata": {
        "colab": {
          "base_uri": "https://localhost:8080/"
        },
        "id": "GVpxUUg73Jh1",
        "outputId": "bceb41d2-762e-4205-bafc-faca09b2eade"
      },
      "outputs": [
        {
          "name": "stdout",
          "output_type": "stream",
          "text": [
            "4\n"
          ]
        }
      ],
      "source": [
        "# Ejercicio 8\n",
        "lista_ej_8 = list(range(2,15))\n",
        "\n",
        "# Escribe aquí tu código\n",
        "count_mayores_diez = 0\n",
        "for num in lista_ej_8:\n",
        "  if num > 10:\n",
        "    count_mayores_diez = count_mayores_diez + 1\n",
        "\n",
        "print(count_mayores_diez)"
      ]
    },
    {
      "cell_type": "markdown",
      "metadata": {
        "id": "qCYcPjSV3OlY"
      },
      "source": [
        "9) Calcular el producto de todos los elementos: Usa un bucle for para calcular el producto de todos los elementos de una lista de números."
      ]
    },
    {
      "cell_type": "code",
      "execution_count": 30,
      "metadata": {
        "colab": {
          "base_uri": "https://localhost:8080/"
        },
        "id": "kfs4HVYt3R5Z",
        "outputId": "97108edb-a1e5-4cf8-deae-4ee0321974e8"
      },
      "outputs": [
        {
          "name": "stdout",
          "output_type": "stream",
          "text": [
            "30481920\n"
          ]
        }
      ],
      "source": [
        "# Ejercicio 9\n",
        "lista_ej_9 = [2,5,7,4,21,8,4,3,6,9]\n",
        "\n",
        "# Escribe aqui tu código\n",
        "producto = 1\n",
        "\n",
        "for num in lista_ej_9:\n",
        "  producto = producto * num\n",
        "\n",
        "print(producto)"
      ]
    },
    {
      "cell_type": "markdown",
      "metadata": {
        "id": "c0QUZSWG3W5t"
      },
      "source": [
        "10) Suma de los números impares: Dada una lista de números, utiliza un bucle y un condicional para sumar solo los números impares."
      ]
    },
    {
      "cell_type": "code",
      "execution_count": 32,
      "metadata": {
        "colab": {
          "base_uri": "https://localhost:8080/"
        },
        "id": "SZb0LNNq3aX0",
        "outputId": "20fa3681-281d-4060-d0f1-1e1501c0e2bf"
      },
      "outputs": [
        {
          "name": "stdout",
          "output_type": "stream",
          "text": [
            "[5, 7, 21, 3, 9]\n"
          ]
        }
      ],
      "source": [
        "# Ejercicio 10\n",
        "lista_ej_10 = [2,5,7,4,21,8,4,3,6,9,0]\n",
        "\n",
        "# Escribe aqui tu código\n",
        "impares = []\n",
        "\n",
        "for num in lista_ej_10:\n",
        "  if num % 2 != 0:\n",
        "    impares.append(num)\n",
        "\n",
        "print(impares)"
      ]
    },
    {
      "cell_type": "markdown",
      "metadata": {
        "id": "lw8pi5pd3cK5"
      },
      "source": [
        "11) Comprobar si un número está en la lista: Dada una lista y un número, utiliza un bucle for y un condicional para verificar si el número está en la lista."
      ]
    },
    {
      "cell_type": "code",
      "execution_count": 39,
      "metadata": {
        "colab": {
          "base_uri": "https://localhost:8080/"
        },
        "id": "-PrQvrFF3eUL",
        "outputId": "66c2a078-8073-4b9f-fdb8-7ac75f4fa0ef"
      },
      "outputs": [
        {
          "name": "stdout",
          "output_type": "stream",
          "text": [
            "11 no esta en la lista\n",
            "11 no esta en la lista\n"
          ]
        }
      ],
      "source": [
        "# Ejercicio 11\n",
        "lista_ej_11 = [2,5,7,4,21,8,4,3,6,9,0]\n",
        "elem_encontrar = 11\n",
        "\n",
        "# Escribe aqui tu código\n",
        "valor = f\"{elem_encontrar} no esta en la lista\"\n",
        "for num in lista_ej_11:\n",
        "  if num == elem_encontrar:\n",
        "    valor = f\"{elem_encontrar} esta en la lista\"\n",
        "    break\n",
        "\n",
        "print(valor)\n",
        "\n",
        "# Solucion sin bucle\n",
        "\n",
        "valor_sin_bucle = f\"{elem_encontrar} no esta en la lista\"\n",
        "if elem_encontrar in lista_ej_11:\n",
        "  valor_sin_bucle = f\"{elem_encontrar} esta en la lista\"\n",
        "\n",
        "print(valor_sin_bucle)"
      ]
    },
    {
      "cell_type": "markdown",
      "metadata": {
        "id": "Gr5leuEf3nRh"
      },
      "source": [
        "12) Sumar listas elemento por elemento: Dadas dos listas del mismo tamaño, suma los elementos correspondientes de ambas listas."
      ]
    },
    {
      "cell_type": "code",
      "execution_count": 41,
      "metadata": {
        "colab": {
          "base_uri": "https://localhost:8080/"
        },
        "id": "tWu5IPla3k8y",
        "outputId": "ffd5433c-b3dd-4c57-b54c-c80771baf291"
      },
      "outputs": [
        {
          "name": "stdout",
          "output_type": "stream",
          "text": [
            "[10, 10, 16, 7, 23, 14, 11, 4, 6, 18, 3]\n"
          ]
        }
      ],
      "source": [
        "# Ejercicio 12\n",
        "lista_ej_12 = [2,5,7,4,21,8,4,3,6,9,0]\n",
        "lista_ej_12_aux = [8,5,9,3,2,6,7,1,0,9,3]\n",
        "\n",
        "# Escribe aqui tu código\n",
        "suma_listas = []\n",
        "\n",
        "for i in range(len(lista_ej_12)):\n",
        "  suma_listas.append(lista_ej_12[i]+lista_ej_12_aux[i])\n",
        "\n",
        "print(suma_listas)"
      ]
    },
    {
      "cell_type": "markdown",
      "metadata": {
        "id": "pF0azbRr3tlR"
      },
      "source": [
        "13) Contar palabras largas en una lista: Dada una lista de palabras, cuenta cuántas tienen más de 5 letras."
      ]
    },
    {
      "cell_type": "code",
      "execution_count": 42,
      "metadata": {
        "colab": {
          "base_uri": "https://localhost:8080/"
        },
        "id": "tP0Y32Q13u2g",
        "outputId": "a4c38a51-c402-497c-ec26-a25226cd7ff4"
      },
      "outputs": [
        {
          "name": "stdout",
          "output_type": "stream",
          "text": [
            "3\n"
          ]
        }
      ],
      "source": [
        "# Ejercicio 13\n",
        "lista_ej_13 = ['gato', 'elefante', 'ratón', 'rinoceronte', 'pez', 'mamouth']\n",
        "\n",
        "# Escribe aqui tu código\n",
        "count_palabras = 0\n",
        "\n",
        "for palabra in lista_ej_13:\n",
        "  if len(palabra) > 5:\n",
        "    count_palabras = count_palabras + 1\n",
        "\n",
        "print(count_palabras)"
      ]
    },
    {
      "cell_type": "markdown",
      "metadata": {
        "id": "tGHRLVHr3yC1"
      },
      "source": [
        "14) Crear una lista de cuadrados: Dada una lista de números, genera una nueva lista que contenga los cuadrados de esos números."
      ]
    },
    {
      "cell_type": "code",
      "execution_count": 43,
      "metadata": {
        "colab": {
          "base_uri": "https://localhost:8080/"
        },
        "id": "P64Rz15o3y_V",
        "outputId": "75ceafc8-22ec-4b63-d61c-d5fd99e4e337"
      },
      "outputs": [
        {
          "name": "stdout",
          "output_type": "stream",
          "text": [
            "[64, 25, 81, 9, 4, 36, 49, 1, 0, 81, 9]\n",
            "Con numpy: [64 25 81  9  4 36 49  1  0 81  9]\n"
          ]
        }
      ],
      "source": [
        "# Ejercicio 14\n",
        "lista_ej_14 = [8,5,9,3,2,6,7,1,0,9,3]\n",
        "\n",
        "# Escribe aqui tu código\n",
        "cuadrados = []\n",
        "for num in lista_ej_14:\n",
        "  cuadrados.append(num**2)\n",
        "\n",
        "print(cuadrados)\n",
        "\n",
        "# Solución con numpy\n",
        "import numpy as np\n",
        "cuadrados_numpy = np.multiply(lista_ej_14, lista_ej_14)\n",
        "\n",
        "print(f\"Con numpy: {cuadrados_numpy}\")"
      ]
    },
    {
      "cell_type": "markdown",
      "metadata": {
        "id": "fq0Wlobw327N"
      },
      "source": [
        "15) Eliminar elementos menores que 5: Dada una lista de números, elimina todos los elementos que sean menores que 5."
      ]
    },
    {
      "cell_type": "code",
      "execution_count": 46,
      "metadata": {
        "colab": {
          "base_uri": "https://localhost:8080/"
        },
        "id": "c2_3ZF5K3331",
        "outputId": "63b6dbe7-e3a6-4446-acff-207ca84b1745"
      },
      "outputs": [
        {
          "name": "stdout",
          "output_type": "stream",
          "text": [
            "[8, 9, 6, 7, 9]\n"
          ]
        }
      ],
      "source": [
        "# Ejercicio 15\n",
        "lista_ej_15 = [8,5,9,3,2,6,7,1,0,9,3]\n",
        "\n",
        "# Escribe aqui tu código\n",
        "mayores_cinco = []\n",
        "for num in lista_ej_15:\n",
        "  if num > 5:\n",
        "    mayores_cinco.append(num)\n",
        "\n",
        "print(mayores_cinco)"
      ]
    },
    {
      "cell_type": "markdown",
      "metadata": {
        "id": "HqDw44y03-GU"
      },
      "source": [
        "16) Comprobar si una lista está ordenada: Usa un bucle for para comprobar si una lista está ordenada de forma ascendente."
      ]
    },
    {
      "cell_type": "code",
      "execution_count": 54,
      "metadata": {
        "colab": {
          "base_uri": "https://localhost:8080/"
        },
        "id": "bQHuXVKi3-9T",
        "outputId": "9d7327da-366c-4c36-b955-ba00ada0c532"
      },
      "outputs": [
        {
          "name": "stdout",
          "output_type": "stream",
          "text": [
            "No está ordenada\n",
            "No está ordenada\n"
          ]
        }
      ],
      "source": [
        "# Ejercicio 16\n",
        "lista_ej_16 = [1,2,3,4,6,8,9,3,5,2]\n",
        "\n",
        "# Escribe aqui tu código\n",
        "menor = -10\n",
        "valor = \"Está ordenada\"\n",
        "for num in lista_ej_16:\n",
        "  if num > menor:\n",
        "    menor = num\n",
        "  else:\n",
        "    valor = \"No está ordenada\"\n",
        "\n",
        "print(valor)\n",
        "\n",
        "# Usando sorted()\n",
        "valor_con_sorted = \"Está prdenada\"\n",
        "if lista_ej_16 != sorted(lista_ej_16):\n",
        "  valor_con_sorted = \"No está ordenada\"\n",
        "\n",
        "print(valor_con_sorted)"
      ]
    },
    {
      "cell_type": "markdown",
      "metadata": {
        "id": "KpYIMEpF4CHd"
      },
      "source": [
        "17) Concatenar listas: Dadas dos listas, úsalas para crear una tercera lista que contenga los elementos de ambas."
      ]
    },
    {
      "cell_type": "code",
      "execution_count": 58,
      "metadata": {
        "colab": {
          "base_uri": "https://localhost:8080/"
        },
        "id": "AfzI7wpr4Djr",
        "outputId": "d94d41f4-5688-4e5b-b3d2-623c84f7927a"
      },
      "outputs": [
        {
          "name": "stdout",
          "output_type": "stream",
          "text": [
            "[2, 5, 7, 4, 21, 8, 4, 3, 6, 9, 0, 8, 5, 9, 3, 2, 6, 7, 1, 0, 9, 3]\n",
            "[(2, 8), (5, 5), (7, 9), (4, 3), (21, 2), (8, 6), (4, 7), (3, 1), (6, 0), (9, 9), (0, 3)]\n"
          ]
        }
      ],
      "source": [
        "# Ejercicio 17\n",
        "lista_ej_17 = [2,5,7,4,21,8,4,3,6,9,0]\n",
        "lista_ej_17_aux = [8,5,9,3,2,6,7,1,0,9,3]\n",
        "\n",
        "# Escribe aqui tu código\n",
        "lista_total = []\n",
        "\n",
        "for num in lista_ej_17:\n",
        "  lista_total.append(num)\n",
        "\n",
        "for num in lista_ej_17_aux:\n",
        "  lista_total.append(num)\n",
        "\n",
        "print(lista_total)\n"
      ]
    },
    {
      "cell_type": "markdown",
      "metadata": {
        "id": "AJ6JeZlr4IRV"
      },
      "source": [
        "18) Contar apariciones de un elemento: Dada una lista y un elemento, usa un bucle for para contar cuántas veces aparece ese elemento en la lista."
      ]
    },
    {
      "cell_type": "code",
      "execution_count": 59,
      "metadata": {
        "colab": {
          "base_uri": "https://localhost:8080/"
        },
        "id": "U7S9kIIG4Jbp",
        "outputId": "551b87f9-a34b-4060-a81b-adbc9490def6"
      },
      "outputs": [
        {
          "name": "stdout",
          "output_type": "stream",
          "text": [
            "Elem 5 sale 5 veces\n"
          ]
        }
      ],
      "source": [
        "# Ejercicio 18\n",
        "lista_ej_18 = [5,4,3,6,5,8,3,5,2,9,5,7,0,5]\n",
        "elem_contar = 5\n",
        "\n",
        "# Escribe aqui tu código\n",
        "count = 0\n",
        "for num in lista_ej_18:\n",
        "  if num == elem_contar:\n",
        "    count = count + 1\n",
        "\n",
        "print(f\"Elem {elem_contar} sale {count} veces\")"
      ]
    },
    {
      "cell_type": "markdown",
      "metadata": {
        "id": "qKQYBtKw98w9"
      },
      "source": [
        "19) Dada una lista, crea otra lista que contenga unicamente los primeros 3 elementos y los últimos 3 elementos de la primera lista."
      ]
    },
    {
      "cell_type": "code",
      "execution_count": 65,
      "metadata": {
        "colab": {
          "base_uri": "https://localhost:8080/"
        },
        "id": "8NTbC2iQ-NIq",
        "outputId": "b3a458c0-4fba-4b83-8635-f8bf60a5346c"
      },
      "outputs": [
        {
          "name": "stdout",
          "output_type": "stream",
          "text": [
            "[5, 4, 3, 7, 0, 5]\n",
            "[5, 4, 5, 7, 0, 5]\n"
          ]
        }
      ],
      "source": [
        "# Ejercicio 19\n",
        "lista_ej_18 = [5,4,3,6,5,8,3,5,2,9,5,7,0,5]\n",
        "\n",
        "# Escribe aqui tu código\n",
        "nueva_lista = []\n",
        "for i in range(len(lista_ej_18)):\n",
        "  if (i >= 0 and i <= 2) or (i>(len(lista_ej_18) - 4) and i < len(lista_ej_18)):\n",
        "    nueva_lista.append(lista_ej_18[i])\n",
        "\n",
        "print(nueva_lista)\n",
        "\n",
        "# Solucion facil\n",
        "nueva_lista = []\n",
        "\n",
        "nueva_lista.extend(lista_ej_18[:2])\n",
        "nueva_lista.extend(lista_ej_18[-4:])\n",
        "\n",
        "print(nueva_lista)"
      ]
    },
    {
      "cell_type": "markdown",
      "metadata": {
        "id": "r42t9Tl38Dz_"
      },
      "source": [
        "20) Diccionarios.\n",
        "\n",
        "Tenemos un diccionario que contiene 10 tickers con su valor.\n",
        "\n",
        "Tenemos un segundo diccionario que contiene los mismos 10 tickers con la cantidad de acciones que tenemos de ese ticker.\n",
        "\n",
        "Usando un bucle, calcula cuanto vale mi cartera tienendo en cuenta que el valor es la suma de la cantidad de acciones de cada ticker * su valor"
      ]
    },
    {
      "cell_type": "code",
      "execution_count": 67,
      "metadata": {
        "colab": {
          "base_uri": "https://localhost:8080/"
        },
        "id": "ijc-U1LB8sM7",
        "outputId": "abcb2759-8409-412d-b9fc-96f4d9e7cf42"
      },
      "outputs": [
        {
          "name": "stdout",
          "output_type": "stream",
          "text": [
            "El valor total de la cartera es: $64943.00\n"
          ]
        }
      ],
      "source": [
        "# Ejericico largo\n",
        "valores = {\n",
        "    'AAPL': 174.55,\n",
        "    'GOOGL': 138.20,\n",
        "    'AMZN': 125.65,\n",
        "    'TSLA': 265.75,\n",
        "    'MSFT': 313.45,\n",
        "    'NFLX': 405.50,\n",
        "    'NVDA': 450.10,\n",
        "    'META': 290.25,\n",
        "    'INTC': 35.40,\n",
        "    'IBM': 135.80\n",
        "}\n",
        "\n",
        "acciones = {\n",
        "    'AAPL': 50,\n",
        "    'GOOGL': 30,\n",
        "    'AMZN': 20,\n",
        "    'TSLA': 15,\n",
        "    'MSFT': 40,\n",
        "    'NFLX': 25,\n",
        "    'NVDA': 10,\n",
        "    'META': 35,\n",
        "    'INTC': 60,\n",
        "    'IBM': 45\n",
        "}\n",
        "\n",
        "# Calcular el valor total de la cartera\n",
        "valor_total = 0\n",
        "\n",
        "for ticker in acciones:\n",
        "    valor_total += acciones[ticker] * valores[ticker]\n",
        "\n",
        "# Imprimir el valor total de la cartera\n",
        "print(f\"El valor total de la cartera es: ${valor_total:.2f}\")"
      ]
    }
  ],
  "metadata": {
    "colab": {
      "authorship_tag": "ABX9TyNpewiIO0S7atP0ZQLobK2V",
      "include_colab_link": true,
      "provenance": []
    },
    "kernelspec": {
      "display_name": "Python 3",
      "name": "python3"
    },
    "language_info": {
      "name": "python"
    }
  },
  "nbformat": 4,
  "nbformat_minor": 0
}
