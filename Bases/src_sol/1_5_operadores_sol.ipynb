{
  "cells": [
    {
      "cell_type": "markdown",
      "metadata": {
        "id": "uh7Krk2HEVmT"
      },
      "source": [
        "# Operadores"
      ]
    },
    {
      "cell_type": "markdown",
      "metadata": {
        "id": "bFHhfveyEVmV"
      },
      "source": [
        "## Operadores aritméticos"
      ]
    },
    {
      "cell_type": "markdown",
      "metadata": {
        "id": "QOk9U7dmEVmV"
      },
      "source": [
        "|Operador|Descripción|Uso|\n",
        "|-|-|-|\n",
        "|+|\tRealiza Adición entre los operandos|\t12 + 3 = 15|\n",
        "|-|\tRealiza Substracción entre los operandos|\t12 - 3 = 9|\n",
        "|*|\tRealiza Multiplicación entre los operandos|\t12 * 3 = 36|\n",
        "|/|\tRealiza División entre los operandos|\t12 / 3 = 4|\n",
        "|**|\tRealiza la potencia de los operandos|\t2 ** 3 = 8|"
      ]
    },
    {
      "cell_type": "code",
      "execution_count": null,
      "metadata": {
        "id": "K42KnNjbEVmW",
        "outputId": "382b9b93-44c7-49af-f797-88fb70a93a74"
      },
      "outputs": [
        {
          "data": {
            "text/plain": [
              "-74"
            ]
          },
          "execution_count": 2,
          "metadata": {},
          "output_type": "execute_result"
        }
      ],
      "source": [
        "12+3-89"
      ]
    },
    {
      "cell_type": "code",
      "execution_count": null,
      "metadata": {
        "id": "48008nVYEVmW",
        "outputId": "14083b08-b461-4334-c758-7eeabf13689f"
      },
      "outputs": [
        {
          "data": {
            "text/plain": [
              "4.0"
            ]
          },
          "execution_count": 3,
          "metadata": {},
          "output_type": "execute_result"
        }
      ],
      "source": [
        "12*3/9"
      ]
    },
    {
      "cell_type": "code",
      "execution_count": null,
      "metadata": {
        "colab": {
          "base_uri": "https://localhost:8080/"
        },
        "id": "2hqhqIIQEVmX",
        "outputId": "818262a8-63cd-49e5-beee-8d836cdbde78"
      },
      "outputs": [
        {
          "data": {
            "text/plain": [
              "8"
            ]
          },
          "execution_count": 6,
          "metadata": {},
          "output_type": "execute_result"
        }
      ],
      "source": [
        "2**3"
      ]
    },
    {
      "cell_type": "markdown",
      "metadata": {
        "id": "O8wYpurhEVmX"
      },
      "source": [
        "## Operadores Relacionales o de Comparación"
      ]
    },
    {
      "cell_type": "markdown",
      "metadata": {
        "id": "WaWOyUynEVmX"
      },
      "source": [
        "|Operador|Descripción|Uso|\n",
        "|-|-|-|\n",
        "|>\t|Devuelve True si el operador de la izquierda es mayor que el operador de la derecha|\t12 > 3 devuelve True|\n",
        "|<\t|Devuelve True si el operador de la derecha es mayor que el operador de la izquierda|\t12 < 3 devuelve False|\n",
        "|==\t|Devuelve True si ambos operandos son iguales|\t12 == 3 devuelve False|\n",
        "|>=\t|Devuelve True si el operador de la izquierda es mayor o igual que el operador de la derecha|\t12 >= 3 devuelve True|\n",
        "|<=\t|Devuelve True si el operador de la derecha es mayor o igual que el operador de la izquierda|\t12 <= 3 devuelve False|\n",
        "|!=\t|Devuelve True si ambos operandos no son iguales|\t12 != 3 devuelve True|\n",
        "| is | Devuelve True si ambos objetos son el mismo| a is b devuelve True si son lo mismo|\n",
        "| is not | Devuelve True si ambos objetos no son el mismo| a is not  b devuelve True si son distintos|"
      ]
    },
    {
      "cell_type": "code",
      "execution_count": null,
      "metadata": {
        "id": "f4r8sAU9EVmX",
        "outputId": "2cb2fcb4-41a8-4951-ce9d-d1a17e199103"
      },
      "outputs": [
        {
          "data": {
            "text/plain": [
              "True"
            ]
          },
          "execution_count": 8,
          "metadata": {},
          "output_type": "execute_result"
        }
      ],
      "source": [
        "12 > 3"
      ]
    },
    {
      "cell_type": "code",
      "execution_count": null,
      "metadata": {
        "id": "qLY4Ky3TEVmX",
        "outputId": "3859ad40-f8aa-471d-e18d-dd80334899ac"
      },
      "outputs": [
        {
          "data": {
            "text/plain": [
              "False"
            ]
          },
          "execution_count": 9,
          "metadata": {},
          "output_type": "execute_result"
        }
      ],
      "source": [
        "12 < 3"
      ]
    },
    {
      "cell_type": "code",
      "execution_count": null,
      "metadata": {
        "id": "x0PfLK4AEVmX",
        "outputId": "73d5f01b-8aaa-4c65-9b24-83be7a783896"
      },
      "outputs": [
        {
          "data": {
            "text/plain": [
              "False"
            ]
          },
          "execution_count": 10,
          "metadata": {},
          "output_type": "execute_result"
        }
      ],
      "source": [
        "12 == 3"
      ]
    },
    {
      "cell_type": "code",
      "execution_count": null,
      "metadata": {
        "id": "qnce2Pg6EVmY",
        "outputId": "4f3de3d9-8f00-4e7e-fb4c-2c248a4e4d19"
      },
      "outputs": [
        {
          "data": {
            "text/plain": [
              "True"
            ]
          },
          "execution_count": 11,
          "metadata": {},
          "output_type": "execute_result"
        }
      ],
      "source": [
        "12 == 4*3"
      ]
    },
    {
      "cell_type": "code",
      "execution_count": null,
      "metadata": {
        "id": "7pYFPKg9EVmY",
        "outputId": "7401b125-a03b-4346-bc35-fe61b11c4831"
      },
      "outputs": [
        {
          "data": {
            "text/plain": [
              "True"
            ]
          },
          "execution_count": 13,
          "metadata": {},
          "output_type": "execute_result"
        }
      ],
      "source": [
        "a = 1\n",
        "b = 1\n",
        "a is b"
      ]
    },
    {
      "cell_type": "code",
      "execution_count": null,
      "metadata": {
        "id": "R7D38p4sEVmY",
        "outputId": "37c883fc-d102-48f3-f23e-43716f6d7c12"
      },
      "outputs": [
        {
          "name": "stdout",
          "output_type": "stream",
          "text": [
            "False\n",
            "True\n"
          ]
        }
      ],
      "source": [
        "a = 1\n",
        "b = 'perro'\n",
        "print(a is b)\n",
        "print(a is not b)"
      ]
    },
    {
      "cell_type": "markdown",
      "metadata": {
        "id": "Pr0KhKjoEVmY"
      },
      "source": [
        "# Operadores Lógicos"
      ]
    },
    {
      "cell_type": "markdown",
      "metadata": {
        "id": "9w0R1lZpEVmY"
      },
      "source": [
        "|Operador|Descripción|Uso|\n",
        "|-|-|-|\n",
        "|and\t|Devuelve True si ambos operandos son True|\ta and b|\n",
        "|or\t|Devuelve True si alguno de los operandos es True|\ta or b|\n",
        "|not\t|Devuelve True si alguno de los operandos False|\tnot a|"
      ]
    },
    {
      "cell_type": "markdown",
      "metadata": {
        "id": "sLB1O7S-EVmY"
      },
      "source": [
        "Tabla del **OR**\n",
        "\n",
        "|A|B|Resultado|\n",
        "|-|-|-|\n",
        "|True|True|True|\n",
        "|True|False|True|\n",
        "|False|True|True|\n",
        "|False|False|False|"
      ]
    },
    {
      "cell_type": "markdown",
      "metadata": {
        "id": "1SC2orFyEVmY"
      },
      "source": [
        "Tabla del **AND**\n",
        "\n",
        "|A|B|Resultado|\n",
        "|-|-|-|\n",
        "|True|True|True|\n",
        "|True|False|False|\n",
        "|False|True|False|\n",
        "|False|False|True|"
      ]
    },
    {
      "cell_type": "code",
      "execution_count": null,
      "metadata": {
        "id": "Fx5WBcMBEVmY",
        "outputId": "467ff450-a651-44b7-f95d-02d48fe975b6"
      },
      "outputs": [
        {
          "data": {
            "text/plain": [
              "False"
            ]
          },
          "execution_count": 16,
          "metadata": {},
          "output_type": "execute_result"
        }
      ],
      "source": [
        "12 > 3 and 4 > 5\n"
      ]
    },
    {
      "cell_type": "code",
      "execution_count": null,
      "metadata": {
        "id": "-BfIMr-JEVmY",
        "outputId": "3b05e2d8-33f8-4503-8315-f07ed1c2c26c"
      },
      "outputs": [
        {
          "data": {
            "text/plain": [
              "True"
            ]
          },
          "execution_count": 17,
          "metadata": {},
          "output_type": "execute_result"
        }
      ],
      "source": [
        "12 > 3 and 5 > 4"
      ]
    },
    {
      "cell_type": "code",
      "execution_count": null,
      "metadata": {
        "id": "-Y7VNOSVEVmZ",
        "outputId": "a88fa34d-eb83-45a9-857e-7301bcbc27ac"
      },
      "outputs": [
        {
          "data": {
            "text/plain": [
              "True"
            ]
          },
          "execution_count": 18,
          "metadata": {},
          "output_type": "execute_result"
        }
      ],
      "source": [
        "12 > 3 or 4 > 5"
      ]
    },
    {
      "cell_type": "code",
      "execution_count": null,
      "metadata": {
        "id": "HpLRIYz-EVmZ",
        "outputId": "badc9954-3102-4645-a8d6-ffbaca5890f6"
      },
      "outputs": [
        {
          "data": {
            "text/plain": [
              "False"
            ]
          },
          "execution_count": 19,
          "metadata": {},
          "output_type": "execute_result"
        }
      ],
      "source": [
        "3 > 7 and 4 > 5"
      ]
    },
    {
      "cell_type": "code",
      "execution_count": null,
      "metadata": {
        "id": "gxgJ0BYwEVmZ",
        "outputId": "6565d9ab-7557-4bf8-e3ae-c2dd7ea35dbe"
      },
      "outputs": [
        {
          "data": {
            "text/plain": [
              "False"
            ]
          },
          "execution_count": 21,
          "metadata": {},
          "output_type": "execute_result"
        }
      ],
      "source": [
        "not(7 > 2)"
      ]
    },
    {
      "cell_type": "code",
      "execution_count": null,
      "metadata": {
        "id": "Dif-t86SEVmZ",
        "outputId": "f22946ce-0aff-48be-a54a-ae07af9ba1cf"
      },
      "outputs": [
        {
          "data": {
            "text/plain": [
              "True"
            ]
          },
          "execution_count": 22,
          "metadata": {},
          "output_type": "execute_result"
        }
      ],
      "source": [
        "not(7 < 2)"
      ]
    },
    {
      "cell_type": "markdown",
      "metadata": {
        "id": "HIV0GZnAFEXs"
      },
      "source": [
        "## Práctica"
      ]
    },
    {
      "cell_type": "markdown",
      "metadata": {
        "id": "ayI54_fUFJfH"
      },
      "source": [
        "<div style=\"background-color:rgb(60, 79, 114); padding: 10px;\">\n",
        "\n",
        "A un cliente le han regalado 1321 acciones de una empresa. Cada acción cotiza ahora mismo a 4.67€. El cliente no sabe usar una calculadora así que te pide que por favor le digas el valor de su cartera de valores.\n",
        "\n",
        "Nota: asigna buenos nombres a las variables. Si vas a calcular el valor de la cartera no lo llames 'x', llámalo 'valor_cartera'\n",
        "\n",
        "Imprime por pantalla el resultado"
      ]
    },
    {
      "cell_type": "code",
      "execution_count": null,
      "metadata": {
        "id": "UqaJp_qCFGKo"
      },
      "outputs": [],
      "source": [
        "# Escribe aquí tu código\n"
      ]
    },
    {
      "cell_type": "markdown",
      "metadata": {
        "id": "9nE1aC-FFv5X"
      },
      "source": [
        "<div style=\"background-color:rgb(60, 79, 114); padding: 10px;\">\n",
        "\n",
        "Resulta que además quiere liquidar todas las acciones y esto conlleva pagar impuestos que son un 20% de la rentabilidad obtenida. Calcula cuanto va a tener que pagar e imprímelo por pantalla."
      ]
    },
    {
      "cell_type": "code",
      "execution_count": null,
      "metadata": {
        "id": "3IJpXIHdGICq"
      },
      "outputs": [],
      "source": [
        "# Escribe aquí tu código\n"
      ]
    },
    {
      "cell_type": "markdown",
      "metadata": {
        "id": "B7JsjzX3Isar"
      },
      "source": [
        "<div style=\"background-color:rgb(60, 79, 114); padding: 10px;\">\n",
        "\n",
        "Ahora queremos escribir un programa que, dado una facturación trimestral como autónomo, calcule cuanto le queda despues de pagar impuestos ese trimestre.\n",
        "\n",
        "De la facturación, el 37% es beneficio, y es sobre eso sobre lo que se pagan impuestos.\n",
        "\n",
        "Vamos a suponer que la cuota se paga trimestralmente y que equivale a 280€ al mes.\n",
        "Vamos a suponer que la sociedad se paga trismestralmente y es un 20% del rendimiento.\n",
        "Vamos a suponer que el irpf es un 38% y se paga junto con la sociedad.\n",
        "\n",
        "Imprime por pantalla cuanto paga de cada impuesto y cuanto le queda (utiliza 2 decimales)"
      ]
    },
    {
      "cell_type": "code",
      "execution_count": null,
      "metadata": {
        "id": "eXf0qre5Isar"
      },
      "outputs": [],
      "source": [
        "ingreso_trimestral = 20000\n",
        "\n",
        "# Escribe aquí tu código"
      ]
    },
    {
      "cell_type": "markdown",
      "metadata": {
        "id": "gPHgDMOYIsar"
      },
      "source": [
        "<div style=\"background-color:rgb(60, 79, 114); padding: 10px;\">\n",
        "\n",
        "Define A y B como true o false.\n",
        "\n",
        "Imprime por pantalla la tabla OR para A y B\n",
        "\n",
        "Las combinaciones son TRUE-TRUE, TRUE-FALSE, FALSE-TRUE, FALSE-FALSE\n",
        "\n",
        "En la celda de abajo encontrarás 2 entradas de la tabla AND para A y B\n"
      ]
    },
    {
      "cell_type": "code",
      "execution_count": 1,
      "metadata": {
        "colab": {
          "base_uri": "https://localhost:8080/"
        },
        "id": "rX9pfVc0Isar",
        "outputId": "ecd7b45c-9f6e-49f6-eeec-c5d8070ce208"
      },
      "outputs": [
        {
          "name": "stdout",
          "output_type": "stream",
          "text": [
            "Tabla AND para A y B\n",
            "A=True AND B=True ==> True\n",
            "A=True AND B=False ==> False\n",
            ".\n",
            ".\n",
            ".\n",
            "\n"
          ]
        }
      ],
      "source": [
        "print(\"Tabla AND para A y B\")\n",
        "# Definir A y B\n",
        "A = True\n",
        "B = True\n",
        "print(f\"A={A} AND B={B} ==> {A and B}\")\n",
        "\n",
        "A = True\n",
        "B = False\n",
        "print(f\"A={A} AND B={B} ==> {A and B}\")\n",
        "print(\".\\n.\\n.\\n\")"
      ]
    },
    {
      "cell_type": "markdown",
      "metadata": {
        "id": "77NziynTEZuy"
      },
      "source": [
        "# Ejercicio de prueba"
      ]
    },
    {
      "cell_type": "markdown",
      "metadata": {
        "id": "WTOw2MTcEcTY"
      },
      "source": [
        "Un banco ofrece diferentes tipos de cuentas de ahorro con tasas de interés anuales. El objetivo del ejercicio es calcular el interés simple y determinar si una cuenta de ahorro es rentable o no según ciertas condiciones.\n",
        "\n",
        "Se deben pedir por teclado los siguientes datos (puedes buscar en google como se solicita información por teclado):\n",
        "\n",
        "Cantidad inicial: el dinero inicial que deposita el cliente.\n",
        "\n",
        "Tasa de interés: la tasa de interés anual en porcentaje.\n",
        "\n",
        "Años: el número de años que el dinero estará en la cuenta.\n",
        "\n",
        "\n",
        "La fórmula del interés simple es la siguiente:\n",
        "\n",
        "$$\n",
        "\\text{Interés simple} = \\text{Cantidad inicial} \\times \\text{Tasa de interés} \\times \\text{Años}\n",
        "$$\n",
        "\n",
        "\n",
        "Después de calcular el interés, el programa deberá:\n",
        "\n",
        "Mostrar el total acumulado (Cantidad inicial + Interés simple).\n",
        "\n",
        "Decidir si la inversión es \"Rentable\" o \"No rentable\":\n",
        "\n",
        "1- Es rentable si el cantidad total acumulado es mayor a $1.200$ después de los años indicados.\n",
        "\n",
        "2- Es no rentable si el cantidad total acumulado es menor o igual a $1.200$.\n",
        "\n",
        "El programa imprimirá el mensaje final:\n",
        "\n",
        "\"Rentable\" si el total acumulado es mayor a $1.200$.\n",
        "\"No rentable\" en caso contrario."
      ]
    },
    {
      "cell_type": "code",
      "execution_count": null,
      "metadata": {
        "colab": {
          "base_uri": "https://localhost:8080/"
        },
        "id": "cYzuaBQ3EcAH",
        "outputId": "5a893f0b-4dc6-4247-fe92-55a54a934fd0"
      },
      "outputs": [
        {
          "name": "stdout",
          "output_type": "stream",
          "text": [
            "Cuantos años tienes: 4\n",
            "4\n"
          ]
        }
      ],
      "source": [
        "# Ejemplo de solicitud de informacion por pantalla\n",
        "tu_edad = int(input(\"Cuantos años tienes: \"))"
      ]
    },
    {
      "cell_type": "code",
      "execution_count": null,
      "metadata": {
        "id": "DeOyLOBxEa6T"
      },
      "outputs": [],
      "source": [
        "print(tu_edad)"
      ]
    },
    {
      "cell_type": "markdown",
      "metadata": {
        "id": "onpPtqnOEq-b"
      },
      "source": [
        "int() informa del tipo de variable que se espera recibir\n",
        "\n",
        "input() dice la variable se va a escribir por teclado"
      ]
    },
    {
      "cell_type": "code",
      "execution_count": null,
      "metadata": {
        "id": "zYfSO1YZEtgb"
      },
      "outputs": [],
      "source": [
        "# Escribe aquí tu código\n",
        "\n",
        "# Solicitar datos al usuario\n",
        "cantidad_inicial = float(input(\"Introduce la cantidad inicial (€): \"))\n",
        "tasa_interes = float(input(\"Introduce la tasa de interés anual (%): \"))\n",
        "años = int(input(\"Introduce el número de años: \"))\n",
        "\n",
        "# Convertir la tasa de interés a decimal\n",
        "tasa_decimal = tasa_interes / 100\n",
        "\n",
        "# Calcular el interés simple\n",
        "interes_simple = cantidad_inicial * tasa_decimal * años\n",
        "\n",
        "# Calcular el total acumulado\n",
        "total_acumulado = cantidad_inicial + interes_simple\n",
        "\n",
        "# Mostrar resultados\n",
        "print(f\"\\nInterés generado: €{interes_simple:.2f}\")\n",
        "print(f\"Total acumulado: €{total_acumulado:.2f}\")\n",
        "\n",
        "# Determinar si es rentable\n",
        "if total_acumulado > 1200:\n",
        "    print(\"Rentable\")\n",
        "else:\n",
        "    print(\"No rentable\")"
      ]
    }
  ],
  "metadata": {
    "colab": {
      "provenance": []
    },
    "kernelspec": {
      "display_name": "Python 3.8.8 ('base')",
      "language": "python",
      "name": "python3"
    },
    "language_info": {
      "codemirror_mode": {
        "name": "ipython",
        "version": 3
      },
      "file_extension": ".py",
      "mimetype": "text/x-python",
      "name": "python",
      "nbconvert_exporter": "python",
      "pygments_lexer": "ipython3",
      "version": "3.10.3"
    },
    "orig_nbformat": 4,
    "vscode": {
      "interpreter": {
        "hash": "3a2a03ea413f8be244ba01daf0e257f98f0dabeb03c7836e7000a0f3738aa8c9"
      }
    }
  },
  "nbformat": 4,
  "nbformat_minor": 0
}
