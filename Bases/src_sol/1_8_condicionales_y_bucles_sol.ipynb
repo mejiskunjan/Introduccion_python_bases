{
  "cells": [
    {
      "cell_type": "markdown",
      "metadata": {
        "id": "ncuuV7KgTOE1"
      },
      "source": [
        "A partir de ahora cobran vital importancia los **ESPACIOS**. Se utilizarán para delimitar la *estructura jerárquica* del código y el *contexto* de las variables.\n",
        "\n",
        "* Utilizaremos el tabulador para añadir un *nivel de anidamiento*."
      ]
    },
    {
      "cell_type": "code",
      "execution_count": null,
      "metadata": {
        "id": "3dIICgnqTOE3"
      },
      "outputs": [],
      "source": [
        "#NIVEL 1\n",
        "    #NIVEL 2\n",
        "        #NIVEL 3\n",
        "            #NIVEL 4"
      ]
    },
    {
      "cell_type": "markdown",
      "metadata": {
        "id": "vywGO-AlTOE3"
      },
      "source": [
        "# Condicionales\n",
        "\n",
        "Las instrucciones condicionales se utilizan para **ejecutar o no** determinadas **partes del código** en función de **si se cumplen o no** algunas **condiciones**.\n",
        "\n",
        "Al final, son como las decisiones que tomamos en la vida diaria. Imagina que tienes una decisión que tomar: si hoy llueve, llevarás un paraguas contigo. Si no llueve, no lo llevarás.\n",
        "\n",
        "```\n",
        "si hoy llueve entonces\n",
        "    llevar paraguas\n",
        "si no\n",
        "    no llevar paraguas\n",
        "```"
      ]
    },
    {
      "cell_type": "markdown",
      "metadata": {
        "id": "lHbBiGRKTOE4"
      },
      "source": [
        "## if\n",
        "```python\n",
        "if condicion:\n",
        "    codigo a ejecutar\n",
        "```\n",
        "\n",
        "- La condición puede ser `True` o `False`, se usan operadores lógicos (`and` / `or`) o relacionales (`>, <, >=, <=`)\n",
        "- La línea tiene que terminar en `:`\n",
        "- El bloque de código se ejecuta cuando **se cumple** la condición del `if`"
      ]
    },
    {
      "cell_type": "code",
      "execution_count": null,
      "metadata": {
        "id": "Y2aNQC20TOE4"
      },
      "outputs": [],
      "source": [
        "llueve = True\n",
        "\n",
        "if llueve == True: # Se lee como \"Si llueve entonces...\"\n",
        "    llevar_paraguas = True"
      ]
    },
    {
      "cell_type": "markdown",
      "metadata": {
        "id": "Msld9PI7TOE4"
      },
      "source": [
        "Aquí, `llueve` es la condición que estamos comprobando. Si `llueve` es `True` (es decir, si está lloviendo), entonces el código dentro del bloque `if` se ejecutará, y `llevar_paraguas` se establecerá en `True`."
      ]
    },
    {
      "cell_type": "code",
      "execution_count": null,
      "metadata": {
        "id": "E5rBpyohTOE4",
        "outputId": "29adb1de-2357-4bdf-f3a3-0b7c797d3a0c"
      },
      "outputs": [
        {
          "name": "stdout",
          "output_type": "stream",
          "text": [
            "x es mayor que 5\n"
          ]
        }
      ],
      "source": [
        "x = 7\n",
        "\n",
        "if x > 5: # Se lee como \"si x es mayor que 5 entonces...\"\n",
        "    print(\"x es mayor que 5\")\n"
      ]
    },
    {
      "cell_type": "markdown",
      "metadata": {
        "id": "jCCULd9TTOE4"
      },
      "source": [
        "## if else\n",
        "```python\n",
        "if condicion:\n",
        "    codigo a ejecutar\n",
        "else:\n",
        "    otro codigo a ejecutar\n",
        "```\n",
        "- Se añade otra línea con `else` para contemplar todas las situacion que no se han tenido en cuenta en el caso del `if`\n",
        "- También tiene su propio codigo que solo se ejecuta cuando **no se cumple** la condición del `if`"
      ]
    },
    {
      "cell_type": "code",
      "execution_count": null,
      "metadata": {
        "id": "U9NTRGicTOE5"
      },
      "outputs": [],
      "source": [
        "llueve = False\n",
        "\n",
        "if llueve == True:  # Se lee como \"Si llueve entonces...\"\n",
        "    llevar_paraguas = True\n",
        "else:\n",
        "    llevar_paraguas = False # Se lee como \"Si no...\""
      ]
    },
    {
      "cell_type": "code",
      "execution_count": null,
      "metadata": {
        "id": "BWQO8mZ5W3aJ"
      },
      "outputs": [],
      "source": [
        "llevar_paraguas"
      ]
    },
    {
      "cell_type": "markdown",
      "metadata": {
        "id": "kT06xrUmTOE5"
      },
      "source": [
        "Aquí, `llueve` es la condición que estamos comprobando. Si `llueve` es `True` (es decir, si está lloviendo), entonces el código dentro del bloque `if` se ejecutará, y `llevar_paraguas` se establecerá en `True`.\n",
        "\n",
        "Si `llueve` es `False` (no está lloviendo), entonces el código dentro del bloque `else` se ejecutará, y `llevar_paraguas` se establecerá en `False`."
      ]
    },
    {
      "cell_type": "code",
      "execution_count": null,
      "metadata": {
        "id": "2eUnm8WSTOE5",
        "outputId": "4ec7ecea-e497-4761-a55d-1f81a737d2fe"
      },
      "outputs": [
        {
          "name": "stdout",
          "output_type": "stream",
          "text": [
            "x es mayor que 5\n"
          ]
        }
      ],
      "source": [
        "x = 7\n",
        "\n",
        "if x > 5: # Se lee como \"si x es mayor que 5 entonces...\"\n",
        "    print(\"x es mayor que 5\")\n",
        "else: # Se lee como \"si no...\"\n",
        "    print(\"x es menor que 5\")"
      ]
    },
    {
      "cell_type": "code",
      "execution_count": null,
      "metadata": {
        "id": "GiNZH_FGTOE5",
        "outputId": "e0a2ac03-bf40-4b29-8d01-5ea8f4f4e207"
      },
      "outputs": [
        {
          "name": "stdout",
          "output_type": "stream",
          "text": [
            "x es menor que 5\n"
          ]
        }
      ],
      "source": [
        "x = 4\n",
        "\n",
        "if x > 5:\n",
        "    print(\"x es mayor que 5\")\n",
        "else:\n",
        "    print(\"x es menor que 5\")"
      ]
    },
    {
      "cell_type": "markdown",
      "metadata": {
        "id": "9qKsP5ooTOE5"
      },
      "source": [
        "## elif\n",
        "```python\n",
        "if condicion:\n",
        "    codigo a ejecutar 1\n",
        "elif otra condicion:\n",
        "    codigo a ejecutar 2\n",
        "else:\n",
        "    otro codigo a ejecutar 3"
      ]
    },
    {
      "cell_type": "code",
      "execution_count": null,
      "metadata": {
        "id": "sXzxfSMwTOE5",
        "outputId": "abe73237-c014-4c35-c95c-de027ba922a1"
      },
      "outputs": [
        {
          "name": "stdout",
          "output_type": "stream",
          "text": [
            "x < y\n"
          ]
        }
      ],
      "source": [
        "x = 10\n",
        "y = 12\n",
        "\n",
        "if x > y: # Se lee como \"si x es mayor que y entonces...\"\n",
        "    print(\"x > y\")\n",
        "elif x < y: # Se lee como \"si no, si x es menor que y entonces...\"\n",
        "    print(\"x < y\")\n",
        "else: # Se lee como \"si no...\"\n",
        "    print(\"x = y\")"
      ]
    },
    {
      "cell_type": "markdown",
      "metadata": {
        "id": "m2KEbLUwW7yX"
      },
      "source": [
        "### Práctica condicional"
      ]
    },
    {
      "cell_type": "markdown",
      "metadata": {
        "id": "GKt2jYTkXULd"
      },
      "source": [
        "Ana cobra 1200 euros brutos al mes y recibe 12 pagas al año. Belén cobra 1000 euros brutos pero en 14 pagas:\n",
        "- Calcula cuanto cobra cada una al año.\n",
        "- Muestra el salario de la que más cobre por pantalla."
      ]
    },
    {
      "cell_type": "code",
      "execution_count": null,
      "metadata": {
        "id": "Rgb0IpxbYhtQ"
      },
      "outputs": [],
      "source": [
        "# Escribe aquí tu código\n",
        "\n",
        "salario_ana = 1200*12\n",
        "salario_belen = 1000*14\n",
        "\n",
        "if salario_ana > salario_belen:\n",
        "    print(\"Ana tiene un salario anual mayor que Belén\")\n",
        "elif salario_ana < salario_belen:\n",
        "    print(\"Belén tiene un salario anual mayor que Ana\")\n",
        "else:\n",
        "    print(\"Ana y Belén tienen el mismo salario anual\")"
      ]
    },
    {
      "cell_type": "markdown",
      "metadata": {
        "id": "-rv-_jfwTOE5"
      },
      "source": [
        "# Bucles\n",
        "\n",
        "Los bucles se utilizan para **repetir** un bloque de instrucciones **hasta que o mientras que** se cumpla una **condición**."
      ]
    },
    {
      "cell_type": "markdown",
      "metadata": {
        "id": "9kM8K2x8TOE5"
      },
      "source": [
        "## for\n",
        "```python\n",
        "for variable in algo:\n",
        "    codigo a ejecutar\n",
        "```\n",
        "\n",
        "- Ese algo puede ser rango, lista, tupla...."
      ]
    },
    {
      "cell_type": "code",
      "execution_count": null,
      "metadata": {
        "id": "ox6j7VXnTOE5",
        "outputId": "fa13f4e1-73c8-4883-aac0-86977c2cebb4"
      },
      "outputs": [
        {
          "name": "stdout",
          "output_type": "stream",
          "text": [
            "0\n",
            "1\n",
            "2\n",
            "3\n",
            "4\n"
          ]
        }
      ],
      "source": [
        "# Podemos usar un range para iterar sobre una secuencia de números\n",
        "for i in range(5): # Se lee como \"para cada i en el rango de 0 a 5...\"\n",
        "    print(i)\n"
      ]
    },
    {
      "cell_type": "code",
      "execution_count": null,
      "metadata": {
        "id": "drB5u78_TOE5",
        "outputId": "cab5c5c9-4d25-4ad2-8bb0-34a05b2bfb51"
      },
      "outputs": [
        {
          "name": "stdout",
          "output_type": "stream",
          "text": [
            "perro\n",
            "gato\n",
            "pez\n"
          ]
        }
      ],
      "source": [
        "# podemos iterar una lista\n",
        "x = ['perro', 'gato', 'pez']\n",
        "for i in x: # Se lee como \"para cada i en x...\"\n",
        "    print(i)"
      ]
    },
    {
      "cell_type": "markdown",
      "metadata": {
        "id": "-SzUksaJTOE6"
      },
      "source": [
        "- Los diccionarios se pueden iterar de diversas formas"
      ]
    },
    {
      "cell_type": "code",
      "execution_count": null,
      "metadata": {
        "id": "uMltet7uTOE6",
        "outputId": "16d09482-4c5c-4792-f619-dac163550086"
      },
      "outputs": [
        {
          "name": "stdout",
          "output_type": "stream",
          "text": [
            "perro\n",
            "gato\n",
            "pez\n"
          ]
        }
      ],
      "source": [
        "# podemos iterar un diccionario con sus claves\n",
        "x = {'perro': 1, 'gato': 2, 'pez': 3}\n",
        "for i in x.keys(): # Se lee como \"para cada i en las claves de x...\"\n",
        "    print(i)"
      ]
    },
    {
      "cell_type": "code",
      "execution_count": null,
      "metadata": {
        "id": "EoIaRRgTTOE6",
        "outputId": "a0dfbeee-abf2-4be0-8759-5d490d53118a"
      },
      "outputs": [
        {
          "name": "stdout",
          "output_type": "stream",
          "text": [
            "1\n",
            "2\n",
            "3\n"
          ]
        }
      ],
      "source": [
        "# podemos iterar un diccionario con sus valores\n",
        "x = {'perro': 1, 'gato': 2, 'pez': 3}\n",
        "for i in x.values(): # Se lee como \"para cada i en los valores de x...\"\n",
        "    print(i)"
      ]
    },
    {
      "cell_type": "code",
      "execution_count": null,
      "metadata": {
        "id": "H9Q7XUovTOE6",
        "outputId": "e0e60cbd-0276-4f11-c62d-82e52910aa99"
      },
      "outputs": [
        {
          "name": "stdout",
          "output_type": "stream",
          "text": [
            "perro 1\n",
            "gato 2\n",
            "pez 3\n"
          ]
        }
      ],
      "source": [
        "# podemos iterar un diccionario con sus valores y claves y desempaquetarlos\n",
        "x = {'perro': 1, 'gato': 2, 'pez': 3}\n",
        "for i, j in x.items(): # Se lee como \"para cada i, j en los items de x...\"\n",
        "    print(i, j)"
      ]
    },
    {
      "cell_type": "markdown",
      "metadata": {
        "id": "v02MdS7OTOE6"
      },
      "source": [
        "- Se pueden programar bucles anidados"
      ]
    },
    {
      "cell_type": "code",
      "execution_count": null,
      "metadata": {
        "id": "fBgYku1QTOE6",
        "outputId": "91c3b504-3e1c-4086-b80c-80dfdafc5f40"
      },
      "outputs": [
        {
          "name": "stdout",
          "output_type": "stream",
          "text": [
            "[1, 2, 3]\n",
            "1\n",
            "2\n",
            "3\n",
            "[4, 5, 6]\n",
            "4\n",
            "5\n",
            "6\n",
            "[7, 8, 9]\n",
            "7\n",
            "8\n",
            "9\n"
          ]
        }
      ],
      "source": [
        "# Una lista que contiene, a su vez, otras listas.\n",
        "lista_anidada = [[1,2,3], [4,5,6], [7,8,9]]\n",
        "\n",
        "for i in lista_anidada: # Se lee como \"para cada i en lista_anidada...\"\n",
        "    print(i)\n",
        "    for j in i: # Se lee como \"para cada j en i...\"\n",
        "        print(j)"
      ]
    },
    {
      "cell_type": "markdown",
      "metadata": {
        "id": "dalcdH1MTOE6"
      },
      "source": [
        "- Se pueden usar muchas funciones para ayudar en la iteración:\n",
        "    - enumerate()\n",
        "    - zip()\n",
        "    - sorted()\n",
        "    - reversed()"
      ]
    },
    {
      "cell_type": "code",
      "execution_count": null,
      "metadata": {
        "id": "FYgX5O7GTOE6",
        "outputId": "e772f6a3-5c42-43de-be71-b1f45bfb558e"
      },
      "outputs": [
        {
          "name": "stdout",
          "output_type": "stream",
          "text": [
            "3\n",
            "2\n",
            "1\n"
          ]
        }
      ],
      "source": [
        "for l in reversed([1, 2, 3]):\n",
        "    print(l)"
      ]
    },
    {
      "cell_type": "code",
      "execution_count": null,
      "metadata": {
        "id": "A_yFwTMGTOE6",
        "outputId": "e4d7fcc4-46cf-443b-b752-4f4b1151f30d"
      },
      "outputs": [
        {
          "name": "stdout",
          "output_type": "stream",
          "text": [
            "0 perro\n",
            "1 gato\n",
            "2 pez\n"
          ]
        }
      ],
      "source": [
        "lista = ['perro', 'gato', 'pez']\n",
        "\n",
        "for i, palabra in enumerate(lista): # con enumerate tenemos el índice y el valor\n",
        "    print(i, palabra)"
      ]
    },
    {
      "cell_type": "code",
      "execution_count": null,
      "metadata": {
        "id": "c0-QzrvOTOE6",
        "outputId": "3eeb064f-86fe-4678-c7da-0c56e0fab9dc"
      },
      "outputs": [
        {
          "name": "stdout",
          "output_type": "stream",
          "text": [
            "juan 20\n",
            "maria 30\n",
            "pedro 40\n"
          ]
        }
      ],
      "source": [
        "nombre = ['juan', 'maria', 'pedro']\n",
        "edad = [20, 30, 40]\n",
        "\n",
        "for i, j in zip(nombre, edad): # zip nos permite iterar sobre dos listas al mismo tiempo\n",
        "    print(i, j)"
      ]
    },
    {
      "cell_type": "markdown",
      "metadata": {
        "id": "qW5lb0AOzgtM"
      },
      "source": [
        "## Práctica for"
      ]
    },
    {
      "cell_type": "markdown",
      "metadata": {
        "id": "Gos9f9upzlVM"
      },
      "source": [
        "<div style=\"background-color:rgb(60, 79, 114); padding: 10px;\">\n",
        "\n",
        "De la siguiente lista de valores crea una lista nueva que contenga solo los valores pares"
      ]
    },
    {
      "cell_type": "code",
      "execution_count": 2,
      "metadata": {
        "colab": {
          "base_uri": "https://localhost:8080/"
        },
        "id": "IldzVEUSzxQe",
        "outputId": "04acde62-896e-4164-c4c1-d8b1b332de3c"
      },
      "outputs": [
        {
          "name": "stdout",
          "output_type": "stream",
          "text": [
            "[0, 2, 4, 6, 8]\n"
          ]
        }
      ],
      "source": [
        "valores = list(range(10)) # lista con número de 0-9\n",
        "# Escribe aquí tu código\n",
        "\n",
        "lista_pares = []\n",
        "for num in valores:\n",
        "    if num % 2 == 0:\n",
        "        lista_pares.append(num)\n",
        "\n",
        "print(lista_pares)"
      ]
    },
    {
      "cell_type": "markdown",
      "metadata": {
        "id": "IDLyumiOTOE7"
      },
      "source": [
        "## while\n",
        "```python\n",
        "while condicion:  \n",
        "    codigo a ajecutar\n",
        "```\n",
        "\n",
        "- Con while mientras que se cumpla la condicion se ejecuta el código en bucle"
      ]
    },
    {
      "cell_type": "code",
      "execution_count": null,
      "metadata": {
        "id": "rqo9OAP-TOE7",
        "outputId": "1d7686e9-e0a9-41fb-8811-33bb3147d662"
      },
      "outputs": [
        {
          "name": "stdout",
          "output_type": "stream",
          "text": [
            "0\n",
            "1\n",
            "2\n",
            "3\n",
            "4\n",
            "fin\n"
          ]
        }
      ],
      "source": [
        "x = 0\n",
        "\n",
        "while x < 5: # Se lee como \"mientras x sea menor que 5...\"\n",
        "    print(x)\n",
        "    x += 1\n",
        "\n",
        "print(\"fin\")"
      ]
    },
    {
      "cell_type": "markdown",
      "metadata": {
        "id": "rF-elgLo0RRN"
      },
      "source": [
        "## Práctica while"
      ]
    },
    {
      "cell_type": "markdown",
      "metadata": {
        "id": "8-XyPTk_0UEq"
      },
      "source": [
        "<div style=\"background-color:rgb(60, 79, 114); padding: 10px;\">\n",
        "\n",
        "Tenemos una lista con empleados y queremos reducir plantilla.\n",
        "Reduce la lista de uno en uno hasta que la longitud de esta sea menor o igual que 3."
      ]
    },
    {
      "cell_type": "code",
      "execution_count": 3,
      "metadata": {
        "id": "zN_bNbr80ozF"
      },
      "outputs": [
        {
          "name": "stdout",
          "output_type": "stream",
          "text": [
            "['Alice', 'Bob', 'Charlie']\n"
          ]
        }
      ],
      "source": [
        "nombres_empleados = [\"Alice\", \"Bob\", \"Charlie\", \"Diana\", \"Edward\", \"Fiona\", \"George\", \"Hannah\", \"Ivan\", \"Julia\"]\n",
        "\n",
        "# Escribe aquí tu código\n",
        "while len(nombres_empleados) > 3:\n",
        "    nombres_empleados.pop()\n",
        "\n",
        "print(nombres_empleados)"
      ]
    },
    {
      "cell_type": "markdown",
      "metadata": {
        "id": "VHi5DslnTOE7"
      },
      "source": [
        "## break"
      ]
    },
    {
      "cell_type": "markdown",
      "metadata": {
        "id": "5Gj3TFYrTOE7"
      },
      "source": [
        "- Se utiliza para acabar un bucle"
      ]
    },
    {
      "cell_type": "code",
      "execution_count": null,
      "metadata": {
        "id": "I625YoTOTOE7",
        "outputId": "07dd3b6e-24ca-4f6b-8811-0f8a2f31dea5"
      },
      "outputs": [
        {
          "name": "stdout",
          "output_type": "stream",
          "text": [
            "0\n",
            "1\n",
            "2\n",
            "3\n"
          ]
        }
      ],
      "source": [
        "for i in range(5):\n",
        "    print(i)\n",
        "    if i == 3:\n",
        "        break"
      ]
    },
    {
      "cell_type": "markdown",
      "metadata": {
        "id": "8oaZ0CEuTOE7"
      },
      "source": [
        "## continue"
      ]
    },
    {
      "cell_type": "markdown",
      "metadata": {
        "id": "i8lU4BK4TOE7"
      },
      "source": [
        "- Se utiliza para saltar una iteracion, continua con el bucle"
      ]
    },
    {
      "cell_type": "code",
      "execution_count": null,
      "metadata": {
        "id": "1iP633mNTOE7",
        "outputId": "8875e8b7-54ba-4403-e770-90df050a51c2"
      },
      "outputs": [
        {
          "name": "stdout",
          "output_type": "stream",
          "text": [
            "0\n",
            "1\n",
            "2\n",
            "4\n"
          ]
        }
      ],
      "source": [
        "for i in range(5):\n",
        "    if i == 3:\n",
        "        continue\n",
        "    print(i)"
      ]
    },
    {
      "cell_type": "markdown",
      "metadata": {
        "id": "7_vmAixjQinc"
      },
      "source": [
        "## Práctica"
      ]
    },
    {
      "cell_type": "markdown",
      "metadata": {
        "id": "4M6lJswhQinc"
      },
      "source": [
        "<div style=\"background-color:rgb(60, 79, 114); padding: 10px;\">\n",
        "\n",
        "Tenemos una lista con 50 números aleatorios. Queremos:\n",
        "- Guardar los pares y los impares en listas distintas\n",
        "- Calcular el valor de la suma de cada lista\n",
        "- Si la suma de todos los elementos de la lista de pares es mayor encuentra su máximo, elimínalo de la lista y vuelve a comparar los valores de las listas\n",
        "- Haz esto hasta que la lista de impares sea mayor\n",
        "- Imprime ambas listas"
      ]
    },
    {
      "cell_type": "code",
      "execution_count": 12,
      "metadata": {
        "id": "_N8wNdMiQinc"
      },
      "outputs": [
        {
          "name": "stdout",
          "output_type": "stream",
          "text": [
            "Pares: [116, 184, 50, 98, 158, 60, 106, 70, 62, 44, 194, 124, 100, 174, 84, 38, 28, 158, 74, 86, 90, 164, 50, 88, 72, 190, 174, 174, 6, 180, 74, 200]\n",
            "Impares: [177, 57, 3, 143, 151, 179, 195, 105, 153, 75, 155, 193, 93, 189, 103, 89, 13, 167]\n",
            "Suma pares: 3470\n",
            "Suma impares: 2240\n",
            "La suma de los pares es mayor que la suma de los impares\n",
            "La suma de los pares es mayor que la suma de los impares\n"
          ]
        }
      ],
      "source": [
        "# NO USAR\n",
        "import random\n",
        "\n",
        "# Crear una lista aleatoria con 50 enteros entre 1 y 200\n",
        "lista_aleatoria = [random.randint(1, 200) for _ in range(50)]\n",
        "\n",
        "# USAR lista_aleatoria\n",
        "\n",
        "# Escribe aquí tu código\n",
        "\n",
        "# En un bucle: calcula el módulo de num con 2, si es 0 añade num a pares, si no añade num a impares\n",
        "pares = []\n",
        "impares = []\n",
        "for num in lista_aleatoria:\n",
        "    if num % 2 == 0:\n",
        "        pares.append(num)\n",
        "    else:\n",
        "        impares.append(num)\n",
        "print(\"Pares:\", pares)\n",
        "print(\"Impares:\", impares)\n",
        "\n",
        "# Calcula la suma total de cada lista\n",
        "suma_pares = sum(pares)\n",
        "suma_impares = sum(impares)\n",
        "print(\"Suma pares:\", suma_pares)\n",
        "print(\"Suma impares:\", suma_impares)\n",
        "\n",
        "# Condicional para comparar suma_pares con suma_impares\n",
        "if suma_pares > suma_impares:\n",
        "    print(\"La suma de los pares es mayor que la suma de los impares\")\n",
        "elif suma_pares < suma_impares:\n",
        "    print(\"La suma de los impares es mayor que la suma de los pares\")\n",
        "else:\n",
        "    print(\"La suma de los pares es igual a la suma de los impares\")\n",
        "\n",
        "# Coge el máximo de la lista pares, eliminalo y calcula suma_pares de nuevo\n",
        "maximo_par = max(pares)\n",
        "pares.remove(maximo_par)\n",
        "suma_pares = sum(pares)\n",
        "\n",
        "if suma_pares > suma_impares:\n",
        "    print(\"La suma de los pares es mayor que la suma de los impares\")\n",
        "elif suma_pares < suma_impares: \n",
        "    print(\"La suma de los impares es mayor que la suma de los pares\")\n",
        "else:\n",
        "    print(\"La suma de los pares es igual a la suma de los impares\")\n",
        "\n"
      ]
    }
  ],
  "metadata": {
    "colab": {
      "provenance": []
    },
    "kernelspec": {
      "display_name": "first_try",
      "language": "python",
      "name": "python3"
    },
    "language_info": {
      "codemirror_mode": {
        "name": "ipython",
        "version": 3
      },
      "file_extension": ".py",
      "mimetype": "text/x-python",
      "name": "python",
      "nbconvert_exporter": "python",
      "pygments_lexer": "ipython3",
      "version": "3.9.20"
    },
    "orig_nbformat": 4
  },
  "nbformat": 4,
  "nbformat_minor": 0
}
