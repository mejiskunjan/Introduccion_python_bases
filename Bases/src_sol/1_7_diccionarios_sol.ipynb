{
  "cells": [
    {
      "cell_type": "markdown",
      "metadata": {
        "colab_type": "text",
        "id": "view-in-github"
      },
      "source": [
        "<a href=\"https://colab.research.google.com/github/alfonso-santos/Introduccion-a-Python-para-las-Finanzas-2024/blob/main/Modulo_01_Fundamentos/src/1_7_diccionarios_sol.ipynb\" target=\"_parent\"><img src=\"https://colab.research.google.com/assets/colab-badge.svg\" alt=\"Open In Colab\"/></a>"
      ]
    },
    {
      "cell_type": "markdown",
      "metadata": {
        "id": "DpSoPUThPBcd"
      },
      "source": [
        "# Diccionarios"
      ]
    },
    {
      "cell_type": "markdown",
      "metadata": {
        "id": "YUw-OzuePBce"
      },
      "source": [
        "- Los diccionarios son conjuntos de datos `clave : valor`"
      ]
    },
    {
      "cell_type": "code",
      "execution_count": null,
      "metadata": {
        "colab": {
          "base_uri": "https://localhost:8080/"
        },
        "id": "HZnWxjzKPBce",
        "outputId": "c4f0b90e-f5b9-480d-d93b-5a61217a05d9"
      },
      "outputs": [
        {
          "name": "stdout",
          "output_type": "stream",
          "text": [
            "<class 'dict'>\n"
          ]
        }
      ],
      "source": [
        "d = dict()\n",
        "d = {}\n",
        "print(type(d))"
      ]
    },
    {
      "cell_type": "code",
      "execution_count": null,
      "metadata": {
        "colab": {
          "base_uri": "https://localhost:8080/"
        },
        "id": "SwyWJ5SkPBcf",
        "outputId": "38d2073a-d4fd-4739-cb1d-f74ee0feeda0"
      },
      "outputs": [
        {
          "name": "stdout",
          "output_type": "stream",
          "text": [
            "{'Clave': 'Valor', 9: [1, 2, 3, 4, 5, 5, 5]}\n"
          ]
        }
      ],
      "source": [
        "# Para añadir elementos al diccionario\n",
        "d['Clave'] = 'Valor'\n",
        "d[9] = [1,2,3,4,5,5,5]\n",
        "print(d)"
      ]
    },
    {
      "cell_type": "code",
      "execution_count": null,
      "metadata": {
        "colab": {
          "base_uri": "https://localhost:8080/",
          "height": 35
        },
        "id": "8MbT47G6PBcf",
        "outputId": "c9a0b6d0-9890-4ab4-bf86-e489a11b7c74"
      },
      "outputs": [
        {
          "data": {
            "application/vnd.google.colaboratory.intrinsic+json": {
              "type": "string"
            },
            "text/plain": [
              "'Valor'"
            ]
          },
          "execution_count": 5,
          "metadata": {},
          "output_type": "execute_result"
        }
      ],
      "source": [
        "# Para recuperar los valores...\n",
        "d['Clave']"
      ]
    },
    {
      "cell_type": "code",
      "execution_count": null,
      "metadata": {
        "id": "wcM5KL3vPBcg"
      },
      "outputs": [],
      "source": [
        "# Tambien podemos definir el diccionario de manera manual\n",
        "d = {\n",
        "    'uno' : 1,\n",
        "    'dos' : 2,\n",
        "    'tres' : 3\n",
        "}"
      ]
    },
    {
      "cell_type": "code",
      "execution_count": null,
      "metadata": {
        "colab": {
          "base_uri": "https://localhost:8080/"
        },
        "id": "9R7WuvBUPBcg",
        "outputId": "5f4c5535-0d53-4d94-e242-6441e8fdc5ea"
      },
      "outputs": [
        {
          "data": {
            "text/plain": [
              "1"
            ]
          },
          "execution_count": 7,
          "metadata": {},
          "output_type": "execute_result"
        }
      ],
      "source": [
        "d['uno']"
      ]
    },
    {
      "cell_type": "markdown",
      "metadata": {
        "id": "k08HonckPBcg"
      },
      "source": [
        "- Las claves también pueden ser números, pero siguen siendo claves, no indexables"
      ]
    },
    {
      "cell_type": "code",
      "execution_count": null,
      "metadata": {
        "id": "Xujjn9ujPBcg"
      },
      "outputs": [],
      "source": [
        "d = {\n",
        "    1:'uno',\n",
        "    2:'dos',\n",
        "    3:'tres'\n",
        "}"
      ]
    },
    {
      "cell_type": "code",
      "execution_count": null,
      "metadata": {
        "colab": {
          "base_uri": "https://localhost:8080/",
          "height": 35
        },
        "id": "xHzRXPUBPBcg",
        "outputId": "4feafeaa-4c10-444e-e09b-2ebf88e4058f"
      },
      "outputs": [
        {
          "data": {
            "application/vnd.google.colaboratory.intrinsic+json": {
              "type": "string"
            },
            "text/plain": [
              "'uno'"
            ]
          },
          "execution_count": 9,
          "metadata": {},
          "output_type": "execute_result"
        }
      ],
      "source": [
        "d[1]"
      ]
    },
    {
      "cell_type": "code",
      "execution_count": null,
      "metadata": {
        "colab": {
          "base_uri": "https://localhost:8080/",
          "height": 158
        },
        "id": "Ed6xjCRLPBcg",
        "outputId": "9b6c07a7-3760-4981-d3cb-9d935b97ed8a"
      },
      "outputs": [
        {
          "ename": "TypeError",
          "evalue": "unhashable type: 'slice'",
          "output_type": "error",
          "traceback": [
            "\u001b[0;31m---------------------------------------------------------------------------\u001b[0m",
            "\u001b[0;31mTypeError\u001b[0m                                 Traceback (most recent call last)",
            "\u001b[0;32m<ipython-input-10-c09edec45393>\u001b[0m in \u001b[0;36m<cell line: 2>\u001b[0;34m()\u001b[0m\n\u001b[1;32m      1\u001b[0m \u001b[0;31m# Causa error\u001b[0m\u001b[0;34m\u001b[0m\u001b[0;34m\u001b[0m\u001b[0m\n\u001b[0;32m----> 2\u001b[0;31m \u001b[0md\u001b[0m\u001b[0;34m[\u001b[0m\u001b[0;36m1\u001b[0m\u001b[0;34m:\u001b[0m\u001b[0;36m2\u001b[0m\u001b[0;34m]\u001b[0m\u001b[0;34m\u001b[0m\u001b[0;34m\u001b[0m\u001b[0m\n\u001b[0m",
            "\u001b[0;31mTypeError\u001b[0m: unhashable type: 'slice'"
          ]
        }
      ],
      "source": [
        "# Causa error\n",
        "d[1:2]"
      ]
    },
    {
      "cell_type": "markdown",
      "metadata": {
        "id": "69ZtVnuSPBcg"
      },
      "source": [
        "- Los valores asociados a cada clave pueden ser cualquier objeto"
      ]
    },
    {
      "cell_type": "code",
      "execution_count": null,
      "metadata": {
        "id": "QiixceSFPBcg"
      },
      "outputs": [],
      "source": [
        "d = {\n",
        "    'lista': [1,2,2,3,4,5],\n",
        "    'tupla': (1,23,4),\n",
        "    'matriz': [[1,2],[3,4]],\n",
        "    'diccionario':{\n",
        "        'clave':'valor'\n",
        "    }\n",
        "\n",
        "}"
      ]
    },
    {
      "cell_type": "code",
      "execution_count": null,
      "metadata": {
        "colab": {
          "base_uri": "https://localhost:8080/"
        },
        "id": "ls0E0utiPBcg",
        "outputId": "56f339f2-d39d-40bf-da3a-62df575886f9"
      },
      "outputs": [
        {
          "name": "stdout",
          "output_type": "stream",
          "text": [
            "[1, 2, 2, 3, 4, 5]\n",
            "(1, 23, 4)\n",
            "[[1, 2], [3, 4]]\n",
            "{'clave': 'valor'}\n"
          ]
        }
      ],
      "source": [
        "print(d['lista'])\n",
        "print(d['tupla'])\n",
        "print(d['matriz'])\n",
        "print(d['diccionario'])"
      ]
    },
    {
      "cell_type": "markdown",
      "metadata": {
        "id": "e91RaKyQPBcg"
      },
      "source": [
        "## Built-in Functions"
      ]
    },
    {
      "cell_type": "markdown",
      "metadata": {
        "id": "XICWyZ0PPBcg"
      },
      "source": [
        "|Métodos|Description|\n",
        "|----|---|\n",
        "```<view> = <dict>.keys()``` |                          Obtenemos las claves (keys) del diccionario.|\n",
        "```<view> = <dict>.values()``` |                        Obtenemos los valores del diccionario.|\n",
        "```<view> = <dict>.items()```   |                       Obtenemos los pares de clave:valor del diccionario.|\n",
        "```<dict> = dict(zip(keys, values)) ```  |              Crea un diccionario desde dos colecciones.|"
      ]
    },
    {
      "cell_type": "code",
      "execution_count": null,
      "metadata": {
        "id": "avN1HPKnPBch"
      },
      "outputs": [],
      "source": [
        "# Creamos un diccionario\n",
        "d = {1: \"uno\", 2: \"dos\", 3: \"tres\"}"
      ]
    },
    {
      "cell_type": "code",
      "execution_count": null,
      "metadata": {
        "colab": {
          "base_uri": "https://localhost:8080/"
        },
        "id": "HgVsP09DPBch",
        "outputId": "2aefa1bd-0bca-4d2a-d6b2-9d9bae966bce"
      },
      "outputs": [
        {
          "data": {
            "text/plain": [
              "dict_keys([1, 2, 3])"
            ]
          },
          "execution_count": 14,
          "metadata": {},
          "output_type": "execute_result"
        }
      ],
      "source": [
        "# Obtenemos sus claves por separado\n",
        "d.keys()"
      ]
    },
    {
      "cell_type": "code",
      "execution_count": null,
      "metadata": {
        "colab": {
          "base_uri": "https://localhost:8080/"
        },
        "id": "SgqITqKzPBch",
        "outputId": "5420e8ef-e283-4fc2-ed3f-2b859be29f31"
      },
      "outputs": [
        {
          "data": {
            "text/plain": [
              "dict_values(['uno', 'dos', 'tres'])"
            ]
          },
          "execution_count": 15,
          "metadata": {},
          "output_type": "execute_result"
        }
      ],
      "source": [
        "# Obtenemos sus valores por separado\n",
        "d.values()"
      ]
    },
    {
      "cell_type": "code",
      "execution_count": null,
      "metadata": {
        "colab": {
          "base_uri": "https://localhost:8080/"
        },
        "id": "F88u9PjEPBch",
        "outputId": "26016cad-3ec3-4447-e921-f52a6f9bf7a1"
      },
      "outputs": [
        {
          "data": {
            "text/plain": [
              "dict_items([(1, 'uno'), (2, 'dos'), (3, 'tres')])"
            ]
          },
          "execution_count": 16,
          "metadata": {},
          "output_type": "execute_result"
        }
      ],
      "source": [
        "# Obtenemos ambos a la vez\n",
        "d.items()"
      ]
    },
    {
      "cell_type": "code",
      "execution_count": null,
      "metadata": {
        "colab": {
          "base_uri": "https://localhost:8080/"
        },
        "id": "Co-SpEuxPBch",
        "outputId": "4ece1a50-d9fd-451a-9ee4-b23d0fc48042"
      },
      "outputs": [
        {
          "data": {
            "text/plain": [
              "{1: 'uno', 2: 'dos', 3: 'tres'}"
            ]
          },
          "execution_count": 17,
          "metadata": {},
          "output_type": "execute_result"
        }
      ],
      "source": [
        "# Creamos un diccionario usando la función zip() y convirtiéndolo a diccionario\n",
        "d = dict(zip([1, 2, 3], ['uno', 'dos', 'tres']))\n",
        "d"
      ]
    },
    {
      "cell_type": "code",
      "execution_count": null,
      "metadata": {
        "colab": {
          "base_uri": "https://localhost:8080/"
        },
        "id": "pSQYv8JfPBch",
        "outputId": "ee348668-d833-49ea-ea46-35a99e737d1c"
      },
      "outputs": [
        {
          "name": "stdout",
          "output_type": "stream",
          "text": [
            "3\n"
          ]
        }
      ],
      "source": [
        "# Obtenemos la longitud de la lista de claves del diccionario\n",
        "print(len(d))"
      ]
    },
    {
      "cell_type": "code",
      "execution_count": null,
      "metadata": {
        "colab": {
          "base_uri": "https://localhost:8080/"
        },
        "id": "m1JMh8cqPBch",
        "outputId": "c74d48a2-e5c5-44e5-dd4d-fbef31e015a3"
      },
      "outputs": [
        {
          "data": {
            "text/plain": [
              "True"
            ]
          },
          "execution_count": 19,
          "metadata": {},
          "output_type": "execute_result"
        }
      ],
      "source": [
        "# Usamos el operador 'in' para saber si una clave existe en la lista  de claves del diccionario\n",
        "1 in d"
      ]
    },
    {
      "cell_type": "markdown",
      "metadata": {
        "id": "N8wqRYtjPW28"
      },
      "source": [
        "## Práctica"
      ]
    },
    {
      "cell_type": "markdown",
      "metadata": {
        "id": "qRy24Vb1PZYw"
      },
      "source": [
        "<div style=\"background-color:rgb(60, 79, 114); padding: 10px;\">\n",
        "\n",
        "Tenemos los siguientes tickers de acciones: AAPL, AMZN, TEF, NVDA, DIS:\n",
        "- Consulta en la web yahoo finanze sus valores.\n",
        "- Crea un diccionario asignando Ticker -> Valor.\n",
        "- Imprime el contenido del diccionario."
      ]
    },
    {
      "cell_type": "code",
      "execution_count": null,
      "metadata": {
        "colab": {
          "base_uri": "https://localhost:8080/"
        },
        "id": "V0waFplMPZCP",
        "outputId": "510167c6-bbb4-4d94-f332-356244b65c7e"
      },
      "outputs": [
        {
          "name": "stdout",
          "output_type": "stream",
          "text": [
            "Diccionario entero: {'AAPL': 222.88, 'AMZN': 187.93, 'TEF': 4.41, 'NVDA': 117.99, 'DIS': 97.31}\n",
            "\n",
            "Diccionario items: dict_items([('AAPL', 222.88), ('AMZN', 187.93), ('TEF', 4.41), ('NVDA', 117.99), ('DIS', 97.31)])\n",
            "\n",
            "Diccionario valores: dict_values([222.88, 187.93, 4.41, 117.99, 97.31])\n",
            "\n",
            "Diccionario claves: dict_keys(['AAPL', 'AMZN', 'TEF', 'NVDA', 'DIS'])\n"
          ]
        }
      ],
      "source": [
        "# Escribe aquí tu código\n",
        "\n",
        "# Añadimos valores manualmente\n",
        "ticker_valor = {\"AAPL\": 222.88,\n",
        "                \"AMZN\": 187.93,\n",
        "                \"TEF\": 4.41,\n",
        "                \"NVDA\": 117.99,\n",
        "                \"DIS\": 97.31\n",
        "                }\n",
        "\n",
        "print(f\"Diccionario entero: {ticker_valor}\\n\")\n",
        "print(f\"Diccionario items: {ticker_valor.items()}\\n\")\n",
        "print(f\"Diccionario valores: {ticker_valor.values()}\\n\")\n",
        "print(f\"Diccionario claves: {ticker_valor.keys()}\")"
      ]
    },
    {
      "cell_type": "markdown",
      "metadata": {
        "id": "9Un_LJDwEeey"
      },
      "source": [
        "<div style=\"background-color:rgb(60, 79, 114); padding: 10px;\">\n",
        "\n",
        "\n",
        "\n",
        "Repite el ejercicio de arriba pero accediendo a los valores de las listas.\n",
        "\n",
        "Asigna el primero de una con el primero de la otra y viceversa.\n",
        "\n",
        "Imprime el resultado por pantalla."
      ]
    },
    {
      "cell_type": "code",
      "execution_count": null,
      "metadata": {
        "colab": {
          "base_uri": "https://localhost:8080/"
        },
        "id": "kMYNALhIEeey",
        "outputId": "eb0cdebc-4c11-4d1a-8324-5d8d9d9484ae"
      },
      "outputs": [
        {
          "name": "stdout",
          "output_type": "stream",
          "text": [
            "Diccionario con dict(zip()): {'AAPL': 228.88, 'AMZN': 187.93, 'TEF': 4.41, 'NVDA': 117.99, 'DIS': 97.31}\n",
            "\n",
            "Diccionario manual: {'AAPL': 228.88, 'AMZN': 187.93, 'TEF': 4.41, 'NVDA': 117.99, 'DIS': 97.31}\n"
          ]
        }
      ],
      "source": [
        "valores = [228.88, 187.93, 4.41, 117.99, 97.31]\n",
        "tickers = ['AAPL', 'AMZN', 'TEF', 'NVDA', 'DIS']\n",
        "\n",
        "# Escribe aquí tu código\n",
        "\n",
        "# La función zip() asocia valores de listas y la función dict() crea el diccionario\n",
        "diccionario_tickers = dict(zip(tickers, valores))\n",
        "print(f\"Diccionario con dict(zip()): {diccionario_tickers}\\n\")\n",
        "\n",
        "diccionario_tickers_manual = {tickers[0]: valores[0],\n",
        "                              tickers[1]: valores[1],\n",
        "                              tickers[2]: valores[2],\n",
        "                              tickers[3]: valores[3],\n",
        "                              tickers[4]: valores[4]}\n",
        "print(f\"Diccionario manual: {diccionario_tickers_manual}\")"
      ]
    },
    {
      "cell_type": "markdown",
      "metadata": {
        "id": "NZb3p8kDQTqy"
      },
      "source": [
        "<div style=\"background-color:rgb(60, 79, 114); padding: 10px;\">\n",
        "\n",
        "\n",
        "Tenemos una cartera con 120 acciones de cada uno de los tickers. Calcula el valor total de la cartera"
      ]
    },
    {
      "cell_type": "code",
      "execution_count": null,
      "metadata": {
        "colab": {
          "base_uri": "https://localhost:8080/"
        },
        "id": "7jXBmdNzQkGt",
        "outputId": "869aaf28-1e68-4b7d-cc8f-ebe365760d7d"
      },
      "outputs": [
        {
          "name": "stdout",
          "output_type": "stream",
          "text": [
            "Cáculo manual: 76382.4\n",
            "\n",
            "Cáculo con bucle: 76382.4\n"
          ]
        }
      ],
      "source": [
        "# Escribe aquí tu código\n",
        "lista_120 = [120,120,120,120,120]\n",
        "diccionario_tickers = dict(zip(tickers, valores))\n",
        "\n",
        "# Manualmente sin bucle\n",
        "apple_120 = diccionario_tickers['AAPL']*120\n",
        "amzn_120 = diccionario_tickers['AMZN']*120\n",
        "tef_120 = diccionario_tickers['TEF']*120\n",
        "nvda_120 = diccionario_tickers['NVDA']*120\n",
        "dis_120 = diccionario_tickers['DIS']*120\n",
        "total_cartera = apple_120 + amzn_120 + tef_120 + nvda_120 + dis_120\n",
        "print(f\"Cáculo manual: {total_cartera}\\n\")\n",
        "\n",
        "\n",
        "# Con bucles que aun no hemos visto\n",
        "for ticker in diccionario_tickers:\n",
        "  diccionario_tickers[ticker] = diccionario_tickers[ticker]*120\n",
        "\n",
        "print(f\"Cáculo con bucle: {total_cartera}\")"
      ]
    }
  ],
  "metadata": {
    "colab": {
      "include_colab_link": true,
      "provenance": []
    },
    "kernelspec": {
      "display_name": "Python 3.8.8 ('base')",
      "language": "python",
      "name": "python3"
    },
    "language_info": {
      "codemirror_mode": {
        "name": "ipython",
        "version": 3
      },
      "file_extension": ".py",
      "mimetype": "text/x-python",
      "name": "python",
      "nbconvert_exporter": "python",
      "pygments_lexer": "ipython3",
      "version": "3.10.6"
    },
    "orig_nbformat": 4,
    "vscode": {
      "interpreter": {
        "hash": "3a2a03ea413f8be244ba01daf0e257f98f0dabeb03c7836e7000a0f3738aa8c9"
      }
    }
  },
  "nbformat": 4,
  "nbformat_minor": 0
}
