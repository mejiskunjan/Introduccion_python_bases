{
  "cells": [
    {
      "cell_type": "markdown",
      "metadata": {
        "colab_type": "text",
        "id": "view-in-github"
      },
      "source": [
        "<a href=\"https://colab.research.google.com/github/alfonso-santos/Introduccion-a-Python-para-las-Finanzas-2024/blob/main/Modulo_01_Fundamentos/src/1_4_variables_sol.ipynb\" target=\"_parent\"><img src=\"https://colab.research.google.com/assets/colab-badge.svg\" alt=\"Open In Colab\"/></a>"
      ]
    },
    {
      "cell_type": "markdown",
      "metadata": {
        "id": "asXmiu8jBSHC"
      },
      "source": [
        "# Variables"
      ]
    },
    {
      "cell_type": "markdown",
      "metadata": {
        "id": "iFdm76yrBSHE"
      },
      "source": [
        "Una variable se puede interpretar como una caja donde guardo un determinado valor en un momento del tiempo. Se denomina ```variable``` porque su valor puede ```variar``` a lo largo del tiempo; en caso contrario se denominaría ```constante```.\n",
        "\n",
        "Cuando tengo muchas variables, necesito disponer de una manera de identificarlas para poder referirme a ellas, ver qué contenido tienen o cambiarlo o combinarlo u operar con él. Es decir, necesito una manera de ```nombrar``` variables.\n",
        "\n",
        "<img src=\"https://github.com/alfonso-santos/Introduccion-a-Python-para-las-Finanzas-2024/blob/main/Modulo_01_Fundamentos/imgs/02_02_variables/variables_1.png?raw=1\">\n",
        "\n",
        "Existen ciertas reglas para nombrar las variables en Python:\n",
        "- Caracteres alfanuméricos: a-z,A-Z,0-9\n",
        "- Guión bajo: _\n",
        "- No pueden empezar por un número\n",
        "- No se deben usar palabras reservadas:\n",
        "    - False, None, True, and, as, assert, break, class, continue, def, del, elif, else, except, finally, for, from, global, if, import, in, is, lambda, nonlocal, not, or, pass, raise, return, try, while, with, yield"
      ]
    },
    {
      "cell_type": "markdown",
      "metadata": {
        "id": "e7vqHaCIBSHE"
      },
      "source": [
        "La asignación de una variables es el momento en el cual le proporcionamos un valor, por ejemplo:"
      ]
    },
    {
      "cell_type": "code",
      "execution_count": null,
      "metadata": {
        "id": "RsBOo09cBSHE",
        "outputId": "83ea1faf-7003-46b1-bfae-8304db2cbded"
      },
      "outputs": [
        {
          "data": {
            "text/plain": [
              "8"
            ]
          },
          "execution_count": 7,
          "metadata": {},
          "output_type": "execute_result"
        }
      ],
      "source": [
        "x = 8\n",
        "x"
      ]
    },
    {
      "cell_type": "code",
      "execution_count": null,
      "metadata": {
        "id": "2u3SX7quBSHF",
        "outputId": "46b91f28-c289-4426-c587-128ac10f5c42"
      },
      "outputs": [
        {
          "name": "stdout",
          "output_type": "stream",
          "text": [
            "9\n"
          ]
        }
      ],
      "source": [
        "y = 9\n",
        "print(y)"
      ]
    },
    {
      "cell_type": "markdown",
      "metadata": {
        "id": "z8NHMKB9BSHG"
      },
      "source": [
        "- Como podemos ver la asignación se realiza con el operador \"=\"\n",
        "- Se pueden hacer asignaciones multiples en una sola línea\n"
      ]
    },
    {
      "cell_type": "code",
      "execution_count": null,
      "metadata": {
        "id": "SuYA6jMOBSHG",
        "outputId": "f1ed5425-6ece-420a-9923-583d45c38cf7"
      },
      "outputs": [
        {
          "name": "stdout",
          "output_type": "stream",
          "text": [
            "1\n",
            "2\n"
          ]
        }
      ],
      "source": [
        "a,b = 1,2\n",
        "print(a)\n",
        "print(b)"
      ]
    },
    {
      "cell_type": "markdown",
      "metadata": {
        "id": "WS2B_RQeBSHG"
      },
      "source": [
        "Si usamos variables que no han sido creadas obtendremos un error"
      ]
    },
    {
      "cell_type": "code",
      "execution_count": null,
      "metadata": {
        "id": "RabXX7TQBSHG",
        "outputId": "8d2bb58a-28b4-480d-fbf4-6deab8cc8405"
      },
      "outputs": [
        {
          "ename": "NameError",
          "evalue": "name 'w' is not defined",
          "output_type": "error",
          "traceback": [
            "\u001b[1;31m---------------------------------------------------------------------------\u001b[0m",
            "\u001b[1;31mNameError\u001b[0m                                 Traceback (most recent call last)",
            "Cell \u001b[1;32mIn[10], line 1\u001b[0m\n\u001b[1;32m----> 1\u001b[0m \u001b[43mw\u001b[49m\n",
            "\u001b[1;31mNameError\u001b[0m: name 'w' is not defined"
          ]
        }
      ],
      "source": [
        "w"
      ]
    },
    {
      "cell_type": "code",
      "execution_count": null,
      "metadata": {
        "id": "mxs37t4ABSHG",
        "outputId": "0279398b-add6-4802-b6d4-2e8d171b3e8e"
      },
      "outputs": [
        {
          "name": "stdout",
          "output_type": "stream",
          "text": [
            "1\n",
            "1\n"
          ]
        }
      ],
      "source": [
        "# tambien podemos asignar a multiples variables un mismo valor\n",
        "c = d = 1\n",
        "print(c)\n",
        "print(d)"
      ]
    },
    {
      "cell_type": "markdown",
      "metadata": {
        "id": "sR9bNjqJBSHG"
      },
      "source": [
        "Gracias a la asignación multiple en la misma línea, podemos hacer intercambios de variables en una sola línea"
      ]
    },
    {
      "cell_type": "code",
      "execution_count": null,
      "metadata": {
        "id": "wm07DNTBBSHG",
        "outputId": "0e87e1b1-2a77-4fbe-f9c8-33e8ff34795a"
      },
      "outputs": [
        {
          "name": "stdout",
          "output_type": "stream",
          "text": [
            "2 1\n"
          ]
        }
      ],
      "source": [
        "# Manera tradicional\n",
        "aux = a\n",
        "a = b\n",
        "b = aux\n",
        "print(a,b)"
      ]
    },
    {
      "cell_type": "code",
      "execution_count": null,
      "metadata": {
        "id": "F1W_16B3BSHG",
        "outputId": "b1d1c22d-0953-4ad7-980f-0193dca59354"
      },
      "outputs": [
        {
          "name": "stdout",
          "output_type": "stream",
          "text": [
            "1 2\n"
          ]
        }
      ],
      "source": [
        "# Python\n",
        "a,b = b,a\n",
        "print(a,b)"
      ]
    },
    {
      "cell_type": "markdown",
      "metadata": {
        "id": "dbEm2nsyBSHH"
      },
      "source": [
        "## Tipos básicos:"
      ]
    },
    {
      "cell_type": "markdown",
      "metadata": {
        "id": "scxixJEPBSHH"
      },
      "source": [
        "|Tipo| Descripción|\n",
        "|-|-|\n",
        "|None|El es valor nulo en Python|\n",
        "|str|Tipo cadena de caracteres, guarda caracteres de tipo UTF-8|\n",
        "|float|Números reales (2.3), pudiendo estar representados en coma flotante (2.3e0)|\n",
        "|bool|True o False, es el tipo usado para representar variables lógicas|\n",
        "|int|Números enteros|\n",
        "|datetime| Fechas|"
      ]
    },
    {
      "cell_type": "markdown",
      "metadata": {
        "id": "fWoIQRc5BSHH"
      },
      "source": [
        "Vamos a mostrar como se representan en python estos tipos"
      ]
    },
    {
      "cell_type": "code",
      "execution_count": null,
      "metadata": {
        "id": "j9Iu8UupBSHH",
        "outputId": "b05e4f31-c5b3-43a5-d278-dab5990feada"
      },
      "outputs": [
        {
          "name": "stdout",
          "output_type": "stream",
          "text": [
            "2\n",
            "-2\n"
          ]
        }
      ],
      "source": [
        "x = 2 # int\n",
        "print(x)\n",
        "\n",
        "x = -2 # int\n",
        "print(x)"
      ]
    },
    {
      "cell_type": "code",
      "execution_count": null,
      "metadata": {
        "id": "erAwr9woBSHH",
        "outputId": "f22b482a-b9f8-4e59-937f-25131c50dff7"
      },
      "outputs": [
        {
          "name": "stdout",
          "output_type": "stream",
          "text": [
            "2.3 2.3\n"
          ]
        }
      ],
      "source": [
        "x,y = 2.3, 2.3e0 # float\n",
        "print(x,y)"
      ]
    },
    {
      "cell_type": "code",
      "execution_count": null,
      "metadata": {
        "id": "lmbsFHoEBSHH",
        "outputId": "91076bf4-e14a-4f2d-ed2f-ec550ce169e4"
      },
      "outputs": [
        {
          "name": "stdout",
          "output_type": "stream",
          "text": [
            "2\n",
            "esto es una cadena\n",
            "esto es una cadena\n",
            "esto es una\n",
            "cadena que guarda\n",
            "el formato\n",
            "esto es una cadena con 'comillas simples'\n",
            "esto es una cadena con una \t tabulacion y \n",
            "salto de linea\n",
            "esto es una cadena con una \\ barra invertida\n",
            "esto es una cadena con una variable embebida. y=10\n"
          ]
        }
      ],
      "source": [
        "x = \"2\" # str\n",
        "print(x)\n",
        "\n",
        "x = \"esto es una cadena\" # str\n",
        "print(x)\n",
        "\n",
        "x = 'esto es una cadena' # str\n",
        "print(x)\n",
        "\n",
        "x = \"\"\"esto es una\n",
        "cadena que guarda\n",
        "el formato\"\"\" # str\n",
        "print(x)\n",
        "\n",
        "x = \"esto es una cadena con 'comillas simples'\" # str\n",
        "print(x)\n",
        "\n",
        "x = \"esto es una cadena con una \\t tabulacion y \\nsalto de linea\" # str\n",
        "print(x)\n",
        "\n",
        "x = \"esto es una cadena con una \\\\ barra invertida\" # str\n",
        "print(x)\n",
        "\n",
        "y = 10\n",
        "x = f\"esto es una cadena con una variable embebida. y={y}\" # str\n",
        "print(x)"
      ]
    },
    {
      "cell_type": "code",
      "execution_count": null,
      "metadata": {
        "id": "YcIhC3zvBSHH",
        "outputId": "c480b941-d750-487f-d0a2-82b21a911834"
      },
      "outputs": [
        {
          "name": "stdout",
          "output_type": "stream",
          "text": [
            "True\n",
            "False\n"
          ]
        }
      ],
      "source": [
        "x = True # bool\n",
        "print(x)\n",
        "\n",
        "x = False # bool\n",
        "print(x)"
      ]
    },
    {
      "cell_type": "markdown",
      "metadata": {
        "id": "WZMpSr9HBSHH"
      },
      "source": [
        "Para el manejo de fechas en Python tenemos varias librerías a nuestra disposición. La básica es `datetime`, que podremos utilizar haciendo uso de la instrucción `import datetime`"
      ]
    },
    {
      "cell_type": "code",
      "execution_count": null,
      "metadata": {
        "id": "eDxonWzpBSHH",
        "outputId": "10fa1176-233d-4b03-825c-6a593d114494"
      },
      "outputs": [
        {
          "name": "stdout",
          "output_type": "stream",
          "text": [
            "2024-10-06 08:53:57.146403\n"
          ]
        }
      ],
      "source": [
        "import datetime\n",
        "\n",
        "x = datetime.datetime.now() # datetime\n",
        "print(x)\n"
      ]
    },
    {
      "cell_type": "code",
      "execution_count": null,
      "metadata": {
        "id": "Nqz-76V_BSHI",
        "outputId": "92394927-3d97-4c3d-b17e-d1fd0a910aa8"
      },
      "outputs": [
        {
          "name": "stdout",
          "output_type": "stream",
          "text": [
            "None\n"
          ]
        }
      ],
      "source": [
        "x = None # None Type\n",
        "print(x)"
      ]
    },
    {
      "cell_type": "markdown",
      "metadata": {
        "id": "wGHKJirOBSHI"
      },
      "source": [
        "- Podemos usar la función type() para saber el tipo"
      ]
    },
    {
      "cell_type": "code",
      "execution_count": null,
      "metadata": {
        "id": "x0CPAwWJBSHI",
        "outputId": "a0542f77-ecea-479d-dd32-53c7a33f9db9"
      },
      "outputs": [
        {
          "data": {
            "text/plain": [
              "int"
            ]
          },
          "execution_count": 20,
          "metadata": {},
          "output_type": "execute_result"
        }
      ],
      "source": [
        "type(1)"
      ]
    },
    {
      "cell_type": "code",
      "execution_count": null,
      "metadata": {
        "id": "9c_H6ti9BSHI",
        "outputId": "c0d8d9a8-1e6c-4176-84a2-1460ac96ab1f"
      },
      "outputs": [
        {
          "data": {
            "text/plain": [
              "float"
            ]
          },
          "execution_count": 21,
          "metadata": {},
          "output_type": "execute_result"
        }
      ],
      "source": [
        "type(1.0)"
      ]
    },
    {
      "cell_type": "code",
      "execution_count": null,
      "metadata": {
        "id": "oZXAZ0ZfBSHI",
        "outputId": "9bbda8f2-414c-4b25-8451-402bd3705108"
      },
      "outputs": [
        {
          "data": {
            "text/plain": [
              "str"
            ]
          },
          "execution_count": 22,
          "metadata": {},
          "output_type": "execute_result"
        }
      ],
      "source": [
        "type('hola')"
      ]
    },
    {
      "cell_type": "code",
      "execution_count": null,
      "metadata": {
        "id": "m3ZYrKPPBSHI",
        "outputId": "355711e5-c23e-4cd0-c67b-aeee34840ab0"
      },
      "outputs": [
        {
          "name": "stdout",
          "output_type": "stream",
          "text": [
            "<class 'int'>\n",
            "<class 'str'>\n"
          ]
        }
      ],
      "source": [
        "x = 1\n",
        "print(type(x))\n",
        "#ahora cambiamos el valor de x\n",
        "x = 'pedro'\n",
        "print(type(x))"
      ]
    },
    {
      "cell_type": "markdown",
      "metadata": {
        "id": "kLkcWcJtCCOt"
      },
      "source": [
        "## Práctica"
      ]
    },
    {
      "cell_type": "markdown",
      "metadata": {
        "id": "rVV4SxPxoFFm"
      },
      "source": [
        "<div style=\"background-color:rgb(60, 79, 114); padding: 10px;\">\n",
        "\n",
        "Escribe un programa que muestre por pantalla la siguiente frase:\n",
        "\n",
        "\"Elegir buenos nombres para las variables te lleva a aprobar\""
      ]
    },
    {
      "cell_type": "code",
      "execution_count": 1,
      "metadata": {
        "colab": {
          "base_uri": "https://localhost:8080/"
        },
        "id": "TSE_VSfNCFN2",
        "outputId": "eed71fb6-6044-49d1-ccf4-2666a982f0c3"
      },
      "outputs": [
        {
          "name": "stdout",
          "output_type": "stream",
          "text": [
            "Elegir buenos nombres para las variables te lleva a aprobar\n"
          ]
        }
      ],
      "source": [
        "# Escribe aquí tu código\n",
        "print(\"Elegir buenos nombres para las variables te lleva a aprobar\")"
      ]
    },
    {
      "cell_type": "markdown",
      "metadata": {
        "id": "Lq7jLVSsoFFm"
      },
      "source": [
        "<div style=\"background-color:rgb(60, 79, 114); padding: 10px;\">\n",
        "\n",
        "Ahora queremos imprimir la misma frase pero con el siguiente formato:\n",
        "\n",
        "\"Elegir buenos nombre   para las variables\n",
        "\n",
        "te lleva a aprobar\""
      ]
    },
    {
      "cell_type": "code",
      "execution_count": 2,
      "metadata": {
        "colab": {
          "base_uri": "https://localhost:8080/"
        },
        "id": "wPBuVsbqCs58",
        "outputId": "e2d0440f-dd9d-444e-d96c-56c9151d33b2"
      },
      "outputs": [
        {
          "name": "stdout",
          "output_type": "stream",
          "text": [
            "Elegir buenos nombres para las variables\n",
            "te lleva a aprobar\n"
          ]
        }
      ],
      "source": [
        "# Escribe aquí tu código\n",
        "print(\"Elegir buenos nombres para las variables\\nte lleva a aprobar\")"
      ]
    },
    {
      "cell_type": "markdown",
      "metadata": {
        "id": "km6SkXSPoFFm"
      },
      "source": [
        "<div style=\"background-color:rgb(60, 79, 114); padding: 10px;\">\n",
        "\n",
        "Las siguientes variables tienen el salario bruto anual de Ana y Belén\n",
        "pero por un fallo en contabilidad han salido intercambiados.\n",
        "\n",
        "Tenemos que arreglarlo haciendo un cambio de variable SIN usar variable auxiliar.\n",
        "Imprime por pantalla ambos salarios y el nombre de quien corresponde"
      ]
    },
    {
      "cell_type": "code",
      "execution_count": 3,
      "metadata": {
        "colab": {
          "base_uri": "https://localhost:8080/"
        },
        "id": "QH1MLoRpDLPb",
        "outputId": "1e7b5a08-7c51-44ed-d91c-00722ddfb4ba"
      },
      "outputs": [
        {
          "name": "stdout",
          "output_type": "stream",
          "text": [
            "Los salarios corregidos son:\n",
            "Ana: 36000\n",
            "Belén: 24000\n"
          ]
        }
      ],
      "source": [
        "salario_ana = 24000\n",
        "salario_belen = 36000\n",
        "\n",
        "# Escribe aquí tu código\n",
        "salario_ana, salario_belen = salario_belen, salario_ana\n",
        "\n",
        "print(f\"Los salarios corregidos son:\\nAna: {salario_ana}\\nBelén: {salario_belen}\")"
      ]
    },
    {
      "cell_type": "markdown",
      "metadata": {
        "id": "DtGeLiAQoFFm"
      },
      "source": [
        "<div style=\"background-color:rgb(60, 79, 114); padding: 10px;\">\n",
        "\n",
        "Queremos saber además la fecha exacta en la que estamos arreglando el problema.\n",
        "\n",
        "Crea y muestra por pantalla una variable con esa fecha\n"
      ]
    },
    {
      "cell_type": "code",
      "execution_count": 6,
      "metadata": {
        "colab": {
          "base_uri": "https://localhost:8080/"
        },
        "id": "CeautnB8D_n-",
        "outputId": "c39b31cb-bbd9-4151-b710-d9af84b1f821"
      },
      "outputs": [
        {
          "name": "stdout",
          "output_type": "stream",
          "text": [
            "Correccion dia 2024-10-10\n",
            "Corregido exactamente en 2024-10-10 14:40:02.542539\n"
          ]
        }
      ],
      "source": [
        "import datetime\n",
        "# Escribe aquí tu código\n",
        "dia_correcion_salario = datetime.date.today() # Esta forma solo devuelve aaaa-mm-dd\n",
        "print(f\"Correccion dia {dia_correcion_salario}\")\n",
        "\n",
        "momento_exacto_correcion_salario = datetime.datetime.now() # Devuelve hasta los microsegundos\n",
        "print(f\"Corregido exactamente en {momento_exacto_correcion_salario}\")"
      ]
    },
    {
      "cell_type": "markdown",
      "metadata": {
        "id": "lzdNTR0IoFFm"
      },
      "source": [
        "<div style=\"background-color:rgb(60, 79, 114); padding: 10px;\">\n",
        "\n",
        "Tenemos los siguientes impuestos en forma de variable y queremos imprimirlos por pantalla con una sola función print con el siguiente formato:\n",
        "\n",
        "Impuesto x: tanto% del salario anual\n",
        "\n",
        "Impuesto y: tanto% del rendimiento trimestralmente\n",
        "\n",
        "Impuesto z: tanto% de la rentabilidad obtenida\n"
      ]
    },
    {
      "cell_type": "code",
      "execution_count": 8,
      "metadata": {
        "colab": {
          "base_uri": "https://localhost:8080/"
        },
        "id": "dSD7nWvpoFFq",
        "outputId": "82565458-ef51-4d62-ba2d-bd13a94833d9"
      },
      "outputs": [
        {
          "name": "stdout",
          "output_type": "stream",
          "text": [
            "IRPF: 0.28%\n",
            "Autónomos: 0.3\n",
            "Actividades_económicas: 0.2\n",
            "IRPF: 0.28%\n",
            "Autónomos: 0.3\n",
            "Actividades_económicas: 0.2\n"
          ]
        }
      ],
      "source": [
        "\n",
        "irpf = 0.28\n",
        "autonomo = 0.30\n",
        "actividades_economicas = 0.20\n",
        "\n",
        "# Escribe aquí tu código\n",
        "print(f\"IRPF: {irpf}%\\nAutónomos: {autonomo}\\nActividades_económicas: {actividades_economicas}\\n\")\n",
        "\n",
        "# Ahora vamos a hacer lo mismo pero escrito distinto\n",
        "print(f\"IRPF: {irpf}%\\n\"\n",
        "      f\"Autónomos: {autonomo}\\n\"\n",
        "      f\"Actividades_económicas: {actividades_economicas}\")\n",
        "\n",
        "# Ambas funciones de print imprimen igual pero la de abajo es más visual\n"
      ]
    },
    {
      "cell_type": "markdown",
      "metadata": {
        "id": "tSoePbXHoFFq"
      },
      "source": [
        "<div style=\"background-color:rgb(60, 79, 114); padding: 10px;\">\n",
        "\n",
        "Ahora queremos saber el tipo de variable que hemos usado en cada ejercicio de la parte práctica\n",
        "Imprime por pantalla el tipo de las 6 variables usadas\n"
      ]
    },
    {
      "cell_type": "code",
      "execution_count": 9,
      "metadata": {
        "colab": {
          "base_uri": "https://localhost:8080/"
        },
        "id": "9TS531ZcoFFq",
        "outputId": "53d06315-3759-4553-90a8-15f64ed9124b"
      },
      "outputs": [
        {
          "name": "stdout",
          "output_type": "stream",
          "text": [
            "<class 'int'>\n",
            "<class 'int'>\n",
            "<class 'datetime.date'>\n",
            "<class 'float'>\n",
            "<class 'float'>\n",
            "<class 'float'>\n"
          ]
        }
      ],
      "source": [
        "# Escribe aquí tu codido\n",
        "print(type(salario_ana))\n",
        "print(type(salario_belen))\n",
        "print(type(dia_correcion_salario))\n",
        "print(type(irpf))\n",
        "print(type(autonomo))\n",
        "print(type(actividades_economicas))"
      ]
    },
    {
      "cell_type": "markdown",
      "metadata": {
        "id": "4kWgtIMtoFFq"
      },
      "source": [
        "<div style=\"background-color:rgb(60, 79, 114); padding: 10px;\">\n",
        "\n",
        "Asigna una variable  tipo string al valor 2 y luego cámbiala a formato entero"
      ]
    },
    {
      "cell_type": "code",
      "execution_count": 11,
      "metadata": {
        "colab": {
          "base_uri": "https://localhost:8080/"
        },
        "id": "8xYcrgkooFFq",
        "outputId": "ce63d700-377b-4cb5-99ab-713838248645"
      },
      "outputs": [
        {
          "name": "stdout",
          "output_type": "stream",
          "text": [
            "<class 'int'>\n"
          ]
        }
      ],
      "source": [
        "# Escribe aquí tu codido\n",
        "dos = \"2\"\n",
        "num_dos = int(dos)\n",
        "\n",
        "print(type(num_dos))"
      ]
    }
  ],
  "metadata": {
    "colab": {
      "include_colab_link": true,
      "provenance": []
    },
    "kernelspec": {
      "display_name": "first_try",
      "language": "python",
      "name": "python3"
    },
    "language_info": {
      "codemirror_mode": {
        "name": "ipython",
        "version": 3
      },
      "file_extension": ".py",
      "mimetype": "text/x-python",
      "name": "python",
      "nbconvert_exporter": "python",
      "pygments_lexer": "ipython3",
      "version": "3.9.20"
    },
    "orig_nbformat": 4
  },
  "nbformat": 4,
  "nbformat_minor": 0
}
