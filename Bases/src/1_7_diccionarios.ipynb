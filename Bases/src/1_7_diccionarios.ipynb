{
  "cells": [
    {
      "cell_type": "markdown",
      "metadata": {
        "id": "DpSoPUThPBcd"
      },
      "source": [
        "# Diccionarios"
      ]
    },
    {
      "cell_type": "markdown",
      "metadata": {
        "id": "YUw-OzuePBce"
      },
      "source": [
        "- Los diccionarios son conjuntos de datos `clave : valor`"
      ]
    },
    {
      "cell_type": "code",
      "execution_count": null,
      "metadata": {
        "id": "HZnWxjzKPBce",
        "outputId": "ea8908a8-5a6d-4f0f-ceb1-5885f4e45772"
      },
      "outputs": [
        {
          "name": "stdout",
          "output_type": "stream",
          "text": [
            "<class 'dict'>\n"
          ]
        }
      ],
      "source": [
        "d = dict()\n",
        "d = {}\n",
        "print(type(d))"
      ]
    },
    {
      "cell_type": "code",
      "execution_count": null,
      "metadata": {
        "id": "SwyWJ5SkPBcf",
        "outputId": "59cd17f3-3d5c-464b-96d5-15171c32db66"
      },
      "outputs": [
        {
          "name": "stdout",
          "output_type": "stream",
          "text": [
            "{'Clave': 'Valor', 9: [1, 2, 3, 4, 5, 5, 5]}\n"
          ]
        }
      ],
      "source": [
        "# Para añadir elementos al diccionario\n",
        "d['Clave'] = 'Valor'\n",
        "d[9] = [1,2,3,4,5,5,5]\n",
        "print(d)"
      ]
    },
    {
      "cell_type": "code",
      "execution_count": null,
      "metadata": {
        "id": "8MbT47G6PBcf",
        "outputId": "c9793fab-ef7e-483d-a450-98258d8bfd83"
      },
      "outputs": [
        {
          "data": {
            "text/plain": [
              "'Valor'"
            ]
          },
          "execution_count": 4,
          "metadata": {},
          "output_type": "execute_result"
        }
      ],
      "source": [
        "# Para recuperar los valores...\n",
        "d['Clave']"
      ]
    },
    {
      "cell_type": "code",
      "execution_count": null,
      "metadata": {
        "id": "wcM5KL3vPBcg"
      },
      "outputs": [],
      "source": [
        "# Tambien podemos definir el diccionario de manera manual\n",
        "d = {\n",
        "    'uno' : 1,\n",
        "    'dos' : 2,\n",
        "    'tres' : 3\n",
        "}"
      ]
    },
    {
      "cell_type": "code",
      "execution_count": null,
      "metadata": {
        "id": "9R7WuvBUPBcg",
        "outputId": "195c3262-bf06-4d0e-de97-66f249862b88"
      },
      "outputs": [
        {
          "data": {
            "text/plain": [
              "1"
            ]
          },
          "execution_count": 7,
          "metadata": {},
          "output_type": "execute_result"
        }
      ],
      "source": [
        "d['uno']"
      ]
    },
    {
      "cell_type": "markdown",
      "metadata": {
        "id": "k08HonckPBcg"
      },
      "source": [
        "- Las claves también pueden ser números, pero siguen siendo claves, no indexables"
      ]
    },
    {
      "cell_type": "code",
      "execution_count": null,
      "metadata": {
        "id": "Xujjn9ujPBcg"
      },
      "outputs": [],
      "source": [
        "d = {\n",
        "    1:'uno',\n",
        "    2:'dos',\n",
        "    3:'tres'\n",
        "}"
      ]
    },
    {
      "cell_type": "code",
      "execution_count": null,
      "metadata": {
        "id": "xHzRXPUBPBcg",
        "outputId": "48e6d3e3-ac4d-4f8a-e640-3c9462974b31"
      },
      "outputs": [
        {
          "data": {
            "text/plain": [
              "'uno'"
            ]
          },
          "execution_count": 9,
          "metadata": {},
          "output_type": "execute_result"
        }
      ],
      "source": [
        "d[1]"
      ]
    },
    {
      "cell_type": "code",
      "execution_count": null,
      "metadata": {
        "id": "Ed6xjCRLPBcg",
        "outputId": "9477f049-2880-4010-d184-92bbd67b6d26"
      },
      "outputs": [
        {
          "ename": "TypeError",
          "evalue": "unhashable type: 'slice'",
          "output_type": "error",
          "traceback": [
            "\u001b[1;31m---------------------------------------------------------------------------\u001b[0m",
            "\u001b[1;31mTypeError\u001b[0m                                 Traceback (most recent call last)",
            "\u001b[1;32mc:\\Users\\adriy\\Desktop\\Curso_uam\\python_finance\\2_python_core\\2_7_diccionarios.ipynb Celda 12\u001b[0m in \u001b[0;36m<cell line: 1>\u001b[1;34m()\u001b[0m\n\u001b[1;32m----> <a href='vscode-notebook-cell:/c%3A/Users/adriy/Desktop/Curso_uam/python_finance/2_python_core/2_7_diccionarios.ipynb#X20sZmlsZQ%3D%3D?line=0'>1</a>\u001b[0m d[\u001b[39m1\u001b[39;49m:\u001b[39m2\u001b[39;49m]\n",
            "\u001b[1;31mTypeError\u001b[0m: unhashable type: 'slice'"
          ]
        }
      ],
      "source": [
        "# Causa error\n",
        "d[1:2]"
      ]
    },
    {
      "cell_type": "markdown",
      "metadata": {
        "id": "69ZtVnuSPBcg"
      },
      "source": [
        "- Los valores asociados a cada clave pueden ser cualquier objeto"
      ]
    },
    {
      "cell_type": "code",
      "execution_count": null,
      "metadata": {
        "id": "QiixceSFPBcg"
      },
      "outputs": [],
      "source": [
        "d = {\n",
        "    'lista': [1,2,2,3,4,5],\n",
        "    'tupla': (1,23,4),\n",
        "    'matriz': [[1,2],[3,4]],\n",
        "    'diccionario':{\n",
        "        'clave':'valor'\n",
        "    }\n",
        "\n",
        "}"
      ]
    },
    {
      "cell_type": "code",
      "execution_count": null,
      "metadata": {
        "id": "ls0E0utiPBcg",
        "outputId": "c77635e8-840f-4ceb-a4c4-2009285cc6f1"
      },
      "outputs": [
        {
          "name": "stdout",
          "output_type": "stream",
          "text": [
            "[1, 2, 2, 3, 4, 5]\n",
            "(1, 23, 4)\n",
            "[[1, 2], [3, 4]]\n",
            "{'clave': 'valor'}\n"
          ]
        }
      ],
      "source": [
        "print(d['lista'])\n",
        "print(d['tupla'])\n",
        "print(d['matriz'])\n",
        "print(d['diccionario'])"
      ]
    },
    {
      "cell_type": "markdown",
      "metadata": {
        "id": "e91RaKyQPBcg"
      },
      "source": [
        "## Built-in Functions"
      ]
    },
    {
      "cell_type": "markdown",
      "metadata": {
        "id": "XICWyZ0PPBcg"
      },
      "source": [
        "|Métodos|Description|\n",
        "|----|---|\n",
        "```<view> = <dict>.keys()``` |                          Obtenemos las claves (keys) del diccionario.|\n",
        "```<view> = <dict>.values()``` |                        Obtenemos los valores del diccionario.|\n",
        "```<view> = <dict>.items()```   |                       Obtenemos los pares de clave:valor del diccionario.|\n",
        "```<dict> = dict(zip(keys, values)) ```  |              Crea un diccionario desde dos colecciones.|"
      ]
    },
    {
      "cell_type": "code",
      "execution_count": null,
      "metadata": {
        "id": "avN1HPKnPBch"
      },
      "outputs": [],
      "source": [
        "# Creamos un diccionario\n",
        "d = {1: \"uno\", 2: \"dos\", 3: \"tres\"}"
      ]
    },
    {
      "cell_type": "code",
      "execution_count": null,
      "metadata": {
        "id": "HgVsP09DPBch",
        "outputId": "f3663e1e-52b7-4f52-c3f4-37286ac9f121"
      },
      "outputs": [
        {
          "data": {
            "text/plain": [
              "dict_keys([1, 2, 3])"
            ]
          },
          "execution_count": 7,
          "metadata": {},
          "output_type": "execute_result"
        }
      ],
      "source": [
        "# Obtenemos sus claves por separado\n",
        "d.keys()"
      ]
    },
    {
      "cell_type": "code",
      "execution_count": null,
      "metadata": {
        "id": "SgqITqKzPBch",
        "outputId": "efc5ad61-9a45-4acb-c8ff-07cca18ba9ce"
      },
      "outputs": [
        {
          "data": {
            "text/plain": [
              "dict_values(['uno', 'dos', 'tres'])"
            ]
          },
          "execution_count": 8,
          "metadata": {},
          "output_type": "execute_result"
        }
      ],
      "source": [
        "# Obtenemos sus valores por separado\n",
        "d.values()"
      ]
    },
    {
      "cell_type": "code",
      "execution_count": null,
      "metadata": {
        "id": "F88u9PjEPBch",
        "outputId": "d2b71397-d25d-4dd0-f3f2-ebc7e9c83617"
      },
      "outputs": [
        {
          "data": {
            "text/plain": [
              "dict_items([(1, 'uno'), (2, 'dos'), (3, 'tres')])"
            ]
          },
          "execution_count": 9,
          "metadata": {},
          "output_type": "execute_result"
        }
      ],
      "source": [
        "# Obtenemos ambos a la vez\n",
        "d.items()"
      ]
    },
    {
      "cell_type": "code",
      "execution_count": null,
      "metadata": {
        "id": "Co-SpEuxPBch",
        "outputId": "d1a28afc-21ed-427f-e80b-f6be112a8cfe"
      },
      "outputs": [
        {
          "data": {
            "text/plain": [
              "{1: 'uno', 2: 'dos', 3: 'tres'}"
            ]
          },
          "execution_count": 11,
          "metadata": {},
          "output_type": "execute_result"
        }
      ],
      "source": [
        "# Creamos un diccionario usando la función zip() y convirtiéndolo a diccionario\n",
        "d = dict(zip([1, 2, 3], ['uno', 'dos', 'tres']))\n",
        "d"
      ]
    },
    {
      "cell_type": "code",
      "execution_count": null,
      "metadata": {
        "id": "pSQYv8JfPBch",
        "outputId": "75eda8ca-43a7-4fa6-f8aa-e5691844d5c7"
      },
      "outputs": [
        {
          "name": "stdout",
          "output_type": "stream",
          "text": [
            "3\n"
          ]
        }
      ],
      "source": [
        "# Obtenemos la longitud de la lista de claves del diccionario\n",
        "print(len(d))"
      ]
    },
    {
      "cell_type": "code",
      "execution_count": null,
      "metadata": {
        "id": "m1JMh8cqPBch",
        "outputId": "bcbd7a68-e6ec-4368-9746-98806861732b"
      },
      "outputs": [
        {
          "data": {
            "text/plain": [
              "True"
            ]
          },
          "execution_count": 20,
          "metadata": {},
          "output_type": "execute_result"
        }
      ],
      "source": [
        "# Usamos el operador 'in' para saber si una clave existe en la lista  de claves del diccionario\n",
        "1 in d"
      ]
    },
    {
      "cell_type": "markdown",
      "metadata": {
        "id": "N8wqRYtjPW28"
      },
      "source": [
        "## Práctica"
      ]
    },
    {
      "cell_type": "markdown",
      "metadata": {
        "id": "qRy24Vb1PZYw"
      },
      "source": [
        "<div style=\"background-color:rgb(60, 79, 114); padding: 10px;\">\n",
        "\n",
        "Tenemos los siguientes tickers de acciones: AAPL, AMZN, TEF, NVDA, DIS:\n",
        "- Consulta en la web yahoo finanze sus valores.\n",
        "- Crea un diccionario asignando Ticker -> Valor.\n",
        "- Imprime el contenido del diccionario."
      ]
    },
    {
      "cell_type": "code",
      "execution_count": null,
      "metadata": {
        "id": "V0waFplMPZCP"
      },
      "outputs": [],
      "source": [
        "# Escribe aquí tu código"
      ]
    },
    {
      "cell_type": "markdown",
      "metadata": {},
      "source": [
        "<div style=\"background-color:rgb(60, 79, 114); padding: 10px;\">\n",
        "\n",
        "\n",
        "Repite el ejercicio de arriba pero accediendo a los valores de las listas. \n",
        "\n",
        "Asigna el primero de una con el primero de la otra y viceversa.\n",
        "\n",
        "Imprime el resultado por pantalla."
      ]
    },
    {
      "cell_type": "code",
      "execution_count": null,
      "metadata": {},
      "outputs": [],
      "source": [
        "valores = [228.88, 187.93, 4.41, 117.99, 97.31]\n",
        "tickers = ['AAPL', 'AMZN', 'TEF', 'NVDA', 'DIS']\n",
        "\n",
        "# Escribe aquí tu código"
      ]
    },
    {
      "cell_type": "markdown",
      "metadata": {
        "id": "NZb3p8kDQTqy"
      },
      "source": [
        "<div style=\"background-color:rgb(60, 79, 114); padding: 10px;\">\n",
        "\n",
        "Tenemos una cartera con 120 acciones de cada uno de los tickers. Calcula el valor total de la cartera"
      ]
    },
    {
      "cell_type": "code",
      "execution_count": null,
      "metadata": {
        "id": "7jXBmdNzQkGt"
      },
      "outputs": [],
      "source": [
        "# Escribe aquí tu código\n",
        "\n",
        "# Manualmente sin bucle\n",
        "\n",
        "# Con bucles que aun no hemos visto"
      ]
    }
  ],
  "metadata": {
    "colab": {
      "provenance": []
    },
    "kernelspec": {
      "display_name": "Python 3.8.8 ('base')",
      "language": "python",
      "name": "python3"
    },
    "language_info": {
      "codemirror_mode": {
        "name": "ipython",
        "version": 3
      },
      "file_extension": ".py",
      "mimetype": "text/x-python",
      "name": "python",
      "nbconvert_exporter": "python",
      "pygments_lexer": "ipython3",
      "version": "3.10.6"
    },
    "orig_nbformat": 4,
    "vscode": {
      "interpreter": {
        "hash": "3a2a03ea413f8be244ba01daf0e257f98f0dabeb03c7836e7000a0f3738aa8c9"
      }
    }
  },
  "nbformat": 4,
  "nbformat_minor": 0
}
