{
  "cells": [
    {
      "cell_type": "markdown",
      "metadata": {
        "id": "5oLE7rD0AkE9"
      },
      "source": [
        "# Syntaxis básica"
      ]
    },
    {
      "cell_type": "markdown",
      "metadata": {
        "id": "hr6CyA8zAkE-"
      },
      "source": [
        "Las reglas son las siguientes:\n",
        "* Los espacios cuentan dependiendo del contexto.\n",
        "\n",
        "* No se permiten espacios al principio de la línea.\n",
        "    * Excepto para las estructuras de control de flujo (condicionales y bucles) y las funciones, cuyo contexto está definido por la identación, como veremos más adelante.\n",
        "    \n",
        "* \\# se utiliza para comentar las líneas.\n",
        "\n",
        "Ahora vamos a ver como aplicar esto"
      ]
    },
    {
      "cell_type": "code",
      "execution_count": null,
      "metadata": {
        "id": "XsiZFDpGAkE_",
        "outputId": "a35946c5-6890-4703-b5ca-6aa039fa3b5e"
      },
      "outputs": [
        {
          "data": {
            "text/plain": [
              "6"
            ]
          },
          "execution_count": 1,
          "metadata": {},
          "output_type": "execute_result"
        }
      ],
      "source": [
        "1 + 2 + 3"
      ]
    },
    {
      "cell_type": "code",
      "execution_count": null,
      "metadata": {
        "id": "SGNXl9lxAkFA",
        "outputId": "6e8558ce-affe-446c-8c96-9de1138b0008"
      },
      "outputs": [
        {
          "data": {
            "text/plain": [
              "6"
            ]
          },
          "execution_count": 2,
          "metadata": {},
          "output_type": "execute_result"
        }
      ],
      "source": [
        "1+2+3"
      ]
    },
    {
      "cell_type": "code",
      "execution_count": null,
      "metadata": {
        "id": "qCqX2pRMAkFA",
        "outputId": "6b6e244b-8a0c-4111-ab35-e579b3f7869e"
      },
      "outputs": [
        {
          "ename": "IndentationError",
          "evalue": "unexpected indent (1208613986.py, line 2)",
          "output_type": "error",
          "traceback": [
            "\u001b[1;36m  Cell \u001b[1;32mIn[5], line 2\u001b[1;36m\u001b[0m\n\u001b[1;33m    3+4\u001b[0m\n\u001b[1;37m    ^\u001b[0m\n\u001b[1;31mIndentationError\u001b[0m\u001b[1;31m:\u001b[0m unexpected indent\n"
          ]
        }
      ],
      "source": [
        "1+2\n",
        " 3+4"
      ]
    },
    {
      "cell_type": "markdown",
      "metadata": {
        "id": "dwxyQsDOAkFB"
      },
      "source": [
        "## Comentarios"
      ]
    },
    {
      "cell_type": "markdown",
      "metadata": {
        "id": "Wfj4xQusAkFB"
      },
      "source": [
        "Los comentarios son líneas de texto que se pueden introducir en el código para explicar cómo funciona o para qué sirve"
      ]
    },
    {
      "cell_type": "code",
      "execution_count": null,
      "metadata": {
        "id": "a7mLikrhAkFB"
      },
      "outputs": [],
      "source": [
        "# Esto es un comentario de una linea"
      ]
    },
    {
      "cell_type": "code",
      "execution_count": null,
      "metadata": {
        "id": "TKaw_eHQAkFB"
      },
      "outputs": [],
      "source": [
        "\"\"\"\n",
        "Esto es\n",
        "un comentario\n",
        "de\n",
        "varias lineas\n",
        "\n",
        "Se puede usar para documentar funciones\n",
        "\"\"\""
      ]
    },
    {
      "cell_type": "code",
      "execution_count": null,
      "metadata": {
        "id": "ORLlSQZ4AkFB"
      },
      "outputs": [],
      "source": [
        "# Esto es\n",
        "# un comentario\n",
        "# de\n",
        "# varias lineas\n",
        "#\n",
        "# Se puede usar para documentar funciones"
      ]
    },
    {
      "cell_type": "markdown",
      "metadata": {
        "id": "HU6kY0MMA5TU"
      },
      "source": [
        "## Haz tus pruebas\n"
      ]
    },
    {
      "cell_type": "code",
      "execution_count": null,
      "metadata": {
        "id": "GndwF7CKAsFg"
      },
      "outputs": [],
      "source": [
        "# Prueba a escribir operaciones y comentarios\n",
        "# Ejecuta para ver si te salen errores de sintaxis"
      ]
    }
  ],
  "metadata": {
    "colab": {
      "provenance": []
    },
    "kernelspec": {
      "display_name": "Python 3.8.8 ('base')",
      "language": "python",
      "name": "python3"
    },
    "language_info": {
      "codemirror_mode": {
        "name": "ipython",
        "version": 3
      },
      "file_extension": ".py",
      "mimetype": "text/x-python",
      "name": "python",
      "nbconvert_exporter": "python",
      "pygments_lexer": "ipython3",
      "version": "3.10.6"
    },
    "vscode": {
      "interpreter": {
        "hash": "3a2a03ea413f8be244ba01daf0e257f98f0dabeb03c7836e7000a0f3738aa8c9"
      }
    }
  },
  "nbformat": 4,
  "nbformat_minor": 0
}
