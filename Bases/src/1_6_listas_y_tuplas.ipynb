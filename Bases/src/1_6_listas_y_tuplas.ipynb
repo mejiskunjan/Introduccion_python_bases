{
  "cells": [
    {
      "cell_type": "markdown",
      "metadata": {
        "id": "C_wownQyIZCZ"
      },
      "source": [
        "# Listas"
      ]
    },
    {
      "cell_type": "markdown",
      "metadata": {
        "id": "cvOpstt-IZCa"
      },
      "source": [
        "- Las listas son de las estructuras más usadas.\n",
        "- Permiten guardar más de un valor de distitos tipos.\n",
        "- Se puede acceder a los datos mediante un índice."
      ]
    },
    {
      "cell_type": "code",
      "execution_count": null,
      "metadata": {
        "id": "xtQ4T9-7IZCb",
        "outputId": "45948188-6870-4532-b0ca-371c3eb2e58c"
      },
      "outputs": [
        {
          "data": {
            "text/plain": [
              "list"
            ]
          },
          "execution_count": 44,
          "metadata": {},
          "output_type": "execute_result"
        }
      ],
      "source": [
        "# Podemos declarar una lista de la siguiente manera.\n",
        "a = []\n",
        "type(a)"
      ]
    },
    {
      "cell_type": "code",
      "execution_count": null,
      "metadata": {
        "id": "w3tDsM2PIZCb",
        "outputId": "0ba8206c-b783-495e-c784-4611efd46073"
      },
      "outputs": [
        {
          "data": {
            "text/plain": [
              "list"
            ]
          },
          "execution_count": 45,
          "metadata": {},
          "output_type": "execute_result"
        }
      ],
      "source": [
        "# También podemos usar la función list()\n",
        "a = list()\n",
        "type(a)"
      ]
    },
    {
      "cell_type": "markdown",
      "metadata": {
        "id": "uvbbZiSMIZCb"
      },
      "source": [
        "- Se pueden asignar los valores de manera manual al crear la propia lista."
      ]
    },
    {
      "cell_type": "code",
      "execution_count": null,
      "metadata": {
        "id": "cfG6DZS1IZCb",
        "outputId": "cfa43b7c-5733-4a1e-ddba-d8fe0dfb12cd"
      },
      "outputs": [
        {
          "data": {
            "text/plain": [
              "['perro', 'gato']"
            ]
          },
          "execution_count": 46,
          "metadata": {},
          "output_type": "execute_result"
        }
      ],
      "source": [
        "x = ['perro','gato']\n",
        "x"
      ]
    },
    {
      "cell_type": "markdown",
      "metadata": {
        "id": "7GMAvZmyIZCb"
      },
      "source": [
        "## ¿Cómo accedemos a los datos que contiene la lista?"
      ]
    },
    {
      "cell_type": "code",
      "execution_count": null,
      "metadata": {
        "id": "VwDDMjqHIZCb",
        "outputId": "00ca90e4-74b2-454e-9e60-c85feb7a327e"
      },
      "outputs": [
        {
          "data": {
            "text/plain": [
              "'perro'"
            ]
          },
          "execution_count": 47,
          "metadata": {},
          "output_type": "execute_result"
        }
      ],
      "source": [
        "x[0]  # Los índices en python empiezan por 0."
      ]
    },
    {
      "cell_type": "code",
      "execution_count": null,
      "metadata": {
        "id": "jlBvEOY0IZCc",
        "outputId": "9b938bec-39b1-4bec-8a06-92a5253d990c"
      },
      "outputs": [
        {
          "data": {
            "text/plain": [
              "'gato'"
            ]
          },
          "execution_count": 48,
          "metadata": {},
          "output_type": "execute_result"
        }
      ],
      "source": [
        "x[-1]  # El índice -1 se refiere al último elemento de la lista."
      ]
    },
    {
      "cell_type": "markdown",
      "metadata": {
        "id": "v4ME4vbOIZCc"
      },
      "source": [
        "- Los tipos de datos que tiene dentro una lista no tienen por que ser iguales, pueden ser incluso otra lista."
      ]
    },
    {
      "cell_type": "code",
      "execution_count": null,
      "metadata": {
        "id": "QTML2D6wIZCc"
      },
      "outputs": [],
      "source": [
        "y = [1, 2, 3, 4, 5, 6, 7]"
      ]
    },
    {
      "cell_type": "code",
      "execution_count": null,
      "metadata": {
        "id": "2TShkqdXIZCc",
        "outputId": "b91dc467-b911-4fbb-ab46-c2648f5f9232"
      },
      "outputs": [
        {
          "name": "stdout",
          "output_type": "stream",
          "text": [
            "[['perro', 'gato'], [1, 2, 3, 4, 5, 6, 7]]\n"
          ]
        }
      ],
      "source": [
        "z = [x, y]\n",
        "print(z)"
      ]
    },
    {
      "cell_type": "code",
      "execution_count": null,
      "metadata": {
        "id": "cdYSYJtmIZCc",
        "outputId": "05e5d2d0-7d2e-4a0c-f7e6-bd88fbab14a9"
      },
      "outputs": [
        {
          "data": {
            "text/plain": [
              "['perro', 'gato']"
            ]
          },
          "execution_count": 51,
          "metadata": {},
          "output_type": "execute_result"
        }
      ],
      "source": [
        "z[0]"
      ]
    },
    {
      "cell_type": "code",
      "execution_count": null,
      "metadata": {
        "id": "XZBXMO7WIZCc",
        "outputId": "7e215b45-49f6-4baf-cea6-bdb00de3f103"
      },
      "outputs": [
        {
          "data": {
            "text/plain": [
              "[1, 2, 3, 4, 5]"
            ]
          },
          "execution_count": 52,
          "metadata": {},
          "output_type": "execute_result"
        }
      ],
      "source": [
        "# Primero accedemos al segundo elemento de la lista\n",
        "# Luego seleccionamos los primeros 5 elementos de la lista anterior\n",
        "z[1][:5]"
      ]
    },
    {
      "cell_type": "markdown",
      "metadata": {},
      "source": [
        "<div style=\"background-color:rgb(60, 79, 114); padding: 10px;\">\n",
        "\n",
        "Supongamos que queremos saber cuánto patrimonio tenemos en nuestra cartera:\n",
        "\n",
        "1. Tenemos una cartera con 5 activos, los que queráis.\n",
        "2. Tenemos también una lista con cotizaciones de cada activo.\n",
        "3. Por último tenemos una lista con el número de acciones de cada activo que poseemos.\n",
        "\n",
        "Debemos calcular el patrimonio total de nuestra cartera usando tres listas:\n",
        "* Lista de activos.\n",
        "* Lista de cotizaciones por activo.\n",
        "* Lista de número de acciones por activo.\n",
        "\n",
        "</div>"
      ]
    },
    {
      "cell_type": "code",
      "execution_count": 5,
      "metadata": {},
      "outputs": [
        {
          "name": "stdout",
          "output_type": "stream",
          "text": [
            "Resuelve: 21\n",
            "Explica: 4\n"
          ]
        }
      ],
      "source": [
        "import numpy as np\n",
        "\n",
        "rng = np.random.default_rng()\n",
        "x = rng.integers(low=1, high=30, size=2)\n",
        "print(f\"Resuelve: {x[0]}\")\n",
        "print(f\"Explica: {x[1]}\")"
      ]
    },
    {
      "cell_type": "code",
      "execution_count": null,
      "metadata": {},
      "outputs": [],
      "source": []
    },
    {
      "cell_type": "markdown",
      "metadata": {},
      "source": [
        "<div style=\"background-color:rgb(60, 79, 114); padding: 10px;\">\n",
        "\n",
        "Supongamos que queremos hacer una lista de la compra.\n",
        "\n",
        "1. La lista de la compra tiene 2 elementos: \"carne\" y \"pescado\".\n",
        "2. Queremos comprar 3 tipos de carne: \"ternera\", \"cerdo\" y \"pollo\".\n",
        "3. Queremos comprar 2 tipos de pescado: \"salmón\", \"merluza\".\n",
        "4. El precio por kilo de cada artículo es el siguiente:\n",
        "    * Ternera: 12\n",
        "    * Cerdo: 10\n",
        "    * Pollo: 6\n",
        "    * Salmón: 20\n",
        "    * Merluza: 22\n",
        "5. Las cantidades, en kilos, a comprar son:\n",
        "    * Ternera: 0.5\n",
        "    * Cerdo: 0.2\n",
        "    * Pollo: 1.5\n",
        "    * Salmón: 1.0\n",
        "    * Merluza: 2.5\n",
        "\n",
        "Debemos calcular el precio total de la compra utilizando 3 variables:\n",
        "\n",
        "* lista_compra: debe tener dos dimensiones (una lista de listas)\n",
        "* precios\n",
        "* cantidades\n",
        "\n",
        "</div>"
      ]
    },
    {
      "cell_type": "code",
      "execution_count": 6,
      "metadata": {},
      "outputs": [
        {
          "name": "stdout",
          "output_type": "stream",
          "text": [
            "Resuelve: 5\n",
            "Explica: 6\n"
          ]
        }
      ],
      "source": [
        "import numpy as np\n",
        "\n",
        "rng = np.random.default_rng()\n",
        "x = rng.integers(low=1, high=30, size=2)\n",
        "print(f\"Resuelve: {x[0]}\")\n",
        "print(f\"Explica: {x[1]}\")"
      ]
    },
    {
      "cell_type": "code",
      "execution_count": null,
      "metadata": {},
      "outputs": [],
      "source": []
    },
    {
      "cell_type": "markdown",
      "metadata": {},
      "source": [
        "## Unpacking\n",
        "\n",
        "- Asignar los valores de una lista a otras variables."
      ]
    },
    {
      "cell_type": "code",
      "execution_count": null,
      "metadata": {
        "id": "aLn1itHiIZCc"
      },
      "outputs": [],
      "source": [
        "a, b, c = [1, 2, 3]"
      ]
    },
    {
      "cell_type": "code",
      "execution_count": null,
      "metadata": {
        "id": "J3dgYKFvIZCc",
        "outputId": "faec88ee-d654-4ca2-df79-3df9aecd4ad5"
      },
      "outputs": [
        {
          "name": "stdout",
          "output_type": "stream",
          "text": [
            "1 2 3\n"
          ]
        }
      ],
      "source": [
        "print(a, b, c)"
      ]
    },
    {
      "cell_type": "markdown",
      "metadata": {
        "id": "P4fhDQRZIZCc"
      },
      "source": [
        "## Funciones útiles con listas\n"
      ]
    },
    {
      "cell_type": "markdown",
      "metadata": {
        "id": "gudsaaYZIZCc"
      },
      "source": [
        "\n",
        "* La función **range()** sirve para generar listas de números enteros.\n",
        "* No se crea la lista de números hasta que no se usa."
      ]
    },
    {
      "cell_type": "markdown",
      "metadata": {
        "id": "bH0WWq-CIZCc"
      },
      "source": [
        "Desde 0 hasta n-1 --> range(n)"
      ]
    },
    {
      "cell_type": "code",
      "execution_count": null,
      "metadata": {
        "id": "oy5StBCvIZCc",
        "outputId": "ab052e7b-26be-4c92-b37c-29a04f14f67d"
      },
      "outputs": [
        {
          "data": {
            "text/plain": [
              "range(0, 10)"
            ]
          },
          "execution_count": 55,
          "metadata": {},
          "output_type": "execute_result"
        }
      ],
      "source": [
        "range(10) # Indica el rango, pero no lo crea en memoria"
      ]
    },
    {
      "cell_type": "code",
      "execution_count": null,
      "metadata": {
        "id": "NGX9fkazIZCc",
        "outputId": "a8cb8033-739e-446e-bee3-da1821cd7d80"
      },
      "outputs": [
        {
          "data": {
            "text/plain": [
              "[0, 1, 2, 3, 4, 5, 6, 7, 8, 9]"
            ]
          },
          "execution_count": 56,
          "metadata": {},
          "output_type": "execute_result"
        }
      ],
      "source": [
        "list(range(10)) # Si lo convertimos a una lista, se crea en memoria"
      ]
    },
    {
      "cell_type": "markdown",
      "metadata": {
        "id": "1eNrbKlAIZCc"
      },
      "source": [
        "Desde m hasta n-1 --> range(m, n)"
      ]
    },
    {
      "cell_type": "code",
      "execution_count": null,
      "metadata": {
        "id": "ytVsYr0sIZCc",
        "outputId": "f8ae9e65-0c9c-4728-ceb1-bed9ed39a5be"
      },
      "outputs": [
        {
          "data": {
            "text/plain": [
              "[7, 8, 9, 10, 11, 12, 13, 14, 15, 16]"
            ]
          },
          "execution_count": 57,
          "metadata": {},
          "output_type": "execute_result"
        }
      ],
      "source": [
        "list(range(7, 17))"
      ]
    },
    {
      "cell_type": "markdown",
      "metadata": {
        "id": "bpmbM93_IZCc"
      },
      "source": [
        "Desde m hasta n-1 de s en s --> range(m, n, s)"
      ]
    },
    {
      "cell_type": "code",
      "execution_count": null,
      "metadata": {
        "id": "Xm4uI967IZCc",
        "outputId": "e86974ce-161c-4490-d32e-b5dfa048f2f5"
      },
      "outputs": [
        {
          "data": {
            "text/plain": [
              "[0, 10, 20, 30, 40, 50, 60, 70, 80, 90]"
            ]
          },
          "execution_count": 58,
          "metadata": {},
          "output_type": "execute_result"
        }
      ],
      "source": [
        "list(range(0, 100, 10))"
      ]
    },
    {
      "cell_type": "markdown",
      "metadata": {
        "id": "4JH9-UhaIZCd"
      },
      "source": [
        "- Las listas tienen funciones incorporadas, algunas que nos pueden resultar útiles son:\n",
        "\n",
        "|Métodos de las listas|Notas|\n",
        "|---|----|\n",
        "|```<list> = <list>[from_inclusive : to_exclusive : ±step_size]```|      Indexación |\n",
        "|```<list>.append(<el>)```      |       Añade un elemento al final|\n",
        "|```<list>.extend(<collection>)```|     Une dos listas sin crear una nested list|\n",
        "|```<list>.sort()```|      Ordena de manera ascendente|\n",
        "|```<list>.reverse()```|      Invierte el orden de los elementos |\n",
        "|```<list> = sorted(<collection>)```|      Devuelve una copia ordenada|\n",
        "|```<iter> = reversed(<list>)```|     Devuelve una copia invertida|\n",
        "|```index = <list>.index(<el>)```|      Devuelve el índice del elemento en la lista.|\n",
        "\n",
        "Se puede leer más [aquí](https://www.softwaretestinghelp.com/python-list-functions/)"
      ]
    },
    {
      "cell_type": "markdown",
      "metadata": {
        "id": "eoQ6u_x0IZCd"
      },
      "source": [
        "- Algunas funciones de Python que nos pueden resultar útiles al aplicarlas sobre las listas:\n",
        "\n",
        "|Funciones|Notas|\n",
        "|---|----|\n",
        "|```len(<list>)```| Longitud de la lista |\n",
        "|```sum(<list>)```| Suma de los elementos |\n",
        "|```min(<list>)```| Mínimo de los elementos |\n",
        "|```max(<list>)```| Máximo de los elementos |"
      ]
    },
    {
      "cell_type": "code",
      "execution_count": null,
      "metadata": {
        "id": "V-VntPRlIZCd",
        "outputId": "f33554ef-80e0-4cb3-b75e-b3468cef0a8b"
      },
      "outputs": [
        {
          "data": {
            "text/plain": [
              "4"
            ]
          },
          "execution_count": 59,
          "metadata": {},
          "output_type": "execute_result"
        }
      ],
      "source": [
        "mi_lista = list([3, 7, 1, \"Jose\"])\n",
        "len(mi_lista)"
      ]
    },
    {
      "cell_type": "code",
      "execution_count": null,
      "metadata": {
        "id": "Q4NzlQhhIZCd",
        "outputId": "be9f2bde-0c12-4038-982f-7bdb1cf6b98a"
      },
      "outputs": [
        {
          "name": "stdout",
          "output_type": "stream",
          "text": [
            "min = 0   max = 9   total = 45\n"
          ]
        }
      ],
      "source": [
        "mi_lista = range(10)\n",
        "print(\"min =\", min(mi_lista), \"  max =\", max(mi_lista), \"  total =\", sum(mi_lista))"
      ]
    },
    {
      "cell_type": "markdown",
      "metadata": {
        "id": "7CSHKOCWIZCd"
      },
      "source": [
        "Si la lista es de strings al usar max(), min() devuelve el primer y el último elemento en orden léxico (ordenado por ASCII)"
      ]
    },
    {
      "cell_type": "code",
      "execution_count": null,
      "metadata": {
        "id": "x4uZEzFFIZCd",
        "outputId": "5c5b3e3c-8311-409d-b0d2-1f553c43a041"
      },
      "outputs": [
        {
          "name": "stdout",
          "output_type": "stream",
          "text": [
            "max = zz\n",
            "min = az\n"
          ]
        }
      ],
      "source": [
        "mlist = ['bzaa', 'ds', 'nc', 'az', 'z', 'klm', 'zz']\n",
        "print(\"max =\", max(mlist))\n",
        "print(\"min =\", min(mlist))"
      ]
    },
    {
      "cell_type": "code",
      "execution_count": null,
      "metadata": {
        "id": "LGMH_mwyIZCd",
        "outputId": "43d2d6b8-ac3f-47a4-9bed-98f96e59fbf5"
      },
      "outputs": [
        {
          "name": "stdout",
          "output_type": "stream",
          "text": [
            "max = 94\n",
            "min = 1\n"
          ]
        }
      ],
      "source": [
        "nlist = ['1', '94', '93', '1000']\n",
        "print(\"max =\", max(nlist))\n",
        "print('min =', min(nlist))"
      ]
    },
    {
      "cell_type": "markdown",
      "metadata": {
        "id": "aft1hbYJIZCd"
      },
      "source": [
        "**max(list, key=fun)**  tiene un parámetro key, donde podemos especificar una función que altere el comportamiento\n"
      ]
    },
    {
      "cell_type": "code",
      "execution_count": null,
      "metadata": {
        "id": "YXMGbq7cIZCd",
        "outputId": "2e14a8fe-b5fd-4bc0-92dc-28e386591b63"
      },
      "outputs": [
        {
          "name": "stdout",
          "output_type": "stream",
          "text": [
            "['bzaa', 'ds', 'nc', 'az', 'z', 'klm', 'zz']\n",
            "longest = bzaa\n",
            "shortest = z\n"
          ]
        }
      ],
      "source": [
        "print(mlist)\n",
        "print('longest =', max(mlist, key=len))\n",
        "print('shortest =', min(mlist, key=len))"
      ]
    },
    {
      "cell_type": "code",
      "execution_count": null,
      "metadata": {
        "id": "Dg9F5ERlIZCd",
        "outputId": "22deafa7-441a-4389-c749-7933b65711d8"
      },
      "outputs": [
        {
          "data": {
            "text/plain": [
              "['az', 'bzaa', 'ds', 'klm', 'nc', 'z', 'zz']"
            ]
          },
          "execution_count": 64,
          "metadata": {},
          "output_type": "execute_result"
        }
      ],
      "source": [
        "mlist.sort()\n",
        "mlist"
      ]
    },
    {
      "cell_type": "code",
      "execution_count": null,
      "metadata": {
        "id": "UGI3AbBzIZCd",
        "outputId": "1dd5ec96-c6fa-43c1-f2a2-64b20a54b16b"
      },
      "outputs": [
        {
          "name": "stdout",
          "output_type": "stream",
          "text": [
            "['zz', 'z', 'nc', 'klm', 'ds', 'bzaa', 'az']\n",
            "['z', 'zz', 'nc', 'ds', 'az', 'klm', 'bzaa']\n"
          ]
        }
      ],
      "source": [
        "mlist.sort(reverse=True)\n",
        "print(mlist)\n",
        "mlist.sort(key=len)\n",
        "print(mlist)\n"
      ]
    },
    {
      "cell_type": "code",
      "execution_count": null,
      "metadata": {
        "id": "wXC3ixSMIZCd",
        "outputId": "b5a77227-279f-40fc-fcb9-58bbd010ec34"
      },
      "outputs": [
        {
          "name": "stdout",
          "output_type": "stream",
          "text": [
            "[3, 2, 1] [1, 2, 3]\n"
          ]
        }
      ],
      "source": [
        "lista_a = [3, 2, 1]\n",
        "lista_b = sorted(lista_a)\n",
        "print(f\"{lista_a} {lista_b}\")"
      ]
    },
    {
      "cell_type": "markdown",
      "metadata": {
        "id": "xI4cNXWqIZCd"
      },
      "source": [
        "**list.append(list)** para añadir un elemento al final de la lista."
      ]
    },
    {
      "cell_type": "code",
      "execution_count": null,
      "metadata": {
        "id": "YHeCFfElIZCe",
        "outputId": "d945d2d1-7da2-4a4e-8f0b-3917343bf86b"
      },
      "outputs": [
        {
          "name": "stdout",
          "output_type": "stream",
          "text": [
            "[8, 6, 4, 5, 9, 0, 1, 465646464]\n"
          ]
        }
      ],
      "source": [
        "lst = [8,6,4,5,9,0,1]\n",
        "lst.append(465646464)\n",
        "print(lst)"
      ]
    },
    {
      "cell_type": "markdown",
      "metadata": {
        "id": "NexfXx7EIZCe"
      },
      "source": [
        "- Añadir una lista a otra con *append* crea una nested list (lista anidada).\n",
        "- Para evitar este comportamiente usar  **list.extend(list)**"
      ]
    },
    {
      "cell_type": "code",
      "execution_count": null,
      "metadata": {
        "id": "sqZPY4AIIZCe"
      },
      "outputs": [],
      "source": [
        "list_1 = [1, 1, 4, 8, 7]\n",
        "list_2 = [10, 11, 12]"
      ]
    },
    {
      "cell_type": "code",
      "execution_count": null,
      "metadata": {
        "id": "_vvNwk3nIZCe",
        "outputId": "c59eec02-848f-4195-827a-a907dc8d0dfa"
      },
      "outputs": [
        {
          "data": {
            "text/plain": [
              "[1, 1, 4, 8, 7, [10, 11, 12]]"
            ]
          },
          "execution_count": 69,
          "metadata": {},
          "output_type": "execute_result"
        }
      ],
      "source": [
        "list_1.append(list_2)\n",
        "list_1"
      ]
    },
    {
      "cell_type": "code",
      "execution_count": null,
      "metadata": {
        "id": "j_04iKLTIZCe"
      },
      "outputs": [],
      "source": [
        "list_1 = [1, 1, 4, 8, 7]\n",
        "list_2 = [10, 11, 12]"
      ]
    },
    {
      "cell_type": "code",
      "execution_count": null,
      "metadata": {
        "id": "bL5b7gefIZCe",
        "outputId": "ba7e4e04-d0ff-4948-def4-403020624089"
      },
      "outputs": [
        {
          "data": {
            "text/plain": [
              "[1, 1, 4, 8, 7, 10, 11, 12]"
            ]
          },
          "execution_count": 71,
          "metadata": {},
          "output_type": "execute_result"
        }
      ],
      "source": [
        "list_1.extend(list_2)\n",
        "list_1"
      ]
    },
    {
      "cell_type": "markdown",
      "metadata": {
        "id": "3DQAhyN_IZCe"
      },
      "source": [
        "Concatenar dos listas"
      ]
    },
    {
      "cell_type": "code",
      "execution_count": null,
      "metadata": {
        "id": "3aYeY7UUIZCe",
        "outputId": "10bd3c55-e4e1-4b00-a3fa-0bd0580c86b3"
      },
      "outputs": [
        {
          "data": {
            "text/plain": [
              "[1, 2, 3, 9, 45, 65]"
            ]
          },
          "execution_count": 72,
          "metadata": {},
          "output_type": "execute_result"
        }
      ],
      "source": [
        "[1, 2, 3] + [9, 45, 65]"
      ]
    },
    {
      "cell_type": "markdown",
      "metadata": {
        "id": "z_Pe87YtIZCe"
      },
      "source": [
        "## Operadores de pertenencia\n",
        "\n",
        "- Para saber si un elemento está en una lista podemos usar el operador **in**"
      ]
    },
    {
      "cell_type": "code",
      "execution_count": null,
      "metadata": {
        "id": "NctGebASIZCe"
      },
      "outputs": [],
      "source": [
        "names = ['pueblo', 'ciudad', 'autobus', 'coche']"
      ]
    },
    {
      "cell_type": "code",
      "execution_count": null,
      "metadata": {
        "id": "sFIgdpBDIZCe",
        "outputId": "7c98a2cb-041b-4dfe-84df-e5987929830d"
      },
      "outputs": [
        {
          "data": {
            "text/plain": [
              "True"
            ]
          },
          "execution_count": 74,
          "metadata": {},
          "output_type": "execute_result"
        }
      ],
      "source": [
        "'coche' in names"
      ]
    },
    {
      "cell_type": "code",
      "execution_count": null,
      "metadata": {
        "id": "M0Ftt-WmIZCe",
        "outputId": "33f461d6-889d-4a31-a250-4a0d3733278c"
      },
      "outputs": [
        {
          "data": {
            "text/plain": [
              "True"
            ]
          },
          "execution_count": 75,
          "metadata": {},
          "output_type": "execute_result"
        }
      ],
      "source": [
        "'peluquero' not in names"
      ]
    },
    {
      "cell_type": "markdown",
      "metadata": {
        "id": "N0x1mPxgIZCe"
      },
      "source": [
        "## Copia de listas\n",
        "- Cuando se hace una asignación de una lista a otra variable **NO SE HACE UNA COPIA**.\n",
        "- Esa variable será una referencia a la lista original.\n",
        "\n",
        "<img src=\"../imgs/02_04_listas_y_tuplas/CopiaListas.png\" style=\"width:25%\">"
      ]
    },
    {
      "cell_type": "code",
      "execution_count": null,
      "metadata": {
        "id": "q6UWxx8nIZCe"
      },
      "outputs": [],
      "source": [
        "list_a = [1, 2, 3, 4, 5]\n",
        "list_b = list_a\n",
        "list_c = list_a.copy()"
      ]
    },
    {
      "cell_type": "code",
      "execution_count": null,
      "metadata": {
        "id": "yapxgjcjIZCf",
        "outputId": "ed0c06d9-16e1-41da-ce54-8db22071fa76"
      },
      "outputs": [
        {
          "name": "stdout",
          "output_type": "stream",
          "text": [
            "[1, 2, 3, 4, 5]\n",
            "[1, 2, 3, 4, 5]\n",
            "[1, 2, 3, 4, 5]\n"
          ]
        }
      ],
      "source": [
        "print(list_a)\n",
        "print(list_b)\n",
        "print(list_c)\n"
      ]
    },
    {
      "cell_type": "code",
      "execution_count": null,
      "metadata": {
        "id": "g4v1nFFQIZCf"
      },
      "outputs": [],
      "source": [
        "list_a[1] = 9999"
      ]
    },
    {
      "cell_type": "code",
      "execution_count": null,
      "metadata": {
        "id": "nRwVTiNtIZCf",
        "outputId": "ecf04a09-e3a1-4750-b767-9320cbdba2d8"
      },
      "outputs": [
        {
          "name": "stdout",
          "output_type": "stream",
          "text": [
            "[1, 9999, 3, 4, 5]\n",
            "[1, 9999, 3, 4, 5]\n",
            "[1, 2, 3, 4, 5]\n"
          ]
        }
      ],
      "source": [
        "print(list_a)\n",
        "print(list_b)\n",
        "print(list_c)"
      ]
    },
    {
      "cell_type": "markdown",
      "metadata": {
        "id": "rsZzVv12IZCf"
      },
      "source": [
        "## Tuplas\n",
        "- Parecidas a las listas, pero inmutables.\n",
        "- Se suelen usar para devolver los resultados de una función o almacenar datos de iteradores."
      ]
    },
    {
      "cell_type": "code",
      "execution_count": null,
      "metadata": {
        "id": "1eJu_blQIZCf"
      },
      "outputs": [],
      "source": [
        "# Podemos definir una tupla de las siguientes maneras\n",
        "tupla_1 = ()\n",
        "tupla_2 = tuple()"
      ]
    },
    {
      "cell_type": "code",
      "execution_count": null,
      "metadata": {
        "id": "jV2BUMXCIZCf",
        "outputId": "2bd24f3b-ce13-44db-e0a6-3a932dde4b41"
      },
      "outputs": [
        {
          "data": {
            "text/plain": [
              "tuple"
            ]
          },
          "execution_count": 81,
          "metadata": {},
          "output_type": "execute_result"
        }
      ],
      "source": [
        "type(tupla_1)"
      ]
    },
    {
      "cell_type": "code",
      "execution_count": null,
      "metadata": {
        "id": "d7G9loiKIZCf",
        "outputId": "acd1a6cf-3560-4cba-fb66-8e44d2b0f6c5"
      },
      "outputs": [
        {
          "data": {
            "text/plain": [
              "tuple"
            ]
          },
          "execution_count": 82,
          "metadata": {},
          "output_type": "execute_result"
        }
      ],
      "source": [
        "type(tupla_2)"
      ]
    },
    {
      "cell_type": "code",
      "execution_count": null,
      "metadata": {
        "id": "WucSegO2IZCf",
        "outputId": "1909c82d-52db-4614-adb2-42fce3fdbf7d"
      },
      "outputs": [
        {
          "name": "stdout",
          "output_type": "stream",
          "text": [
            "(1, 2, 3)\n"
          ]
        }
      ],
      "source": [
        "tupla_3 = (1, 2, 3)\n",
        "print(tupla_3)"
      ]
    },
    {
      "cell_type": "markdown",
      "metadata": {
        "id": "ihV8WsNQIZCf"
      },
      "source": [
        "- Tenemos las mismas normas de indexación y slicing que las listas"
      ]
    },
    {
      "cell_type": "code",
      "execution_count": null,
      "metadata": {
        "id": "b1QRSJkfIZCf",
        "outputId": "2c716154-33c8-4505-f7dd-0c6629d97c19"
      },
      "outputs": [
        {
          "data": {
            "text/plain": [
              "(1, 2, 3)"
            ]
          },
          "execution_count": 84,
          "metadata": {},
          "output_type": "execute_result"
        }
      ],
      "source": [
        "tupla_3"
      ]
    },
    {
      "cell_type": "code",
      "execution_count": null,
      "metadata": {
        "id": "EsY9I13lIZCf",
        "outputId": "cafafb3c-9c56-47bb-8d60-ecdc4d286c89"
      },
      "outputs": [
        {
          "name": "stdout",
          "output_type": "stream",
          "text": [
            "1\n",
            "3\n"
          ]
        }
      ],
      "source": [
        "print(tupla_3[0])\n",
        "print(tupla_3[-1])"
      ]
    },
    {
      "cell_type": "markdown",
      "metadata": {
        "id": "bktBbSksIZCf"
      },
      "source": [
        "* ¿Qué significa que son inmutables?"
      ]
    },
    {
      "cell_type": "code",
      "execution_count": null,
      "metadata": {
        "id": "FCpcxL7tIZCf",
        "outputId": "8704f275-bd05-41c1-ab52-713e642cb9d1"
      },
      "outputs": [
        {
          "data": {
            "text/plain": [
              "1"
            ]
          },
          "execution_count": 86,
          "metadata": {},
          "output_type": "execute_result"
        }
      ],
      "source": [
        "tupla_3[0]"
      ]
    },
    {
      "cell_type": "code",
      "execution_count": null,
      "metadata": {
        "id": "93MHaoE5IZCf",
        "outputId": "8a3c9609-87cc-4f33-b18d-052d34c02757"
      },
      "outputs": [
        {
          "ename": "TypeError",
          "evalue": "'tuple' object does not support item assignment",
          "output_type": "error",
          "traceback": [
            "\u001b[1;31m---------------------------------------------------------------------------\u001b[0m",
            "\u001b[1;31mTypeError\u001b[0m                                 Traceback (most recent call last)",
            "Cell \u001b[1;32mIn[87], line 1\u001b[0m\n\u001b[1;32m----> 1\u001b[0m \u001b[43mtupla_3\u001b[49m\u001b[43m[\u001b[49m\u001b[38;5;241;43m0\u001b[39;49m\u001b[43m]\u001b[49m \u001b[38;5;241m=\u001b[39m \u001b[38;5;124m'\u001b[39m\u001b[38;5;124mhola\u001b[39m\u001b[38;5;124m'\u001b[39m\n",
            "\u001b[1;31mTypeError\u001b[0m: 'tuple' object does not support item assignment"
          ]
        }
      ],
      "source": [
        "tupla_3[0] = 'hola'"
      ]
    },
    {
      "cell_type": "markdown",
      "metadata": {
        "id": "OOzXrChWIZCf"
      },
      "source": [
        "* Unpacking"
      ]
    },
    {
      "cell_type": "code",
      "execution_count": null,
      "metadata": {
        "id": "39bIfqtIIZCf"
      },
      "outputs": [],
      "source": [
        "a, b, c = (1, 2, 3)"
      ]
    },
    {
      "cell_type": "code",
      "execution_count": null,
      "metadata": {
        "id": "AQVE-pmCIZCg",
        "outputId": "08664287-3a31-4950-95a0-0d0e5b46fcce"
      },
      "outputs": [
        {
          "name": "stdout",
          "output_type": "stream",
          "text": [
            "a = 1, b = 2, c = 3\n"
          ]
        }
      ],
      "source": [
        "print(f\"a = {a}, b = {b}, c = {c}\")\n"
      ]
    },
    {
      "cell_type": "markdown",
      "metadata": {
        "id": "3TesPBB4J3jj"
      },
      "source": [
        "## Práctica"
      ]
    },
    {
      "cell_type": "markdown",
      "metadata": {},
      "source": [
        "<div style=\"background-color:rgb(60, 79, 114); padding: 10px;\">\n",
        "\n",
        "Crea una lista con los primero 20 pares y consigue el máximo y el mínimo.\n",
        "Imprímelos por pantalla."
      ]
    },
    {
      "cell_type": "code",
      "execution_count": null,
      "metadata": {},
      "outputs": [],
      "source": [
        "# Escribe aquí tu código"
      ]
    },
    {
      "cell_type": "markdown",
      "metadata": {
        "id": "bwdACDh6J8_v"
      },
      "source": [
        "<div style=\"background-color:rgb(60, 79, 114); padding: 10px;\">\n",
        "\n",
        "Tenemos dos listas con los tickers de algunas acciones y queremos hacer varias cosas:\n",
        "- Buscar en la web de yahoo finance el ticker de 2 acciones nuevas y añadir una a cada lista.\n",
        "- Juntar las dos listas en una nueva.\n",
        "- Ordenar la nueva lista por orden alfabético.\n",
        "- Ahora de manera inversa.\n",
        "- Intercambiar los valores entre el primero y el último.\n",
        "- Crear una copia de la lista y ordenarla por longitud."
      ]
    },
    {
      "cell_type": "code",
      "execution_count": null,
      "metadata": {
        "id": "-Mt25MCMK1FC"
      },
      "outputs": [],
      "source": [
        "tickers_1 = ['AAPL', 'MSFT', 'GOOGL', 'AMZN', 'TSLA']\n",
        "tickers_2 = ['META', 'NFLX', 'NVDA', 'JPM', 'VISA']\n",
        "\n",
        "# Escribe aquí tu código\n",
        "\n",
        "# Añadimos los tickers a las listas\n",
        "\n",
        "# Juntamos las listas\n",
        "\n",
        "# Ordenamos la lista\n",
        "\n",
        "# Ordenar inversa \n",
        "\n",
        "# Intercambiamos el primero con el último\n",
        "\n",
        "# Creamos una copia y la ordenamos por longitud"
      ]
    },
    {
      "cell_type": "markdown",
      "metadata": {},
      "source": [
        "<div style=\"background-color:rgb(60, 79, 114); padding: 10px;\">\n",
        "\n",
        "Crea 3 tuplas de numeros o palabras, conviertelas a listas y júntalas en una sola lista.\n",
        "Imprime por pantalla el resultado."
      ]
    },
    {
      "cell_type": "code",
      "execution_count": null,
      "metadata": {},
      "outputs": [],
      "source": [
        "# Escribe aquí tu código\n",
        "\n",
        "# Crea las 3 tuplas\n",
        "\n",
        "# Convierte las tuplas en listas\n",
        "\n",
        "# Juntas las tres listas en una sola\n",
        "\n",
        "# Imprime por pantalla"
      ]
    }
  ],
  "metadata": {
    "colab": {
      "provenance": []
    },
    "kernelspec": {
      "display_name": ".venv",
      "language": "python",
      "name": "python3"
    },
    "language_info": {
      "codemirror_mode": {
        "name": "ipython",
        "version": 3
      },
      "file_extension": ".py",
      "mimetype": "text/x-python",
      "name": "python",
      "nbconvert_exporter": "python",
      "pygments_lexer": "ipython3",
      "version": "3.10.6"
    },
    "orig_nbformat": 4
  },
  "nbformat": 4,
  "nbformat_minor": 0
}
