{
  "cells": [
    {
      "cell_type": "markdown",
      "metadata": {
        "id": "asXmiu8jBSHC"
      },
      "source": [
        "# Variables"
      ]
    },
    {
      "cell_type": "markdown",
      "metadata": {
        "id": "iFdm76yrBSHE"
      },
      "source": [
        "Una variable se puede interpretar como una caja donde se guarda un determinado valor en un momento del tiempo. Se denomina ```variable``` porque su valor puede ```variar``` a lo largo del tiempo; en caso contrario se denominaría ```constante```.\n",
        "\n",
        "Cuando tengo muchas variables, necesito disponer de una manera de identificarlas para poder referirme a ellas, ver qué contenido tienen o cambiarlo o combinarlo u operar con él. Es decir, necesito una manera de ```nombrar``` variables.\n",
        "\n",
        "<img src=\"../imgs/02_02_variables/variables_1.png\">\n",
        "\n",
        "Existen ciertas reglas para nombrar las variables en Python:\n",
        "- Caracteres alfanuméricos: a-z,A-Z,0-9\n",
        "- Guión bajo: _\n",
        "- No pueden empezar por un número\n",
        "- No se deben usar palabras reservadas:\n",
        "    - False, None, True, and, as, assert, break, class, continue, def, del, elif, else, except, finally, for, from, global, if, import, in, is, lambda, nonlocal, not, or, pass, raise, return, try, while, with, yield"
      ]
    },
    {
      "cell_type": "markdown",
      "metadata": {
        "id": "e7vqHaCIBSHE"
      },
      "source": [
        "La asignación de una variables es el momento en el cual le proporcionamos un valor, por ejemplo:"
      ]
    },
    {
      "cell_type": "code",
      "execution_count": 11,
      "metadata": {
        "id": "RsBOo09cBSHE",
        "outputId": "83ea1faf-7003-46b1-bfae-8304db2cbded"
      },
      "outputs": [
        {
          "data": {
            "text/plain": [
              "8"
            ]
          },
          "execution_count": 11,
          "metadata": {},
          "output_type": "execute_result"
        }
      ],
      "source": [
        "x = 8\n",
        "x"
      ]
    },
    {
      "cell_type": "code",
      "execution_count": 12,
      "metadata": {
        "id": "2u3SX7quBSHF",
        "outputId": "46b91f28-c289-4426-c587-128ac10f5c42"
      },
      "outputs": [
        {
          "name": "stdout",
          "output_type": "stream",
          "text": [
            "9\n"
          ]
        }
      ],
      "source": [
        "numero = 9\n",
        "print(numero)"
      ]
    },
    {
      "cell_type": "markdown",
      "metadata": {
        "id": "z8NHMKB9BSHG"
      },
      "source": [
        "- Como podemos ver la asignación se realiza con el operador \"=\"\n",
        "- Se pueden hacer asignaciones multiples en una sola línea\n"
      ]
    },
    {
      "cell_type": "code",
      "execution_count": 13,
      "metadata": {
        "id": "SuYA6jMOBSHG",
        "outputId": "f1ed5425-6ece-420a-9923-583d45c38cf7"
      },
      "outputs": [
        {
          "name": "stdout",
          "output_type": "stream",
          "text": [
            "1\n",
            "2\n"
          ]
        }
      ],
      "source": [
        "primero, segundo = 1,2\n",
        "print(primero)\n",
        "print(segundo)"
      ]
    },
    {
      "cell_type": "markdown",
      "metadata": {
        "id": "WS2B_RQeBSHG"
      },
      "source": [
        "Si usamos variables que no han sido creadas obtendremos un error"
      ]
    },
    {
      "cell_type": "code",
      "execution_count": 14,
      "metadata": {
        "id": "RabXX7TQBSHG",
        "outputId": "8d2bb58a-28b4-480d-fbf4-6deab8cc8405"
      },
      "outputs": [
        {
          "ename": "NameError",
          "evalue": "name 'peso' is not defined",
          "output_type": "error",
          "traceback": [
            "\u001b[0;31m---------------------------------------------------------------------------\u001b[0m",
            "\u001b[0;31mNameError\u001b[0m                                 Traceback (most recent call last)",
            "Cell \u001b[0;32mIn[14], line 1\u001b[0m\n\u001b[0;32m----> 1\u001b[0m \u001b[43mpeso\u001b[49m\n",
            "\u001b[0;31mNameError\u001b[0m: name 'peso' is not defined"
          ]
        }
      ],
      "source": [
        "peso"
      ]
    },
    {
      "cell_type": "code",
      "execution_count": null,
      "metadata": {
        "id": "mxs37t4ABSHG",
        "outputId": "0279398b-add6-4802-b6d4-2e8d171b3e8e"
      },
      "outputs": [
        {
          "name": "stdout",
          "output_type": "stream",
          "text": [
            "1\n",
            "1\n"
          ]
        }
      ],
      "source": [
        "# tambien podemos asignar a multiples variables un mismo valor\n",
        "num = numer = 1\n",
        "print(num)\n",
        "print(numer)"
      ]
    },
    {
      "cell_type": "markdown",
      "metadata": {
        "id": "sR9bNjqJBSHG"
      },
      "source": [
        "Gracias a la asignación multiple en la misma línea, podemos hacer intercambios de variables en una sola línea"
      ]
    },
    {
      "cell_type": "code",
      "execution_count": null,
      "metadata": {
        "id": "wm07DNTBBSHG",
        "outputId": "0e87e1b1-2a77-4fbe-f9c8-33e8ff34795a"
      },
      "outputs": [
        {
          "name": "stdout",
          "output_type": "stream",
          "text": [
            "2 1\n"
          ]
        }
      ],
      "source": [
        "# Manera tradicional\n",
        "aux = a\n",
        "a = b\n",
        "b = aux\n",
        "print(a,b)"
      ]
    },
    {
      "cell_type": "code",
      "execution_count": null,
      "metadata": {
        "id": "F1W_16B3BSHG",
        "outputId": "b1d1c22d-0953-4ad7-980f-0193dca59354"
      },
      "outputs": [
        {
          "name": "stdout",
          "output_type": "stream",
          "text": [
            "1 2\n"
          ]
        }
      ],
      "source": [
        "# Python\n",
        "a,b = b,a\n",
        "print(a,b)"
      ]
    },
    {
      "cell_type": "markdown",
      "metadata": {
        "id": "dbEm2nsyBSHH"
      },
      "source": [
        "## Tipos básicos:"
      ]
    },
    {
      "cell_type": "markdown",
      "metadata": {
        "id": "scxixJEPBSHH"
      },
      "source": [
        "|Tipo| Descripción|\n",
        "|-|-|\n",
        "|None|El es valor nulo en Python|\n",
        "|str|Tipo cadena de caracteres, guarda caracteres de tipo UTF-8|\n",
        "|float|Números reales (2.3), pudiendo estar representados en coma flotante (2.3e0)|\n",
        "|bool|True o False, es el tipo usado para representar variables lógicas|\n",
        "|int|Números enteros|\n",
        "|datetime| Fechas|"
      ]
    },
    {
      "cell_type": "markdown",
      "metadata": {
        "id": "fWoIQRc5BSHH"
      },
      "source": [
        "Vamos a mostrar como se representan en python estos tipos"
      ]
    },
    {
      "cell_type": "code",
      "execution_count": null,
      "metadata": {
        "id": "j9Iu8UupBSHH",
        "outputId": "b05e4f31-c5b3-43a5-d278-dab5990feada"
      },
      "outputs": [
        {
          "name": "stdout",
          "output_type": "stream",
          "text": [
            "2\n",
            "-2\n"
          ]
        }
      ],
      "source": [
        "x = 2 # int\n",
        "print(x)\n",
        "\n",
        "x = -2 # int\n",
        "print(x)"
      ]
    },
    {
      "cell_type": "code",
      "execution_count": null,
      "metadata": {
        "id": "erAwr9woBSHH",
        "outputId": "f22b482a-b9f8-4e59-937f-25131c50dff7"
      },
      "outputs": [
        {
          "name": "stdout",
          "output_type": "stream",
          "text": [
            "2.3 230000.0\n"
          ]
        }
      ],
      "source": [
        "x,y = 2.3, 2.3e5 # float\n",
        "print(x,y)"
      ]
    },
    {
      "cell_type": "code",
      "execution_count": null,
      "metadata": {
        "id": "lmbsFHoEBSHH",
        "outputId": "91076bf4-e14a-4f2d-ed2f-ec550ce169e4"
      },
      "outputs": [
        {
          "name": "stdout",
          "output_type": "stream",
          "text": [
            "2\n",
            "esto es una cadena\n",
            "esto es una cadena\n",
            "esto es una\n",
            "cadena que guarda\n",
            "el formato\n",
            "esto es una cadena con 'comillas simples'\n",
            "esto es una cadena con una\ttabulacion y\n",
            "salto de linea\n",
            "esto es una cadena con una \\ barra invertida\n",
            "esto es una cadena con una variable embebida y=10\n"
          ]
        }
      ],
      "source": [
        "x = \"2\" # str\n",
        "print(x)\n",
        "\n",
        "x = \"esto es una cadena\" # str\n",
        "print(x)\n",
        "\n",
        "x = 'esto es una cadena' # str\n",
        "print(x)\n",
        "\n",
        "x = \"\"\"esto es una\n",
        "cadena que guarda\n",
        "el formato\"\"\" # str\n",
        "print(x)\n",
        "\n",
        "x = \"esto es una cadena con 'comillas simples'\" # str\n",
        "print(x)\n",
        "\n",
        "x = \"esto es una cadena con una\\ttabulacion y\\nsalto de linea\" # str\n",
        "print(x)\n",
        "\n",
        "x = \"esto es una cadena con una \\\\ barra invertida\" # str\n",
        "print(x)\n",
        "\n",
        "y = 10\n",
        "x = f\"esto es una cadena con una variable embebida y={y}\" # str\n",
        "print(x)"
      ]
    },
    {
      "cell_type": "code",
      "execution_count": null,
      "metadata": {
        "id": "YcIhC3zvBSHH",
        "outputId": "c480b941-d750-487f-d0a2-82b21a911834"
      },
      "outputs": [
        {
          "name": "stdout",
          "output_type": "stream",
          "text": [
            "True\n",
            "False\n"
          ]
        }
      ],
      "source": [
        "x = True # bool\n",
        "print(x)\n",
        "\n",
        "x = False # bool\n",
        "print(x)"
      ]
    },
    {
      "cell_type": "markdown",
      "metadata": {
        "id": "WZMpSr9HBSHH"
      },
      "source": [
        "Para el manejo de fechas en Python tenemos varias librerías a nuestra disposición. La básica es `datetime`, que podremos utilizar haciendo uso de la instrucción `import datetime`"
      ]
    },
    {
      "cell_type": "code",
      "execution_count": null,
      "metadata": {
        "id": "eDxonWzpBSHH",
        "outputId": "10fa1176-233d-4b03-825c-6a593d114494"
      },
      "outputs": [
        {
          "name": "stdout",
          "output_type": "stream",
          "text": [
            "2024-10-06 08:53:57.146403\n"
          ]
        }
      ],
      "source": [
        "import datetime\n",
        "\n",
        "x = datetime.datetime.now() # datetime\n",
        "print(x)\n"
      ]
    },
    {
      "cell_type": "code",
      "execution_count": null,
      "metadata": {
        "id": "Nqz-76V_BSHI",
        "outputId": "92394927-3d97-4c3d-b17e-d1fd0a910aa8"
      },
      "outputs": [
        {
          "name": "stdout",
          "output_type": "stream",
          "text": [
            "None\n"
          ]
        }
      ],
      "source": [
        "x = None # None Type\n",
        "print(x)"
      ]
    },
    {
      "cell_type": "markdown",
      "metadata": {
        "id": "wGHKJirOBSHI"
      },
      "source": [
        "- Podemos usar la función type() para saber el tipo"
      ]
    },
    {
      "cell_type": "code",
      "execution_count": null,
      "metadata": {
        "id": "x0CPAwWJBSHI",
        "outputId": "a0542f77-ecea-479d-dd32-53c7a33f9db9"
      },
      "outputs": [
        {
          "data": {
            "text/plain": [
              "int"
            ]
          },
          "execution_count": 20,
          "metadata": {},
          "output_type": "execute_result"
        }
      ],
      "source": [
        "type(1)"
      ]
    },
    {
      "cell_type": "code",
      "execution_count": null,
      "metadata": {
        "id": "9c_H6ti9BSHI",
        "outputId": "c0d8d9a8-1e6c-4176-84a2-1460ac96ab1f"
      },
      "outputs": [
        {
          "data": {
            "text/plain": [
              "float"
            ]
          },
          "execution_count": 21,
          "metadata": {},
          "output_type": "execute_result"
        }
      ],
      "source": [
        "type(1.0)"
      ]
    },
    {
      "cell_type": "code",
      "execution_count": null,
      "metadata": {
        "id": "oZXAZ0ZfBSHI",
        "outputId": "9bbda8f2-414c-4b25-8451-402bd3705108"
      },
      "outputs": [
        {
          "data": {
            "text/plain": [
              "str"
            ]
          },
          "execution_count": 22,
          "metadata": {},
          "output_type": "execute_result"
        }
      ],
      "source": [
        "type('hola')"
      ]
    },
    {
      "cell_type": "code",
      "execution_count": null,
      "metadata": {
        "id": "m3ZYrKPPBSHI",
        "outputId": "355711e5-c23e-4cd0-c67b-aeee34840ab0"
      },
      "outputs": [
        {
          "name": "stdout",
          "output_type": "stream",
          "text": [
            "<class 'int'>\n",
            "<class 'str'>\n"
          ]
        }
      ],
      "source": [
        "x = 1\n",
        "print(type(x))\n",
        "#ahora cambiamos el valor de x\n",
        "x = 'pedro'\n",
        "print(type(x))"
      ]
    },
    {
      "cell_type": "markdown",
      "metadata": {
        "id": "kLkcWcJtCCOt"
      },
      "source": [
        "## Práctica"
      ]
    },
    {
      "cell_type": "markdown",
      "metadata": {},
      "source": [
        "<div style=\"background-color:rgb(60, 79, 114); padding: 10px;\">\n",
        "\n",
        "Escribe un programa que muestre por pantalla la siguiente frase:\n",
        "\n",
        "\"Elegir buenos nombres para las variables te lleva a aprobar\""
      ]
    },
    {
      "cell_type": "code",
      "execution_count": null,
      "metadata": {
        "id": "TSE_VSfNCFN2"
      },
      "outputs": [],
      "source": [
        "# Escribe aquí tu código"
      ]
    },
    {
      "cell_type": "markdown",
      "metadata": {},
      "source": [
        "<div style=\"background-color:rgb(60, 79, 114); padding: 10px;\">\n",
        "\n",
        "Ahora queremos imprimir la misma frase pero con el siguiente formato:\n",
        "\n",
        "\"Elegir buenos nombre   para las variable\n",
        "\n",
        "te lleva a aprobar\""
      ]
    },
    {
      "cell_type": "code",
      "execution_count": null,
      "metadata": {
        "id": "wPBuVsbqCs58"
      },
      "outputs": [],
      "source": [
        "# Escribe aquí tu código"
      ]
    },
    {
      "cell_type": "markdown",
      "metadata": {},
      "source": [
        "<div style=\"background-color:rgb(60, 79, 114); padding: 10px;\">\n",
        "\n",
        "Las siguientes variables tienen el salario bruto anual de Ana y Belén\n",
        "pero por un fallo en contabilidad han salido intercambiados.\n",
        "\n",
        "Tenemos que arreglarlo haciendo un cambio de variable SIN usar variable auxiliar.\n",
        "Imprime por pantalla ambos salarios y el nombre de quien corresponde "
      ]
    },
    {
      "cell_type": "code",
      "execution_count": null,
      "metadata": {
        "id": "QH1MLoRpDLPb"
      },
      "outputs": [],
      "source": [
        "salario_ana = 24000\n",
        "salario_belen = 36000\n",
        "\n",
        "# Escribe aquí tu código\n"
      ]
    },
    {
      "cell_type": "markdown",
      "metadata": {},
      "source": [
        "<div style=\"background-color:rgb(60, 79, 114); padding: 10px;\">\n",
        "\n",
        "Queremos saber además la fecha exacta en la que estamos arreglando el problema\n",
        "Crea y muestra por pantalla una variable con esa fecha\n"
      ]
    },
    {
      "cell_type": "code",
      "execution_count": null,
      "metadata": {
        "id": "CeautnB8D_n-"
      },
      "outputs": [],
      "source": [
        "# Escribe aquí tu código"
      ]
    },
    {
      "cell_type": "markdown",
      "metadata": {},
      "source": [
        "<div style=\"background-color:rgb(60, 79, 114); padding: 10px;\">\n",
        "\n",
        "Tenemos los siguientes impuestos en forma de variable y queremos imprimirlos por pantalla con una sola función print con el siguiente formato:\n",
        "\n",
        "Impuesto x: tanto% del salario anual\n",
        "\n",
        "Impuesto y: tanto% del rendimiento trimestralmente\n",
        "\n",
        "Impuesto z: tanto% de la rentabilidad obtenida\n"
      ]
    },
    {
      "cell_type": "code",
      "execution_count": null,
      "metadata": {},
      "outputs": [],
      "source": [
        "\n",
        "irpf = 0.28\n",
        "autonomo = 0.30\n",
        "actividades_economicas = 0.20\n",
        "\n",
        "# Escribe aquí tu código\n"
      ]
    },
    {
      "cell_type": "markdown",
      "metadata": {},
      "source": [
        "<div style=\"background-color:rgb(60, 79, 114); padding: 10px;\">\n",
        "\n",
        "Ahora queremos saber el tipo de variable que hemos usado en cada ejercicio de la parte práctica\n",
        "Imprime por pantalla el tipo de las 6 variables usadas\n"
      ]
    },
    {
      "cell_type": "code",
      "execution_count": null,
      "metadata": {},
      "outputs": [],
      "source": [
        "# Escribe aquí tu codido"
      ]
    },
    {
      "cell_type": "markdown",
      "metadata": {},
      "source": [
        "<div style=\"background-color:rgb(60, 79, 114); padding: 10px;\">\n",
        "\n",
        "Asigna una variable  tipo string al valor 2 y luego cámbiala a formato entero"
      ]
    },
    {
      "cell_type": "code",
      "execution_count": null,
      "metadata": {},
      "outputs": [],
      "source": [
        "# Escribe aquí tu codido"
      ]
    }
  ],
  "metadata": {
    "colab": {
      "provenance": []
    },
    "kernelspec": {
      "display_name": "first_try",
      "language": "python",
      "name": "python3"
    },
    "language_info": {
      "codemirror_mode": {
        "name": "ipython",
        "version": 3
      },
      "file_extension": ".py",
      "mimetype": "text/x-python",
      "name": "python",
      "nbconvert_exporter": "python",
      "pygments_lexer": "ipython3",
      "version": "3.9.20"
    },
    "orig_nbformat": 4
  },
  "nbformat": 4,
  "nbformat_minor": 0
}
