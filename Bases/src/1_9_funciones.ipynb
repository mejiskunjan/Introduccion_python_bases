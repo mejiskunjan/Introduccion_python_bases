{
  "cells": [
    {
      "cell_type": "markdown",
      "metadata": {
        "id": "E5MyXtUJw_iT"
      },
      "source": [
        "# Funciones"
      ]
    },
    {
      "cell_type": "markdown",
      "metadata": {
        "id": "d4FfrmdXw_iV"
      },
      "source": [
        "Una función en programación es similar a una receta de cocina. Así como una receta te dice los pasos para hacer un plato específico, una función te dice los pasos para realizar una tarea específica.\n",
        "\n",
        "En Python, una función se define con la palabra clave `def` y se le da un nombre. La función puede recibir **parámetros**, que son como los ingredientes en una receta, y devuelve un **resultado**, que sería el plato terminado. Aquí tienes un ejemplo sencillo:\n",
        "\n",
        "```python\n",
        "def sumar(a, b):\n",
        "    resultado = a + b\n",
        "    return resultado\n",
        "```\n",
        "\n",
        "En este caso, `sumar` es el nombre de la función, y `a` y `b` son los parámetros. La función toma estos dos números, los suma y luego devuelve el resultado. Puedes \"llamar\" a esta función con diferentes números para obtener su suma, así:\n",
        "\n",
        "```python\n",
        "print(sumar(5, 3))  # Esto imprimirá 8, que es la suma de 5 y 3.\n",
        "```\n",
        "\n",
        "Las funciones son útiles porque te permiten reutilizar código sin tener que escribirlo nuevamente, y hacen que tu programa sea más organizado y fácil de entender.\n",
        "\n",
        "Además, cuando defines una función, estás configurándola con instrucciones específicas. Estas instrucciones se ejecutarán cada vez que llames a la función, **sin importar dónde esté en el código**."
      ]
    },
    {
      "cell_type": "markdown",
      "metadata": {
        "id": "QbjZE6UBw_iW"
      },
      "source": [
        "Las instrucciones básicas para definir una función son:\n",
        "\n",
        "``` python\n",
        "def nombre_de_la_funcion(argumento_1,argumento_2,...,argumento_n):\n",
        "    '''Documentación'''\n",
        "    Bloque de codigo\n",
        "    return <Valor>\n",
        "```"
      ]
    },
    {
      "cell_type": "markdown",
      "metadata": {
        "id": "aHzyTMzdw_iW"
      },
      "source": [
        "Buenas prácticas a la hora de definir una función:\n",
        "* Nombre de la función en infinitivo.\n",
        "* Indicar los tipos de los parámetros recibidos.\n",
        "* Indicar el tipo del valor devuelto.\n",
        "* Documentar la función.\n",
        "\n",
        "Para aquellos que uséis VSCode --> Extensión \"autoDocstring\""
      ]
    },
    {
      "cell_type": "markdown",
      "metadata": {
        "id": "7Nhyv-qqw_iW"
      },
      "source": [
        "## Definición"
      ]
    },
    {
      "cell_type": "code",
      "execution_count": null,
      "metadata": {
        "id": "DJVabwWtw_iX"
      },
      "outputs": [],
      "source": [
        "def sumar(a: int, b: int) -> int:\n",
        "    \"\"\"Suma dos números.\n",
        "\n",
        "    Args:\n",
        "        a (int): Sumando 1\n",
        "        b (int): Sumando 2\n",
        "\n",
        "    Returns:\n",
        "        int: Resultado de la suma\n",
        "    \"\"\"\n",
        "    resultado = a + b\n",
        "    return resultado"
      ]
    },
    {
      "cell_type": "code",
      "execution_count": null,
      "metadata": {
        "id": "a6bm2gtQw_iX",
        "outputId": "f56759d6-0149-4b39-f2d2-3b41d87241b6"
      },
      "outputs": [
        {
          "name": "stdout",
          "output_type": "stream",
          "text": [
            "3\n"
          ]
        }
      ],
      "source": [
        "a = sumar(1, 2)\n",
        "print(a)"
      ]
    },
    {
      "cell_type": "markdown",
      "metadata": {
        "id": "RD_JOyRhw_iY"
      },
      "source": [
        "¿Cómo se llama a las funciones?\n",
        "\n",
        "- Si no se ponen los nombres de los argumentos, toman valor en el orden en el que se pasan.\n",
        "- Los argumentos pueden ser pasados en cualquier orden si se ponen los nombres.\n",
        "- Si se pone nombre a un argumento, a partir de ahí se tienen que poner los nombres siempre."
      ]
    },
    {
      "cell_type": "code",
      "execution_count": null,
      "metadata": {
        "id": "zl9rZNoMw_iY"
      },
      "outputs": [],
      "source": [
        "def sumar(a: int, b: int, c: int) -> int:\n",
        "    \"\"\"Suma tres números.\n",
        "\n",
        "    Args:\n",
        "        a (int): Sumando 1\n",
        "        b (int): Sumando 2\n",
        "        c (int): Sumando 3\n",
        "\n",
        "    Returns:\n",
        "        int: Resultado de la suma\n",
        "    \"\"\"\n",
        "    resultado = a + b + c\n",
        "    return resultado"
      ]
    },
    {
      "cell_type": "code",
      "execution_count": null,
      "metadata": {
        "id": "uNfKnTeyw_iY",
        "outputId": "2100539f-7050-475d-cf6f-3582791c7640"
      },
      "outputs": [
        {
          "data": {
            "text/plain": [
              "6"
            ]
          },
          "execution_count": 6,
          "metadata": {},
          "output_type": "execute_result"
        }
      ],
      "source": [
        "sumar(1, 2, 3)"
      ]
    },
    {
      "cell_type": "code",
      "execution_count": null,
      "metadata": {
        "id": "vgQvrzcXw_iZ",
        "outputId": "ab10a997-4b64-437c-c5e7-6376f269b870"
      },
      "outputs": [
        {
          "data": {
            "text/plain": [
              "6"
            ]
          },
          "execution_count": 7,
          "metadata": {},
          "output_type": "execute_result"
        }
      ],
      "source": [
        "sumar(a=1, b=2, c=3)"
      ]
    },
    {
      "cell_type": "code",
      "execution_count": null,
      "metadata": {
        "id": "GL16QQ__w_iZ",
        "outputId": "a52abe3d-6d49-4858-bb85-b4c8b9ab7f8c"
      },
      "outputs": [
        {
          "data": {
            "text/plain": [
              "6"
            ]
          },
          "execution_count": 9,
          "metadata": {},
          "output_type": "execute_result"
        }
      ],
      "source": [
        "sumar(1, c=2, b=3)"
      ]
    },
    {
      "cell_type": "markdown",
      "metadata": {
        "id": "wIu03qXTw_iZ"
      },
      "source": [
        "## Argumentos por defecto"
      ]
    },
    {
      "cell_type": "code",
      "execution_count": null,
      "metadata": {
        "id": "K8MPHMoYw_iZ"
      },
      "outputs": [],
      "source": [
        "def mi_funcion_lineal(x: int, a: int = 5, b: int = 10) -> int:\n",
        "    \"\"\"Implementa una función lineal.\n",
        "\n",
        "    Args:\n",
        "        x (int): Variable independiente\n",
        "        a (int, optional): Pendiente. Defaults to 5.\n",
        "        b (int, optional): Corte en eje Y. Defaults to 10.\n",
        "\n",
        "    Returns:\n",
        "        int: Resultado de la función lineal y = a * x + b\n",
        "    \"\"\"\n",
        "    y = a * x + b\n",
        "    return y"
      ]
    },
    {
      "cell_type": "code",
      "execution_count": null,
      "metadata": {
        "id": "QZLtUpIyw_iZ",
        "outputId": "1f4f12d5-734b-4a53-e543-6a243d69a3fd"
      },
      "outputs": [
        {
          "data": {
            "text/plain": [
              "20"
            ]
          },
          "execution_count": 13,
          "metadata": {},
          "output_type": "execute_result"
        }
      ],
      "source": [
        "mi_funcion_lineal(2)"
      ]
    },
    {
      "cell_type": "code",
      "execution_count": null,
      "metadata": {
        "id": "2jhlpv2rw_iZ",
        "outputId": "e0fdd959-7a8e-4a96-d5c6-2fb26523f68f"
      },
      "outputs": [
        {
          "data": {
            "text/plain": [
              "5"
            ]
          },
          "execution_count": 14,
          "metadata": {},
          "output_type": "execute_result"
        }
      ],
      "source": [
        "mi_funcion_lineal(x=2, a=2, b=1)"
      ]
    },
    {
      "cell_type": "markdown",
      "metadata": {
        "id": "Z0wkHgbMw_iZ"
      },
      "source": [
        "## Ámbito o contexto de las variables"
      ]
    },
    {
      "cell_type": "code",
      "execution_count": null,
      "metadata": {
        "id": "Ikzxzpchw_iZ"
      },
      "outputs": [],
      "source": [
        "def mi_funcion(x):\n",
        "    print(f\"Valor de x dentro de la función = {x}\")\n",
        "    return x * 2\n"
      ]
    },
    {
      "cell_type": "code",
      "execution_count": null,
      "metadata": {
        "id": "C4kQseGgw_iZ",
        "outputId": "c54aa940-f89e-4b3b-d9c4-6ef2028b60ea"
      },
      "outputs": [
        {
          "name": "stdout",
          "output_type": "stream",
          "text": [
            "Valor de x dentro de la función = 2\n"
          ]
        },
        {
          "data": {
            "text/plain": [
              "4"
            ]
          },
          "execution_count": 20,
          "metadata": {},
          "output_type": "execute_result"
        }
      ],
      "source": [
        "mi_funcion(2)"
      ]
    },
    {
      "cell_type": "code",
      "execution_count": null,
      "metadata": {
        "id": "WEAq1hqXw_iZ",
        "outputId": "45ee59c5-ed13-4a86-f8fc-8b8d2821b62f"
      },
      "outputs": [
        {
          "name": "stdout",
          "output_type": "stream",
          "text": [
            "x antes de llamar a la función = 3\n",
            "Valor de x dentro de la función = 3\n",
            "x después de llamar a la función = 3\n"
          ]
        }
      ],
      "source": [
        "x = 3\n",
        "print(f\"x antes de llamar a la función = {x}\")\n",
        "\n",
        "mi_funcion(x)\n",
        "\n",
        "print(f\"x después de llamar a la función = {x}\")"
      ]
    },
    {
      "cell_type": "code",
      "execution_count": 1,
      "metadata": {
        "colab": {
          "base_uri": "https://localhost:8080/"
        },
        "id": "LagDpcxRw_iZ",
        "outputId": "816257b2-f0fe-4fb7-c46f-d7472a1eb64a"
      },
      "outputs": [
        {
          "name": "stdout",
          "output_type": "stream",
          "text": [
            "x antes de llamar a la función = 3\n",
            "Valor de x dentro de la función antes de modificarlo = 3\n",
            "Valor de x dentro de la función después de modificarlo = 6\n",
            "x después de llamar a la función = 3\n"
          ]
        }
      ],
      "source": [
        "def mi_funcion(x):\n",
        "    print(f\"Valor de x dentro de la función antes de modificarlo = {x}\")\n",
        "\n",
        "    x = x * 2\n",
        "\n",
        "    print(f\"Valor de x dentro de la función después de modificarlo = {x}\")\n",
        "\n",
        "    return x\n",
        "\n",
        "x = 3\n",
        "print(f\"x antes de llamar a la función = {x}\")\n",
        "\n",
        "mi_funcion(x)\n",
        "\n",
        "print(f\"x después de llamar a la función = {x}\")"
      ]
    },
    {
      "cell_type": "code",
      "execution_count": null,
      "metadata": {
        "id": "7FDn4bLkw_ia",
        "outputId": "22c7e3da-1c85-4377-ed6e-b60d6bab24ae"
      },
      "outputs": [
        {
          "name": "stdout",
          "output_type": "stream",
          "text": [
            "x antes de llamar a la función = 3\n",
            "y antes de llamar a la función = 1\n",
            "Valor de x dentro de la función antes de modificarlo = 3\n",
            "Valor de y dentro de la función antes de modificarlo = 1\n",
            "Valor de x dentro de la función después de modificarlo = 4\n",
            "Valor de y dentro de la función después de modificarlo = 5\n",
            "x después de llamar a la función = 3\n",
            "y después de llamar a la función = 5\n"
          ]
        }
      ],
      "source": [
        "y = 1\n",
        "\n",
        "def mi_funcion(x):\n",
        "    global y # Indicamos que queremos usar dentro de \"mi_funcion\" la variable \"y\" que está declarada fuera de ella\n",
        "\n",
        "    print(f\"Valor de x dentro de la función antes de modificarlo = {x}\")\n",
        "    print(f\"Valor de y dentro de la función antes de modificarlo = {y}\")\n",
        "\n",
        "    x = x + y\n",
        "    y = 5\n",
        "\n",
        "    print(f\"Valor de x dentro de la función después de modificarlo = {x}\")\n",
        "    print(f\"Valor de y dentro de la función después de modificarlo = {y}\")\n",
        "\n",
        "    return x\n",
        "\n",
        "x = 3\n",
        "print(f\"x antes de llamar a la función = {x}\")\n",
        "print(f\"y antes de llamar a la función = {y}\")\n",
        "\n",
        "mi_funcion(x)\n",
        "\n",
        "print(f\"x después de llamar a la función = {x}\")\n",
        "print(f\"y después de llamar a la función = {y}\")"
      ]
    },
    {
      "cell_type": "markdown",
      "metadata": {
        "id": "0rVI4Vrxw_ia"
      },
      "source": [
        "## Valores de retorno de una función"
      ]
    },
    {
      "cell_type": "code",
      "execution_count": null,
      "metadata": {
        "id": "bjssmRH9w_ia"
      },
      "outputs": [],
      "source": [
        "def mi_funcion(x):\n",
        "    y = x + 1\n",
        "    z = y + 1\n",
        "    return z, y"
      ]
    },
    {
      "cell_type": "code",
      "execution_count": null,
      "metadata": {
        "id": "6RrsFd7mw_ia",
        "outputId": "5df1197f-1c75-4b73-a57f-c29a8a42549b"
      },
      "outputs": [
        {
          "name": "stdout",
          "output_type": "stream",
          "text": [
            "(4, 3)\n",
            "<class 'tuple'>\n"
          ]
        }
      ],
      "source": [
        "# Podemos devolver una tupla.\n",
        "a = mi_funcion(2)\n",
        "print(a)\n",
        "print(type(a))"
      ]
    },
    {
      "cell_type": "code",
      "execution_count": null,
      "metadata": {
        "id": "XiBqpyMEw_ia",
        "outputId": "c0fe876f-bcc3-4bd7-fb26-a49f102b6be0"
      },
      "outputs": [
        {
          "name": "stdout",
          "output_type": "stream",
          "text": [
            "4\n",
            "3\n"
          ]
        }
      ],
      "source": [
        "# O podemos hacer unpacking.\n",
        "a, b = mi_funcion(2)\n",
        "print(a)\n",
        "print(b)"
      ]
    },
    {
      "cell_type": "markdown",
      "metadata": {
        "id": "pn2hq93Mx5Vw"
      },
      "source": [
        "## Práctica"
      ]
    },
    {
      "cell_type": "markdown",
      "metadata": {
        "id": "OG-XtgwRx8os"
      },
      "source": [
        "<div style=\"background-color:rgb(60, 79, 114); padding: 10px;\">\n",
        "\n",
        "Crea una función que se llame extraer_impares:\n",
        "- Recibe una lista como argumento.\n",
        "- Encuentra todos los número impares de la lista dada.\n",
        "- Devuelve una lista como resultado."
      ]
    },
    {
      "cell_type": "code",
      "execution_count": null,
      "metadata": {
        "id": "pr6kdl3DyUqa"
      },
      "outputs": [],
      "source": [
        "def extraer_impares(lista: list) -> list:\n",
        "    # Escribe aquí tu código"
      ]
    },
    {
      "cell_type": "code",
      "execution_count": null,
      "metadata": {},
      "outputs": [],
      "source": [
        "lista_num = list(range(20))\n",
        "print(extraer_impares(lista_num))"
      ]
    },
    {
      "cell_type": "markdown",
      "metadata": {
        "id": "AyvYHgi-ygkP"
      },
      "source": [
        "<div style=\"background-color:rgb(60, 79, 114); padding: 10px;\">\n",
        "\n",
        "Crea una función que se llame calcular_cartera:\n",
        "- Recibe una lista de tuplas (nº de acciones, valor acción).\n",
        "- Calcula el valor de la cartera.\n",
        "- Devuelve el valor"
      ]
    },
    {
      "cell_type": "code",
      "execution_count": null,
      "metadata": {
        "id": "qEttZVsQy0M4"
      },
      "outputs": [],
      "source": [
        "def calcula_cartera(cartera: list) -> float:\n",
        "    # Escribe aquí tu código"
      ]
    },
    {
      "cell_type": "code",
      "execution_count": null,
      "metadata": {},
      "outputs": [],
      "source": [
        "cartera = [\n",
        "    (760, 86.15),\n",
        "    (485, 488.00),\n",
        "    (341, 460.80),\n",
        "    (906, 325.02),\n",
        "    (381, 211.72),\n",
        "    (262, 179.82),\n",
        "    (188, 228.01),\n",
        "    (288, 134.76),\n",
        "    (166, 408.36),\n",
        "    (527, 280.13)\n",
        "]\n",
        "\n",
        "print(calcula_cartera(cartera))"
      ]
    },
    {
      "cell_type": "markdown",
      "metadata": {},
      "source": [
        "# Extra\n"
      ]
    },
    {
      "cell_type": "markdown",
      "metadata": {},
      "source": [
        "<div style=\"background-color:rgb(60, 79, 114); padding: 10px;\">\n",
        "\n",
        "Crea una función llamada devolver_primos:\n",
        "- Creas una lista de los primeros 200 enteros\n",
        "- Recibe una lista de enteros (creada previamente)\n",
        "- Verifica cuales son primos\n",
        "- Devuelve la lista de los primos"
      ]
    },
    {
      "cell_type": "code",
      "execution_count": null,
      "metadata": {},
      "outputs": [],
      "source": [
        "def devolver_primos(lista: list) -> list:\n",
        "    # Escribe aquí tu código"
      ]
    },
    {
      "cell_type": "code",
      "execution_count": null,
      "metadata": {},
      "outputs": [],
      "source": [
        "# Escribe aquí tu código\n",
        "lista = list(range(200))\n",
        "print(devolver_primos(lista))"
      ]
    },
    {
      "cell_type": "markdown",
      "metadata": {},
      "source": [
        "<div style=\"background-color:rgb(60, 79, 114); padding: 10px;\">\n",
        "\n",
        "Crea una función que se llame verificar_coprimos:\n",
        "- Creas una lista de los primeros 100 enteros\n",
        "- Recibe una lista de enteros (creada previamente)\n",
        "- Verifica cuales son primos entre ellos (coprimos)\n",
        "- Crea tuplas con los coprimos \n",
        "- Añade las tuplas a una lista y devuelve la lista\n",
        "\n",
        "Dos números son coprimos si entre los dos no tienen ningún divisor común"
      ]
    },
    {
      "cell_type": "code",
      "execution_count": null,
      "metadata": {},
      "outputs": [],
      "source": [
        "def mcd(a, b):\n",
        "    # Escribe aquí tu código\n",
        "\n",
        "def verificar_coprimos(lista: list) -> list:\n",
        "    # Escribe aquí tu código"
      ]
    },
    {
      "cell_type": "code",
      "execution_count": null,
      "metadata": {},
      "outputs": [],
      "source": [
        "# Escribe aquí tu código\n",
        "lista = list(range(2,10))\n",
        "print(verificar_coprimos(lista))"
      ]
    }
  ],
  "metadata": {
    "colab": {
      "provenance": []
    },
    "kernelspec": {
      "display_name": "Python 3.8.8 ('base')",
      "language": "python",
      "name": "python3"
    },
    "language_info": {
      "codemirror_mode": {
        "name": "ipython",
        "version": 3
      },
      "file_extension": ".py",
      "mimetype": "text/x-python",
      "name": "python",
      "nbconvert_exporter": "python",
      "pygments_lexer": "ipython3",
      "version": "3.10.6"
    },
    "orig_nbformat": 4,
    "vscode": {
      "interpreter": {
        "hash": "3a2a03ea413f8be244ba01daf0e257f98f0dabeb03c7836e7000a0f3738aa8c9"
      }
    }
  },
  "nbformat": 4,
  "nbformat_minor": 0
}
