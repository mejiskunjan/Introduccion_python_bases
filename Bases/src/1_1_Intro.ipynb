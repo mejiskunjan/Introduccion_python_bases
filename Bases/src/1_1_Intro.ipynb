{
 "cells": [
  {
   "cell_type": "markdown",
   "metadata": {},
   "source": [
    "# ¿Qué es necesario para programar en Python?\n",
    "\n",
    "Para poder programar necesitamos los siguientes componentes:\n",
    "\n",
    "* El lenguaje de programación\n",
    "\n",
    "* Un entorno de programación"
   ]
  },
  {
   "cell_type": "markdown",
   "metadata": {},
   "source": [
    "# ¿Qué es Python?"
   ]
  },
  {
   "cell_type": "markdown",
   "metadata": {},
   "source": [
    "* Python es un lenguaje de programación interpretado.\n",
    "\n",
    "    * Este tipo de lenguajes se compilan (traducen a idioma máquina) en tiempo de ejecución.\n",
    "\n",
    "    * Debido a este proceso los lenguajes interpretados son en general más lentos que los compilados, sim embargo son más portables.\n",
    "\n",
    "    * La mayoría de librerías de Python están escritas con el propio Python, pero aquellas que buscan rendimiento en tiempo de ejecución estarán escritas en lenguajes compilados (en general C, C++ y/o Fortran).\n",
    "\n",
    "* Python es un lenguaje no tipado.\n",
    "\n",
    "    * No hay que definir el tipo de variable, el propio intérprete es capaz de deducir el tipo en tiempo de ejecución.\n",
    "    \n",
    "    * Las variables pueden cambiar de tipo.\n",
    "    \n",
    "* En Python todo es un objeto, de esto hablaremos más adelante."
   ]
  },
  {
   "cell_type": "markdown",
   "metadata": {},
   "source": [
    "# Estructura de Python\n",
    "<img src=\"../imgs/python_structure.png\">"
   ]
  }
 ],
 "metadata": {
  "kernelspec": {
   "display_name": "first_try",
   "language": "python",
   "name": "python3"
  },
  "language_info": {
   "codemirror_mode": {
    "name": "ipython",
    "version": 3
   },
   "file_extension": ".py",
   "mimetype": "text/x-python",
   "name": "python",
   "nbconvert_exporter": "python",
   "pygments_lexer": "ipython3",
   "version": "3.9.20"
  },
  "orig_nbformat": 4
 },
 "nbformat": 4,
 "nbformat_minor": 2
}
