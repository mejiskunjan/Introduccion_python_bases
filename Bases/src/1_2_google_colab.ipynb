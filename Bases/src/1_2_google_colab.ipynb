{
 "cells": [
  {
   "cell_type": "markdown",
   "metadata": {},
   "source": [
    "# Google Colab"
   ]
  },
  {
   "cell_type": "markdown",
   "metadata": {},
   "source": [
    "Google Colab es la forma más rápida y sencilla de empezar a trabajar con Python. Solamente necesitas una cuenta de Google.\n",
    "\n",
    "<a href=\"https://colab.research.google.com/\"> Acceso a Google Colab </a>"
   ]
  },
  {
   "cell_type": "markdown",
   "metadata": {},
   "source": [
    "<img src=\"../imgs/01_01_google_colab/colab_1.png\">"
   ]
  },
  {
   "cell_type": "markdown",
   "metadata": {},
   "source": [
    "<img src=\"../imgs/01_01_google_colab/colab_2.png\">"
   ]
  },
  {
   "cell_type": "markdown",
   "metadata": {},
   "source": [
    "Una vez creado el cuaderno, solamente tenemos que conectar con nuestro entorno de ejecución (1), programar y ejecutar (2).\n",
    "\n",
    "<img src=\"../imgs/01_01_google_colab/colab_3.png\">"
   ]
  },
  {
   "cell_type": "markdown",
   "metadata": {},
   "source": [
    "- Están formados por celdas\n",
    "\n",
    "- Las celdas pueden ser de 2 tipos:\n",
    "    - Código python (code)\n",
    "    - Texto (markdown)"
   ]
  },
  {
   "cell_type": "code",
   "execution_count": null,
   "metadata": {
    "vscode": {
     "languageId": "plaintext"
    }
   },
   "outputs": [],
   "source": [
    "# Esto es una celda de codigo de python"
   ]
  },
  {
   "cell_type": "markdown",
   "metadata": {},
   "source": [
    "Esto es una celda de texto (markdown)"
   ]
  },
  {
   "cell_type": "markdown",
   "metadata": {},
   "source": [
    "Los comandos más relevantes en los notebooks son los siguientes:"
   ]
  },
  {
   "cell_type": "markdown",
   "metadata": {},
   "source": [
    "|Shortcut| Description|\n",
    "|-|-|\n",
    "|shift + enter| ejecuta la celda, selecciona la siguiente|\n",
    "|ctrl + enter| ejecuta la celda|\n",
    "|tab| code completion o indent|\n",
    "|shift + tab| muestra ayuda sobre cualquier función|"
   ]
  },
  {
   "cell_type": "markdown",
   "metadata": {},
   "source": [
    "## Código"
   ]
  },
  {
   "cell_type": "markdown",
   "metadata": {},
   "source": [
    "Para ejecutar las celdas hay diferentes opciones:\n",
    "- Pulsar el botón \"Run\" en la parte superior de la celda\n",
    "- Pulsar Ctrl + enter (se ejecuta la celda en al que te encuentras)\n",
    "- Pulsar Shift + enter (se ejecuta la celda en al que te encuentras y pasas a la siguiente)\n",
    "- Pulsar el boton ejecutar todo (ejecuta todas las celdas, se para si alguna causa un error)"
   ]
  },
  {
   "cell_type": "code",
   "execution_count": null,
   "metadata": {
    "vscode": {
     "languageId": "plaintext"
    }
   },
   "outputs": [],
   "source": [
    "1 + 8"
   ]
  },
  {
   "cell_type": "markdown",
   "metadata": {},
   "source": [
    "# Markdown"
   ]
  },
  {
   "cell_type": "markdown",
   "metadata": {},
   "source": [
    "Se pueden poner títulos:\n",
    "#### Esto es un título insertado en el notebook con markdown"
   ]
  },
  {
   "cell_type": "markdown",
   "metadata": {},
   "source": [
    "Esto es texto insertado en el notebook con markdown. Para editarlo, haz doble click sobre este párrafo.\n",
    "Puedes introducir texto de muchas maneras:\n",
    "Como *cursiva*, **negrita**\n",
    "- Listas.\n",
    "\n",
    "Si haces click [aquí](https://github.com/adam-p/markdown-here/wiki/Markdown-Cheatsheet) puedes ver una cheatsheet con formatos de markdown."
   ]
  }
 ],
 "metadata": {
  "language_info": {
   "name": "python"
  },
  "orig_nbformat": 4
 },
 "nbformat": 4,
 "nbformat_minor": 2
}
