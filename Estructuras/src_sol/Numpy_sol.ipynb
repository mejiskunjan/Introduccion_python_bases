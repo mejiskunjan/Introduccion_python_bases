{
 "cells": [
  {
   "cell_type": "markdown",
   "id": "613b2e6f",
   "metadata": {},
   "source": [
    "# 1. Introducción y configuración"
   ]
  },
  {
   "cell_type": "markdown",
   "id": "6cf33041",
   "metadata": {},
   "source": [
    "## 1.1 ¿Qué es NumPy?"
   ]
  },
  {
   "cell_type": "markdown",
   "id": "a041330b",
   "metadata": {},
   "source": [
    "NumPy (Numerical Python) es la librería fundamental para el cálculo científico en Python. Permite trabajar con arreglos multidimensionales de forma eficiente, tanto en memoria como en velocidad."
   ]
  },
  {
   "cell_type": "markdown",
   "id": "6555109e",
   "metadata": {},
   "source": [
    "## 1.2 Instalación e importación"
   ]
  },
  {
   "cell_type": "code",
   "execution_count": null,
   "id": "cb0c749c",
   "metadata": {},
   "outputs": [],
   "source": [
    "# Si aún no la tienes instalada\n",
    "!pip install numpy"
   ]
  },
  {
   "cell_type": "code",
   "execution_count": null,
   "id": "c64b2593",
   "metadata": {},
   "outputs": [],
   "source": [
    "# Importamos NumPy con su alias habitual\n",
    "# Numpy es el nombre del paquete\n",
    "# np es el alias que usaremos para referirnos a él\n",
    "import numpy as np"
   ]
  },
  {
   "cell_type": "markdown",
   "id": "bfe31ebc",
   "metadata": {},
   "source": [
    "# 2. Teoría Básica de Arrays"
   ]
  },
  {
   "cell_type": "markdown",
   "id": "a967d308",
   "metadata": {},
   "source": [
    "## 2.1 ¿Por qué usar arrays en vez de listas?\n"
   ]
  },
  {
   "cell_type": "markdown",
   "id": "639ae7e2",
   "metadata": {},
   "source": [
    "- Almacenan datos homogéneos (todos del mismo tipo).\n",
    "\n",
    "- Operaciones vectorizadas: matemáticas en todo el array sin bucles explícitos.\n",
    "\n",
    "- Mejor rendimiento y menor uso de memoria."
   ]
  },
  {
   "cell_type": "markdown",
   "id": "d1a6a73c",
   "metadata": {},
   "source": [
    "## 2.2 Creación de arrays"
   ]
  },
  {
   "cell_type": "code",
   "execution_count": null,
   "id": "0cd1990f",
   "metadata": {},
   "outputs": [],
   "source": [
    "# A partir de listas o tuplas\n",
    "a = np.array([1, 2, 3, 4])\n",
    "b = np.array([[1,2,3], [4,5,6]])"
   ]
  },
  {
   "cell_type": "code",
   "execution_count": null,
   "id": "05e8c722",
   "metadata": {},
   "outputs": [],
   "source": [
    "print(\"Array a:\\n\", a)\n",
    "print(\"Array b:\\n\", b)"
   ]
  },
  {
   "cell_type": "code",
   "execution_count": null,
   "id": "b7de0737",
   "metadata": {},
   "outputs": [],
   "source": [
    "# A partir de funciones específicas\n",
    "zeros = np.zeros((2,3))        # array de ceros 2×3\n",
    "ones  = np.ones((3,2))         # array de unos 3×2\n",
    "eye   = np.eye(4)              # matriz identidad 4×4\n",
    "ar    = np.arange(0, 10, 2)    # [0,2,4,6,8]\n",
    "ls    = np.linspace(0, 1, 5)   # [0.,0.25,0.5,0.75,1.]\n"
   ]
  },
  {
   "cell_type": "code",
   "execution_count": null,
   "id": "8d68bb6f",
   "metadata": {},
   "outputs": [],
   "source": [
    "print(\"Array zeros:\\n\", zeros)\n",
    "print(\"Array ones:\\n\", ones)\n",
    "print(\"Array eye:\\n\", eye)\n",
    "print(\"Array ar:\\n\", ar)\n",
    "print(\"Array ls:\\n\", ls)    "
   ]
  },
  {
   "cell_type": "markdown",
   "id": "33ac096b",
   "metadata": {},
   "source": [
    "## 2.3 Atributos de los arrays (arreglos)"
   ]
  },
  {
   "cell_type": "markdown",
   "id": "77726f36",
   "metadata": {},
   "source": [
    "| Atributo   | Descripción                               |\n",
    "|------------|-------------------------------------------|\n",
    "| `ndim`     | Número de dimensiones                     |\n",
    "| `shape`    | Tupla con el tamaño en cada dimensión     |\n",
    "| `size`     | Número total de elementos                 |\n",
    "| `dtype`    | Tipo de datos de los elementos            |\n",
    "| `itemsize` | Bytes que ocupa cada elemento             |\n"
   ]
  },
  {
   "cell_type": "code",
   "execution_count": null,
   "id": "fc60cae1",
   "metadata": {},
   "outputs": [],
   "source": [
    "print(a.ndim, a.shape, a.size, a.dtype, a.itemsize)\n"
   ]
  },
  {
   "cell_type": "markdown",
   "id": "2819290c",
   "metadata": {},
   "source": [
    "# 3. Operaciones Básicas"
   ]
  },
  {
   "cell_type": "markdown",
   "id": "06ee742c",
   "metadata": {},
   "source": [
    "NumPy aplica operaciones elemento a elemento:"
   ]
  },
  {
   "cell_type": "code",
   "execution_count": null,
   "id": "e381c18a",
   "metadata": {},
   "outputs": [],
   "source": [
    "x = np.array([10, 20, 30])\n",
    "y = np.array([1, 2, 3])\n",
    "\n",
    "# Suma y resta\n",
    "print(x + y, x - y)\n",
    "\n",
    "# Multiplicación y división\n",
    "print(x * 2, x / y)\n",
    "\n",
    "# Funciones universales (ufuncs)\n",
    "print(np.sin(x), np.exp(y))\n"
   ]
  },
  {
   "cell_type": "markdown",
   "id": "cfc55ed5",
   "metadata": {},
   "source": [
    "En términos matemáticos, si\n",
    "\n",
    "$$\n",
    "\\mathbf{x} = [x_1,\\,x_2,\\,\\dots,\\,x_n]\n",
    "\\quad\\text{y}\\quad\n",
    "\\mathbf{y} = [y_1,\\,y_2,\\,\\dots,\\,y_n]\n",
    "$$\n",
    "\n",
    "entonces:\n",
    "\n",
    "$$\n",
    "\\mathbf{x} + \\mathbf{y}\n",
    "= [\\,x_1 + y_1,\\;x_2 + y_2,\\;\\dots,\\;x_n + y_n\\,]\n",
    "$$\n",
    "\n",
    "$$\n",
    "\\mathbf{x} - \\mathbf{y}\n",
    "= [\\,x_1 - y_1,\\;x_2 - y_2,\\;\\dots,\\;x_n - y_n\\,]\n",
    "$$\n",
    "\n",
    "Multiplicación por un escalar \\(c\\):\n",
    "\n",
    "$$\n",
    "c \\cdot \\mathbf{x}\n",
    "= [\\,c\\,x_1,\\;c\\,x_2,\\;\\dots,\\;c\\,x_n\\,]\n",
    "$$\n",
    "\n",
    "División elemento a elemento:\n",
    "\n",
    "$$\n",
    "\\mathbf{x} \\mathbin{/} \\mathbf{y}\n",
    "$$"
   ]
  },
  {
   "cell_type": "markdown",
   "id": "f8d5d333",
   "metadata": {},
   "source": [
    "Multiplicación de matrices"
   ]
  },
  {
   "cell_type": "code",
   "execution_count": null,
   "id": "3d5b419b",
   "metadata": {},
   "outputs": [],
   "source": [
    "import numpy as np\n",
    "\n",
    "A = np.array([[1, 2],\n",
    "              [3, 4]])       # Matriz 2×2\n",
    "\n",
    "B = np.array([[5, 6],\n",
    "              [7, 8]])       # Matriz 2×2\n",
    "\n",
    "# Con np.dot\n",
    "C1 = np.dot(A, B)\n",
    "\n",
    "# Con np.matmul o @\n",
    "C2 = A @ B\n",
    "\n",
    "print(C1, C2, sep=\"\\n\\n\")"
   ]
  },
  {
   "cell_type": "markdown",
   "id": "f2e8f2d6",
   "metadata": {},
   "source": [
    "# 4. Funciones útiles"
   ]
  },
  {
   "cell_type": "markdown",
   "id": "3a273f42",
   "metadata": {},
   "source": [
    "| Función               | Descripción                                  |\n",
    "|-----------------------|----------------------------------------------|\n",
    "| `np.sum()`            | Suma de todos los elementos                  |\n",
    "| `np.min(), np.max()`  | Valor mínimo y máximo                        |\n",
    "| `np.mean()`           | Media aritmética                             |\n",
    "| `np.std()`            | Desviación estándar                          |\n",
    "| `np.reshape()`        | Cambio de forma sin copiar datos             |\n",
    "| `np.flatten()`        | Aplana un array multidimensional a 1D        |\n",
    "| `np.sort()`           | Ordena los elementos                         |\n",
    "| `np.unique()`         | Valores únicos y conteo                      |\n"
   ]
  },
  {
   "cell_type": "code",
   "execution_count": null,
   "id": "a152c8b2",
   "metadata": {},
   "outputs": [],
   "source": [
    "data = np.random.randint(0, 100, size=(4,5))\n",
    "print(\"Media:\", data.mean(), \"Max:\", data.max(), \"Desv:\", data.std())\n",
    "\n",
    "flat = data.flatten()\n",
    "print(\"Array aplanado:\", flat)\n",
    "\n",
    "reshaped = data.reshape(5,4)\n",
    "print(\"Array reestructurado:\\n\", reshaped)\n"
   ]
  },
  {
   "cell_type": "markdown",
   "id": "d483f288",
   "metadata": {},
   "source": [
    "# 5. Indexación y Slicing"
   ]
  },
  {
   "cell_type": "markdown",
   "id": "41909a8e",
   "metadata": {},
   "source": [
    "## 5.1 Indexación básica"
   ]
  },
  {
   "cell_type": "code",
   "execution_count": null,
   "id": "8856e481",
   "metadata": {},
   "outputs": [],
   "source": [
    "arr = np.arange(10)        # [0,1,2,3,4,5,6,7,8,9]\n",
    "print(arr[0], arr[-1])     # Primer y último elemento\n",
    "\n",
    "mat = np.arange(9).reshape(3,3)\n",
    "print(mat[1,2])            # Fila 1, columna 2\n"
   ]
  },
  {
   "cell_type": "markdown",
   "id": "323c04be",
   "metadata": {},
   "source": [
    "## 5.2 Slicing en 1D"
   ]
  },
  {
   "cell_type": "markdown",
   "id": "85b54428",
   "metadata": {},
   "source": [
    "La sintaxis general es arr[start:stop:step]."
   ]
  },
  {
   "cell_type": "code",
   "execution_count": null,
   "id": "9b0e63f3",
   "metadata": {},
   "outputs": [],
   "source": [
    "print(arr[2:8])       # [2,3,4,5,6,7]\n",
    "print(arr[:5])        # [0..4]\n",
    "print(arr[5:])        # [5..9]\n",
    "print(arr[::2])       # Saltos de 2 → [0,2,4,6,8]\n",
    "print(arr[::-1])      # Invertido → [9,8,7,6,5,4,3,2,1,0]"
   ]
  },
  {
   "cell_type": "markdown",
   "id": "38de4559",
   "metadata": {},
   "source": [
    "## 5.3 Slicing en 2D"
   ]
  },
  {
   "cell_type": "code",
   "execution_count": null,
   "id": "2a56f2f7",
   "metadata": {},
   "outputs": [],
   "source": [
    "# Seleccionar submatriz de filas 0-1 y columnas 1-2\n",
    "print(mat[0:2, 1:3])\n",
    "\n",
    "# Todas las filas, columna 0\n",
    "print(mat[:, 0])\n",
    "\n",
    "# Filas 1 y 2, todas las columnas\n",
    "print(mat[1:3, :])\n"
   ]
  },
  {
   "cell_type": "markdown",
   "id": "34321671",
   "metadata": {},
   "source": [
    "## 5.4 Máscara booleana"
   ]
  },
  {
   "cell_type": "code",
   "execution_count": null,
   "id": "c39a47c0",
   "metadata": {},
   "outputs": [],
   "source": [
    "mask = arr % 2 == 0\n",
    "print(arr[mask])      # Filtra los pares\n",
    "\n",
    "# Combinando condiciones\n",
    "print(arr[(arr>3) & (arr<8)])  # [4,5,6,7]\n"
   ]
  },
  {
   "cell_type": "markdown",
   "id": "176ea224",
   "metadata": {},
   "source": [
    "# Práctica"
   ]
  },
  {
   "cell_type": "markdown",
   "id": "e1768a1d",
   "metadata": {},
   "source": [
    "1. Crea un array con 10 edades aleatorias y calcula la media, mínima y máxima.\n",
    "\n",
    "2. Genera un array 5×5 con valores aleatorios entre 0 y 1; extrae su fila central.\n",
    "\n",
    "3. Dado un array de 20 enteros, reemplaza los valores impares por -1.\n",
    "\n",
    "4. Usa reshape para convertir un array de 16 elementos en una matriz 4×4 y muestra su diagonal principal."
   ]
  },
  {
   "cell_type": "code",
   "execution_count": null,
   "id": "611407c9",
   "metadata": {},
   "outputs": [],
   "source": [
    "import numpy as np\n",
    "\n",
    "# Genera 10 edades aleatorias entre 14 y 20 años\n",
    "edades = np.random.randint(25, 35, size=10)\n",
    "\n",
    "# Cálculo de estadísticas\n",
    "media = edades.mean()\n",
    "minima = edades.min()\n",
    "maxima = edades.max()\n",
    "\n",
    "print(\"Edades:\", edades)\n",
    "print(f\"Media: {media:.2f}\")\n",
    "print(\"Mínima:\", minima)\n",
    "print(\"Máxima:\", maxima)\n"
   ]
  },
  {
   "cell_type": "code",
   "execution_count": null,
   "id": "79520901",
   "metadata": {},
   "outputs": [],
   "source": [
    "# Matriz 5×5 con valores aleatorios entre 0 y 1\n",
    "matriz5 = np.random.rand(5, 5)\n",
    "\n",
    "# La fila central es la de índice 2 (0-4)\n",
    "fila_central = matriz5[2]\n",
    "\n",
    "print(\"Matriz 5×5:\")\n",
    "print(matriz5)\n",
    "print(\"\\nFila central (índice 2):\")\n",
    "print(fila_central)\n"
   ]
  },
  {
   "cell_type": "code",
   "execution_count": null,
   "id": "b165ddb2",
   "metadata": {},
   "outputs": [],
   "source": [
    "# Array de 20 enteros aleatorios entre 0 y 99\n",
    "arr20 = np.random.randint(0, 100, size=20)\n",
    "\n",
    "# Hacemos una copia para no modificar el original\n",
    "arr_modificado = arr20.copy()\n",
    "\n",
    "# Reemplazamos los impares por -1\n",
    "arr_modificado[arr_modificado % 2 == 1] = -1\n",
    "\n",
    "print(\"Array original:\")\n",
    "print(arr20)\n",
    "print(\"\\nArray modificado (impares → -1):\")\n",
    "print(arr_modificado)\n"
   ]
  },
  {
   "cell_type": "code",
   "execution_count": null,
   "id": "b9a19adc",
   "metadata": {},
   "outputs": [],
   "source": [
    "# Creamos un array de 0 a 15\n",
    "arr16 = np.arange(16)\n",
    "\n",
    "# Redimensionamos a 4×4\n",
    "matriz4 = arr16.reshape(4, 4)\n",
    "\n",
    "# Extraemos la diagonal principal\n",
    "diagonal = np.diag(matriz4)\n",
    "\n",
    "print(\"Matriz 4×4:\")\n",
    "print(matriz4)\n",
    "print(\"\\nDiagonal principal:\")\n",
    "print(diagonal)\n"
   ]
  },
  {
   "cell_type": "markdown",
   "id": "be76c0c5",
   "metadata": {},
   "source": [
    "Crea dos arrays:\n",
    "\n",
    "- A de forma (3, 1) con valores aleatorios de 0 a 10.\n",
    "\n",
    "- B de forma (1, 4) con valores aleatorios de 0 a 10.\n",
    "\n",
    "Suma A + B y observa la forma del resultado.\n",
    "\n",
    "Multiplica cada fila de la matriz de resultados por un vector [1, 2, 3, 4] usando broadcasting."
   ]
  },
  {
   "cell_type": "code",
   "execution_count": null,
   "id": "b45d98db",
   "metadata": {},
   "outputs": [],
   "source": [
    "# 3.1 Crear A y B\n",
    "A = np.random.randint(0, 11, size=(3, 1))\n",
    "B = np.random.randint(0, 11, size=(1, 4))\n",
    "\n",
    "# 3.2 Suma con broadcasting\n",
    "S = A + B\n",
    "\n",
    "# 3.3 Multiplicar cada fila por [1,2,3,4]\n",
    "factors = np.array([1, 2, 3, 4])\n",
    "C = S * factors"
   ]
  },
  {
   "cell_type": "markdown",
   "id": "dbfc7137",
   "metadata": {},
   "source": [
    "Slicing en 2D (submatriz interior y rotación)\n",
    "\n",
    "- Genera un array 6×6 con valores del 1 al 36 (por ejemplo con arange y reshape).\n",
    "\n",
    "- Usa slicing para extraer la submatriz interior 4×4 (eliminas la primera y la última fila y columna).\n",
    "\n",
    "- A continuación, aplica un slicing con paso negativo para rotar esa submatriz 180°.\n",
    "\n",
    "- Imprime la matriz original, la submatriz interior y la submatriz rotada.\n"
   ]
  },
  {
   "cell_type": "code",
   "execution_count": null,
   "id": "8405b8aa",
   "metadata": {},
   "outputs": [],
   "source": [
    "import numpy as np\n",
    "\n",
    "# Matriz 6×6 con valores de 1 a 36\n",
    "mat6 = np.arange(1, 37).reshape(6, 6)\n",
    "\n",
    "# Submatriz interior 4×4 (quitando borde)\n",
    "interior = mat6[1:-1, 1:-1]\n",
    "\n",
    "# Rotación 180° con slicing de paso -1 en ambas dimensiones\n",
    "rotada = interior[::-1, ::-1]\n",
    "\n",
    "print(\"Matriz 6×6 original:\\n\", mat6)\n",
    "print(\"\\nSubmatriz interior 4×4:\\n\", interior)\n",
    "print(\"\\nSubmatriz interior rotada 180°:\\n\", rotada)\n"
   ]
  },
  {
   "cell_type": "markdown",
   "id": "ee6a03cd",
   "metadata": {},
   "source": [
    "Con una matriz 5×5 de valores aleatorios:\n",
    "\n",
    "- Calcula la media, mediana y desviación estándar global.\n",
    "\n",
    "- Obtén la suma de cada columna y de cada fila.\n",
    "\n",
    "Aplica np.sin y np.exp elemento a elemento y compara resultados."
   ]
  },
  {
   "cell_type": "code",
   "execution_count": null,
   "id": "fa3a392c",
   "metadata": {},
   "outputs": [],
   "source": [
    "# Crear matriz 5×5 de valores aleatorios entre 0 y 1\n",
    "matriz = np.random.rand(5, 5)\n",
    "\n",
    "# Estadísticas globales\n",
    "media = np.mean(matriz)\n",
    "mediana = np.median(matriz)\n",
    "desviacion = np.std(matriz)\n",
    "\n",
    "# Suma por columnas y por filas\n",
    "suma_columnas = np.sum(matriz, axis=0)\n",
    "suma_filas = np.sum(matriz, axis=1)\n",
    "\n",
    "# Aplicar np.sin y np.exp elemento a elemento\n",
    "matriz_sin = np.sin(matriz)\n",
    "matriz_exp = np.exp(matriz)\n",
    "\n",
    "# Mostrar resultados\n",
    "print(\"Matriz original:\\n\", matriz)\n",
    "print(\"\\nMedia:\", media)\n",
    "print(\"Mediana:\", mediana)\n",
    "print(\"Desviación estándar:\", desviacion)\n",
    "\n",
    "print(\"\\nSuma por columnas:\", suma_columnas)\n",
    "print(\"Suma por filas:   \", suma_filas)\n",
    "\n",
    "print(\"\\nMatriz con np.sin aplicada:\\n\", matriz_sin)\n",
    "print(\"\\nMatriz con np.exp aplicada:\\n\", matriz_exp)\n"
   ]
  },
  {
   "cell_type": "markdown",
   "id": "32c81bd7",
   "metadata": {},
   "source": [
    "Genera dos matrices cuadradas X y Y de tamaño 3×3.\n",
    "\n",
    "Calcula:\n",
    "\n",
    "- Su producto matricial (np.dot o @).\n",
    "\n",
    "- El determinante de X.\n",
    "\n",
    "- El inverso de Y y comprueba que Y @ Y_inv da la identidad.\n",
    "\n",
    "Resuelve el sistema lineal X · v = b para un vector b dado."
   ]
  },
  {
   "cell_type": "code",
   "execution_count": null,
   "id": "53a5b676",
   "metadata": {},
   "outputs": [],
   "source": [
    "# Matrices X y Y\n",
    "X = np.random.rand(3, 3)\n",
    "Y = np.random.rand(3, 3)\n",
    "\n",
    "# Operaciones\n",
    "prod = X @ Y\n",
    "detX = np.det(X)\n",
    "invY = np.inv(Y)\n",
    "ident = Y @ invY\n",
    "\n",
    "# Sistema lineal X · v = b\n",
    "b = np.random.rand(3)\n",
    "v = np.solve(X, b)\n"
   ]
  },
  {
   "cell_type": "markdown",
   "id": "5c91c531",
   "metadata": {},
   "source": [
    "Generar 10 000 muestras de una distribución normal con media 0 y desviación estándar 1.\n",
    "\n",
    "Mostrar un histograma normalizado de esas muestras con 50 bins.\n",
    "\n",
    "Extra: Superponer la curva teórica de la densidad de la N(0,1) sobre el histograma"
   ]
  },
  {
   "cell_type": "code",
   "execution_count": null,
   "id": "390756ec",
   "metadata": {},
   "outputs": [],
   "source": [
    "import numpy as np\n",
    "import matplotlib.pyplot as plt\n",
    "\n",
    "# Generar 10 000 muestras de una normal N(0, 1)\n",
    "samples = np.random.normal(loc=0, scale=1, size=10000)\n",
    "\n",
    "# Dibujar histograma normalizado (densidad)\n",
    "plt.hist(samples, bins=50, density=True, alpha=0.6, color='steelblue')\n",
    "\n",
    "# (Opcional) Superponer la curva teórica de la densidad\n",
    "x = np.linspace(samples.min(), samples.max(), 200)\n",
    "pdf = 1 / np.sqrt(2 * np.pi) * np.exp(-x**2 / 2)\n",
    "plt.plot(x, pdf, 'r', linewidth=2)\n",
    "\n",
    "plt.title('Histograma de Distribución Normal N(0,1)')\n",
    "plt.xlabel('Valor')\n",
    "plt.ylabel('Densidad')\n",
    "plt.show()\n"
   ]
  }
 ],
 "metadata": {
  "kernelspec": {
   "display_name": "first_try",
   "language": "python",
   "name": "python3"
  },
  "language_info": {
   "codemirror_mode": {
    "name": "ipython",
    "version": 3
   },
   "file_extension": ".py",
   "mimetype": "text/x-python",
   "name": "python",
   "nbconvert_exporter": "python",
   "pygments_lexer": "ipython3",
   "version": "3.9.20"
  }
 },
 "nbformat": 4,
 "nbformat_minor": 5
}
