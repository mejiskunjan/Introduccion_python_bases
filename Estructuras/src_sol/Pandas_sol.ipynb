{
  "cells": [
    {
      "cell_type": "markdown",
      "id": "b8775406",
      "metadata": {
        "id": "b8775406"
      },
      "source": [
        "# Pandas desde cero\n",
        "\n",
        "Aprenderemos la teoría básica de Pandas, cómo crear y manipular Series y DataFrames, funciones útiles y técnicas de indexación y filtrado.\n",
        "\n",
        "---\n",
        "\n",
        "## 1. Introducción y Configuración\n",
        "\n",
        "### 1.1 ¿Qué es Pandas?\n",
        "\n",
        "Pandas es la librería de Python para el análisis y manipulación de datos.  \n",
        "Ofrece estructuras de datos de alto rendimiento como **Series** (1D) y **DataFrame** (2D) con etiquetas en filas y columnas.\n",
        "\n",
        "### 1.2 Instalación e Importación\n",
        "\n",
        "```bash\n",
        "pip install pandas\n"
      ]
    },
    {
      "cell_type": "markdown",
      "source": [
        "# 🧮 Diferencias entre NumPy y pandas\n",
        "\n",
        "En el ecosistema de Python para ciencia de datos, **NumPy** y **pandas** son dos bibliotecas fundamentales. Aunque se complementan, tienen enfoques distintos:\n",
        "\n",
        "---\n",
        "\n",
        "## 🔢 NumPy: Computación Numérica\n",
        "\n",
        "- **Estructura principal:** `ndarray` (matriz multidimensional).\n",
        "- **Datos homogéneos:** Todos los elementos deben ser del mismo tipo (por ejemplo, todos `float64`).\n",
        "- **Ideal para:** Álgebra lineal, estadísticas, simulaciones, procesamiento de imágenes y señales.\n",
        "- **Ventaja clave:** Muy rápido y eficiente en memoria para cálculos numéricos masivos.\n",
        "\n",
        "```python\n",
        "import numpy as np\n",
        "\n",
        "a = np.array([1, 2, 3, 4])\n",
        "print(a.mean())  # Media de los elementos"
      ],
      "metadata": {
        "id": "gQ5tykPgJKyI"
      },
      "id": "gQ5tykPgJKyI"
    },
    {
      "cell_type": "markdown",
      "source": [
        "# 📊 Introducción a pandas\n",
        "\n",
        "**pandas** es una biblioteca de Python diseñada para facilitar el análisis y manipulación de datos estructurados. Es especialmente útil cuando trabajamos con datos tabulares, como hojas de cálculo, archivos CSV o bases de datos.\n",
        "\n",
        "---\n",
        "\n",
        "## 🧱 Estructuras principales\n",
        "\n",
        "- **Series:** Una columna con etiquetas. Similar a un array de NumPy, pero con índice.\n",
        "- **DataFrame:** Una tabla bidimensional con filas y columnas etiquetadas. Es la estructura más usada.\n",
        "\n",
        "```python\n",
        "import pandas as pd\n",
        "\n",
        "# Crear una Series\n",
        "s = pd.Series([10, 20, 30], index=['a', 'b', 'c'])\n",
        "\n",
        "# Crear un DataFrame\n",
        "df = pd.DataFrame({\n",
        "    'Nombre': ['Ana', 'Luis', 'Carlos'],\n",
        "    'Edad': [23, 34, 45]\n",
        "})\n"
      ],
      "metadata": {
        "id": "UuoBn4KGJcA_"
      },
      "id": "UuoBn4KGJcA_"
    },
    {
      "cell_type": "code",
      "execution_count": null,
      "id": "fd10829d",
      "metadata": {
        "id": "fd10829d",
        "outputId": "f468cf2b-bad0-4f82-b094-c4078d092666"
      },
      "outputs": [
        {
          "name": "stdout",
          "output_type": "stream",
          "text": [
            "Defaulting to user installation because normal site-packages is not writeable\n",
            "Requirement already satisfied: pandas in c:\\users\\gonme\\appdata\\local\\packages\\pythonsoftwarefoundation.python.3.13_qbz5n2kfra8p0\\localcache\\local-packages\\python313\\site-packages (2.3.2)\n",
            "Requirement already satisfied: numpy>=1.26.0 in c:\\users\\gonme\\appdata\\local\\packages\\pythonsoftwarefoundation.python.3.13_qbz5n2kfra8p0\\localcache\\local-packages\\python313\\site-packages (from pandas) (2.3.2)\n",
            "Requirement already satisfied: python-dateutil>=2.8.2 in c:\\users\\gonme\\appdata\\local\\packages\\pythonsoftwarefoundation.python.3.13_qbz5n2kfra8p0\\localcache\\local-packages\\python313\\site-packages (from pandas) (2.9.0.post0)\n",
            "Requirement already satisfied: pytz>=2020.1 in c:\\users\\gonme\\appdata\\local\\packages\\pythonsoftwarefoundation.python.3.13_qbz5n2kfra8p0\\localcache\\local-packages\\python313\\site-packages (from pandas) (2025.2)\n",
            "Requirement already satisfied: tzdata>=2022.7 in c:\\users\\gonme\\appdata\\local\\packages\\pythonsoftwarefoundation.python.3.13_qbz5n2kfra8p0\\localcache\\local-packages\\python313\\site-packages (from pandas) (2025.2)\n",
            "Requirement already satisfied: six>=1.5 in c:\\users\\gonme\\appdata\\local\\packages\\pythonsoftwarefoundation.python.3.13_qbz5n2kfra8p0\\localcache\\local-packages\\python313\\site-packages (from python-dateutil>=2.8.2->pandas) (1.17.0)\n"
          ]
        }
      ],
      "source": [
        "!pip install pandas"
      ]
    },
    {
      "cell_type": "code",
      "execution_count": 2,
      "id": "72f4cc8d",
      "metadata": {
        "id": "72f4cc8d"
      },
      "outputs": [],
      "source": [
        "import pandas as pd\n"
      ]
    },
    {
      "cell_type": "markdown",
      "id": "646262a7",
      "metadata": {
        "id": "646262a7"
      },
      "source": [
        "## 2. Teoría Básica de Series y DataFrames\n",
        "\n",
        "### 2.1 Estructuras Principales\n",
        "\n",
        "- **Series**: arreglo unidimensional con etiquetas (índice).  \n",
        "- **DataFrame**: tabla bidimensional con filas y columnas etiquetadas.\n",
        "\n",
        "### 2.2 Creación de Series y DataFrames\n"
      ]
    },
    {
      "cell_type": "code",
      "execution_count": 8,
      "id": "864a17f1",
      "metadata": {
        "id": "864a17f1"
      },
      "outputs": [],
      "source": [
        "# Series a partir de lista y diccionario\n",
        "s = pd.Series([10, 20, 30], index=['a', 'b', 'c'])\n",
        "s2 = pd.Series({'x': 1, 'y': 2, 'z': 3})\n",
        "\n",
        "# DataFrame a partir de diccionario de listas\n",
        "df = pd.DataFrame({\n",
        "    'Nombre': ['Ana', 'Luis', 'Eva'],\n",
        "    'Edad': [23, 19, 31],\n",
        "    'Puntaje': [88.5, 92.3, 79.4]\n",
        "})\n",
        "\n",
        "# DataFrame a partir de lista de diccionarios\n",
        "data = [\n",
        "    {'A': 1, 'B': 2},\n",
        "    {'A': 3, 'B': 4, 'C': 5}\n",
        "]\n",
        "df2 = pd.DataFrame(data)"
      ]
    },
    {
      "cell_type": "markdown",
      "id": "90d68574",
      "metadata": {
        "id": "90d68574"
      },
      "source": [
        "## 3. Atributos Clave de un DataFrame\n",
        "\n",
        "| Atributo     | Descripción                                 |\n",
        "|--------------|---------------------------------------------|\n",
        "| `df.shape`   | Tupla (filas, columnas)                     |\n",
        "| `df.size`    | Número total de elementos                   |\n",
        "| `df.ndim`    | Número de dimensiones (siempre 2 para DF)   |\n",
        "| `df.columns` | Etiquetas de columnas                       |\n",
        "| `df.index`   | Etiquetas de filas                          |\n",
        "| `df.dtypes`  | Tipo de dato de cada columna                |\n",
        "\n",
        "```python"
      ]
    },
    {
      "cell_type": "code",
      "execution_count": null,
      "id": "f7a06a7e",
      "metadata": {
        "id": "f7a06a7e",
        "outputId": "5f31c3b0-0f22-4d08-950d-757101b8ee50"
      },
      "outputs": [
        {
          "name": "stdout",
          "output_type": "stream",
          "text": [
            "(3, 3)\n",
            "Index(['Nombre', 'Edad', 'Puntaje'], dtype='object')\n",
            "Nombre      object\n",
            "Edad         int64\n",
            "Puntaje    float64\n",
            "dtype: object\n"
          ]
        }
      ],
      "source": [
        "print(df.shape)\n",
        "print(df.columns)\n",
        "print(df.dtypes)\n"
      ]
    },
    {
      "cell_type": "markdown",
      "id": "02863a41",
      "metadata": {
        "id": "02863a41"
      },
      "source": [
        "## 4. Operaciones Básicas\n",
        "\n",
        "- `df.head(n)`         : primeras *n* filas  \n",
        "- `df.tail(n)`         : últimas *n* filas  \n",
        "- `df.info()`          : resumen de índice, columnas y tipos  \n",
        "- `df.describe()`      : estadísticas descriptivas de columnas numéricas  \n",
        "- `df['col']` o `df.col`: acceso a columna  \n",
        "- `df[['col1','col2']]`: acceso a múltiples columnas  \n",
        "- `df['col'] = ...`    : crear o modificar columna  \n"
      ]
    },
    {
      "cell_type": "code",
      "execution_count": null,
      "id": "873c9a9a",
      "metadata": {
        "id": "873c9a9a",
        "outputId": "5c627793-9c06-4902-e2c8-6606aba1fae6"
      },
      "outputs": [
        {
          "name": "stdout",
          "output_type": "stream",
          "text": [
            "  Nombre  Edad  Puntaje\n",
            "0    Ana    23     88.5\n",
            "1   Luis    19     92.3\n",
            "2    Eva    31     79.4\n",
            "0    23\n",
            "1    19\n",
            "2    31\n",
            "Name: Edad, dtype: int64\n",
            "  Nombre  Edad  Puntaje  Mayor\n",
            "0    Ana    23     88.5   True\n",
            "1   Luis    19     92.3   True\n",
            "2    Eva    31     79.4   True\n"
          ]
        }
      ],
      "source": [
        "# Mostrar las primeras 3 filas\n",
        "print(df.head(3))\n",
        "\n",
        "# Crear y acceder a una columna\n",
        "print(df['Edad'])\n",
        "df['Mayor'] = df['Edad'] >= 18\n",
        "print(df.head(3))"
      ]
    },
    {
      "cell_type": "markdown",
      "id": "9e51aac2",
      "metadata": {
        "id": "9e51aac2"
      },
      "source": [
        "## 5. Funciones Útiles\n",
        "\n",
        "| Función                      | Descripción                                         |\n",
        "|------------------------------|-----------------------------------------------------|\n",
        "| `df.dropna()`                | Elimina filas con valores NA                        |\n",
        "| `df.fillna(valor)`           | Rellena NA con un valor                             |\n",
        "| `df.sort_values(by)`         | Ordena por una o más columnas                       |\n",
        "| `df.groupby(col)`            | Agrupa por columna y permite agregaciones           |\n",
        "| `df.merge(otro, on)`         | Combina dos DataFrames por columna clave            |\n",
        "| `df.apply(func, axis)`       | Aplica función a filas (`axis=1`) o columnas (`axis=0`) |\n",
        "| `pd.concat([df1, df2])`      | Concatena DataFrames                                |\n"
      ]
    },
    {
      "cell_type": "code",
      "execution_count": null,
      "id": "393a83c8",
      "metadata": {
        "id": "393a83c8",
        "outputId": "5798b205-3d8c-4d87-e754-bc7101c162a3"
      },
      "outputs": [
        {
          "name": "stdout",
          "output_type": "stream",
          "text": [
            "Mayor\n",
            "True    86.733333\n",
            "Name: Puntaje, dtype: float64\n",
            "  Nombre  Edad  Puntaje  Mayor    A    B    C\n",
            "0    Ana    23     88.5   True  1.0  2.0  NaN\n",
            "1   Luis    19     92.3   True  3.0  4.0  5.0\n",
            "2    Eva    31     79.4   True  NaN  NaN  NaN\n"
          ]
        }
      ],
      "source": [
        "# Ejemplo de groupby y agregación\n",
        "df_group = df.groupby('Mayor')['Puntaje'].mean()\n",
        "print(df_group)\n",
        "\n",
        "# Merge de df y df2 por índice\n",
        "df_merged = df.merge(df2, left_index=True, right_index=True, how='left')\n",
        "print(df_merged)\n"
      ]
    },
    {
      "cell_type": "markdown",
      "id": "ba3b987f",
      "metadata": {
        "id": "ba3b987f"
      },
      "source": [
        "## 6. Indexación y Filtrado\n",
        "\n",
        "### 6.1 `.loc` por etiqueta\n",
        "- Selección basada en etiquetas de filas y columnas."
      ]
    },
    {
      "cell_type": "code",
      "execution_count": null,
      "id": "a7181cb1",
      "metadata": {
        "id": "a7181cb1",
        "outputId": "a9d0a9ad-da23-4474-c000-087fe33de600"
      },
      "outputs": [
        {
          "name": "stdout",
          "output_type": "stream",
          "text": [
            "   A    C\n",
            "a  1  NaN\n",
            "b  3  5.0\n"
          ]
        }
      ],
      "source": [
        "# Asignamos un índice a df2 para el ejemplo\n",
        "df2.index = ['a', 'b']\n",
        "# Filas 'a' y 'c', columnas 'A' y 'B'\n",
        "print(df2.loc[['a','b'], ['A','C']])\n"
      ]
    },
    {
      "cell_type": "markdown",
      "id": "dd904fb7",
      "metadata": {
        "id": "dd904fb7"
      },
      "source": [
        "### 6.2 `.iloc` por posición\n",
        "- Selección basada en posiciones numéricas."
      ]
    },
    {
      "cell_type": "code",
      "execution_count": null,
      "id": "bc2184ac",
      "metadata": {
        "id": "bc2184ac"
      },
      "outputs": [],
      "source": [
        "# Filas 0-1, columnas 0-1\n",
        "print(df.iloc[0:2, 0:2])\n"
      ]
    },
    {
      "cell_type": "markdown",
      "id": "29982ca2",
      "metadata": {
        "id": "29982ca2"
      },
      "source": [
        "### 6.3 Filtrado booleano\n",
        "- Usar condiciones para filtrar filas."
      ]
    },
    {
      "cell_type": "code",
      "execution_count": null,
      "id": "15fe40f3",
      "metadata": {
        "id": "15fe40f3"
      },
      "outputs": [],
      "source": [
        "# Filtrar mayores de 25 años\n",
        "print(df[df['Edad'] > 25])\n",
        "\n",
        "# Varias condiciones combinadas\n",
        "print(df[(df['Edad'] > 20) & (df['Puntaje'] > 80)])\n"
      ]
    },
    {
      "cell_type": "markdown",
      "source": [
        "## Ejercicios"
      ],
      "metadata": {
        "id": "eTN5n7QG_e5G"
      },
      "id": "eTN5n7QG_e5G"
    },
    {
      "cell_type": "code",
      "source": [
        "import pandas as pd\n",
        "\n",
        "data = {\n",
        "    'Nombre': ['Ana', 'Luis', 'Carlos', 'María'],\n",
        "    'Edad': [23, 34, 45, 29],\n",
        "    'Ciudad': ['Madrid', 'Barcelona', 'Sevilla', 'Bilbao']\n",
        "}\n",
        "\n",
        "df = pd.DataFrame(data)"
      ],
      "metadata": {
        "id": "XNIkUaKS_pGO"
      },
      "id": "XNIkUaKS_pGO",
      "execution_count": null,
      "outputs": []
    },
    {
      "cell_type": "markdown",
      "source": [
        "- Selecciona solo las filas donde la edad sea mayor de 30.\n",
        "\n",
        "- Extrae la segunda fila usando .iloc.\n",
        "\n",
        "- Muestra solo las columnas \"Nombre\" y \"Edad\"."
      ],
      "metadata": {
        "id": "Tj6DLv94_jJE"
      },
      "id": "Tj6DLv94_jJE"
    },
    {
      "cell_type": "code",
      "source": [
        "# Filas con edad mayor a 30\n",
        "mayores_30 = df[df['Edad'] > 30]\n",
        "\n",
        "# Segunda fila con iloc\n",
        "segunda_fila = df.iloc[1]\n",
        "\n",
        "# Columnas \"Nombre\" y \"Edad\"\n",
        "nombre_edad = df[['Nombre', 'Edad']]\n",
        "\n",
        "print(\"Mayores de 30:\\n\", mayores_30)\n",
        "print(\"\\nSegunda fila:\\n\", segunda_fila)\n",
        "print(\"\\nNombre y Edad:\\n\", nombre_edad)"
      ],
      "metadata": {
        "id": "gTuERFfM_w9p"
      },
      "id": "gTuERFfM_w9p",
      "execution_count": null,
      "outputs": []
    },
    {
      "cell_type": "markdown",
      "source": [
        "- Calcula la edad media.\n",
        "\n",
        "- Muestra un resumen estadístico del DataFrame.\n",
        "\n",
        "- Cuenta cuántas personas hay por ciudad."
      ],
      "metadata": {
        "id": "P-HT7PGY_xQ1"
      },
      "id": "P-HT7PGY_xQ1"
    },
    {
      "cell_type": "code",
      "source": [
        "# Edad media\n",
        "edad_media = df['Edad'].mean()\n",
        "\n",
        "# Resumen estadístico\n",
        "resumen = df.describe()\n",
        "\n",
        "# Conteo por localidad\n",
        "conteo_ciudad = df['Localidad'].value_counts()\n",
        "\n",
        "print(\"Edad media:\", edad_media)\n",
        "print(\"\\nResumen estadístico:\\n\", resumen)\n",
        "print(\"\\nConteo por ciudad:\\n\", conteo_ciudad)"
      ],
      "metadata": {
        "id": "ThKFizyT_8Wk"
      },
      "id": "ThKFizyT_8Wk",
      "execution_count": null,
      "outputs": []
    },
    {
      "cell_type": "markdown",
      "source": [
        "Usaremos el dataset de iris desde la biblioteca seaborn, que lo carga como DataFrame\n",
        "\n",
        "- Muestra cuántas especies distintas hay.\n",
        "\n",
        "- Calcula la media del largo del pétalo por especie.\n",
        "\n",
        "- Guarda el DataFrame en un CSV con iris.to_csv('iris.csv', index=False)"
      ],
      "metadata": {
        "id": "4m5USEwv_85P"
      },
      "id": "4m5USEwv_85P"
    },
    {
      "cell_type": "code",
      "source": [
        "import seaborn as sns\n",
        "\n",
        "iris = sns.load_dataset('iris')\n",
        "print(iris.head())"
      ],
      "metadata": {
        "id": "d1KbaBAv_9QC",
        "outputId": "4d9354f1-01d0-47ec-da88-916177e82eef",
        "colab": {
          "base_uri": "https://localhost:8080/"
        }
      },
      "id": "d1KbaBAv_9QC",
      "execution_count": 10,
      "outputs": [
        {
          "output_type": "stream",
          "name": "stdout",
          "text": [
            "   sepal_length  sepal_width  petal_length  petal_width species\n",
            "0           5.1          3.5           1.4          0.2  setosa\n",
            "1           4.9          3.0           1.4          0.2  setosa\n",
            "2           4.7          3.2           1.3          0.2  setosa\n",
            "3           4.6          3.1           1.5          0.2  setosa\n",
            "4           5.0          3.6           1.4          0.2  setosa\n"
          ]
        }
      ]
    },
    {
      "cell_type": "code",
      "source": [
        "# Especies distintas\n",
        "especies = iris['species'].unique()\n",
        "\n",
        "# Media del largo del pétalo por especie\n",
        "media_petal_length = iris.groupby('species')['petal_length'].mean()\n",
        "\n",
        "# Guardar como CSV\n",
        "iris.to_csv('iris.csv', index=False)\n",
        "\n",
        "print(\"Especies:\", especies)\n",
        "print(\"\\nMedia del largo del pétalo por especie:\\n\", media_petal_length)"
      ],
      "metadata": {
        "id": "l-C-1QggA6NZ",
        "outputId": "d7d4016a-006b-489c-8c30-b5bdba4eace7",
        "colab": {
          "base_uri": "https://localhost:8080/"
        }
      },
      "id": "l-C-1QggA6NZ",
      "execution_count": 11,
      "outputs": [
        {
          "output_type": "stream",
          "name": "stdout",
          "text": [
            "Especies: ['setosa' 'versicolor' 'virginica']\n",
            "\n",
            "Media del largo del pétalo por especie:\n",
            " species\n",
            "setosa        1.462\n",
            "versicolor    4.260\n",
            "virginica     5.552\n",
            "Name: petal_length, dtype: float64\n"
          ]
        }
      ]
    },
    {
      "cell_type": "markdown",
      "source": [
        "- Crea un DataFrame con algunos valores None.\n",
        "\n",
        "- Usa .dropna() y .fillna() para limpiar.\n",
        "\n",
        "- Cambia el tipo de una columna con .astype()"
      ],
      "metadata": {
        "id": "8inDK2T5ATEb"
      },
      "id": "8inDK2T5ATEb"
    },
    {
      "cell_type": "code",
      "source": [
        "datos = {\n",
        "    'Nombre': ['Ana', 'Luis', None, 'María'],\n",
        "    'Edad': [23, None, 45, 29],\n",
        "    'Ciudad': ['Madrid', 'Barcelona', 'Sevilla', None]\n",
        "}\n",
        "\n",
        "df2 = pd.DataFrame(datos)\n",
        "\n",
        "# Eliminar filas con valores nulos\n",
        "sin_nulos = df2.dropna()\n",
        "\n",
        "# Rellenar nulos con valores por defecto\n",
        "rellenado = df2.fillna({'Nombre': 'Desconocido', 'Edad': df2['Edad'].mean(), 'Ciudad': 'Sin ciudad'})\n",
        "\n",
        "# Cambiar tipo de Edad a entero (después de rellenar)\n",
        "rellenado['Edad'] = rellenado['Edad'].astype(int)\n",
        "\n",
        "print(\"Sin nulos:\\n\", sin_nulos)\n",
        "print(\"\\nRellenado:\\n\", rellenado)\n"
      ],
      "metadata": {
        "id": "NzVCmctuAS0H"
      },
      "id": "NzVCmctuAS0H",
      "execution_count": null,
      "outputs": []
    },
    {
      "cell_type": "markdown",
      "id": "1c8b3502",
      "metadata": {
        "id": "1c8b3502"
      },
      "source": [
        "## Práctica\n",
        "\n",
        "1. Crea un DataFrame con las ventas diarias (columna `Ventas`) de 7 días y calcula la suma, media, mínima y máxima.  \n",
        "2. Añade una columna `Descuento` con valor 5% y calcula `Venta_Neta`.  \n",
        "3. Carga un CSV de ejemplo con `pd.read_csv()`, muestra sus 5 primeros registros y tipos de datos.  \n",
        "4. Agrupa un DataFrame de transacciones por `Cliente` y calcula el total de compra por cliente.\n"
      ]
    },
    {
      "cell_type": "code",
      "source": [
        "import pandas as pd\n",
        "\n",
        "# DataFrame con ventas diarias\n",
        "ventas = pd.DataFrame({\n",
        "    'Ventas': [150, 200, 175, 300, 250, 400, 100]\n",
        "}, index=pd.date_range(start='2025-09-01', periods=7, freq='D'))\n",
        "\n",
        "print(\"Ventas diarias:\")\n",
        "print(ventas)\n",
        "\n",
        "# Cálculos básicos\n",
        "print(\"\\nSuma total:\", ventas['Ventas'].sum())\n",
        "print(\"Media:\", ventas['Ventas'].mean())\n",
        "print(\"Mínimo:\", ventas['Ventas'].min())\n",
        "print(\"Máximo:\", ventas['Ventas'].max())\n",
        "\n",
        "# Añadir columna Descuento (5%) y calcular Venta_Neta\n",
        "ventas['Descuento'] = 0.05\n",
        "ventas['Venta_Neta'] = ventas['Ventas'] * (1 - ventas['Descuento'])\n",
        "\n",
        "print(\"\\nVentas con descuento:\")\n",
        "print(ventas)\n",
        "\n",
        "# Cargar CSV de ejemplo\n",
        "# Usamos un CSV de ejemplo de pandas\n",
        "url = \"https://people.sc.fsu.edu/~jburkardt/data/csv/hw_200.csv\"\n",
        "df_csv = pd.read_csv(url)\n",
        "\n",
        "print(\"\\nPrimeros 5 registros del CSV:\")\n",
        "print(df_csv.head())\n",
        "\n",
        "print(\"\\nTipos de datos:\")\n",
        "print(df_csv.dtypes)\n",
        "\n",
        "# Agrupar transacciones por Cliente\n",
        "transacciones = pd.DataFrame({\n",
        "    'Cliente': ['Ana', 'Luis', 'Ana', 'Pedro', 'Luis', 'Ana'],\n",
        "    'Compra': [100, 200, 50, 300, 150, 75]\n",
        "})\n",
        "\n",
        "total_por_cliente = transacciones.groupby('Cliente')['Compra'].sum()\n",
        "\n",
        "print(\"\\nTotal de compra por cliente:\")\n",
        "print(total_por_cliente)\n"
      ],
      "metadata": {
        "id": "VUnyGTH4J9q6"
      },
      "id": "VUnyGTH4J9q6",
      "execution_count": null,
      "outputs": []
    },
    {
      "cell_type": "markdown",
      "source": [
        "# Ejemplo aplicación de pandas dentro del aprendizajo automático"
      ],
      "metadata": {
        "id": "9jTD4VOXJ_BA"
      },
      "id": "9jTD4VOXJ_BA"
    },
    {
      "cell_type": "code",
      "source": [
        "import pandas as pd\n",
        "import seaborn as sns\n",
        "import matplotlib.pyplot as plt\n",
        "from sklearn.model_selection import train_test_split\n",
        "from sklearn.ensemble import RandomForestClassifier\n",
        "from sklearn.metrics import classification_report, accuracy_score\n",
        "\n",
        "# 1. Cargar el dataset iris\n",
        "iris = sns.load_dataset('iris')\n",
        "\n",
        "# 2. Visualización: dispersión de largo vs ancho del pétalo\n",
        "plt.figure(figsize=(8, 6))\n",
        "sns.scatterplot(data=iris, x='petal_length', y='petal_width', hue='species', palette='Set2')\n",
        "plt.title('Distribución de especies según medidas de pétalo')\n",
        "plt.xlabel('Largo del pétalo')\n",
        "plt.ylabel('Ancho del pétalo')\n",
        "plt.grid(True)\n",
        "plt.show()\n",
        "\n",
        "# 3. Preparar datos para el modelo\n",
        "X = iris.drop('species', axis=1)\n",
        "y = iris['species']\n",
        "\n",
        "# 4. Dividir en entrenamiento y prueba\n",
        "X_train, X_test, y_train, y_test = train_test_split(X, y, test_size=0.3, random_state=42)\n",
        "\n",
        "# 5. Entrenar modelo Random Forest\n",
        "clf = RandomForestClassifier(n_estimators=100, random_state=42)\n",
        "clf.fit(X_train, y_train)\n",
        "\n",
        "# 6. Predicciones\n",
        "y_pred = clf.predict(X_test)\n",
        "\n",
        "# 7. Evaluación\n",
        "print(\"Precisión:\", accuracy_score(y_test, y_pred))\n",
        "print(\"\\nReporte de clasificación:\\n\", classification_report(y_test, y_pred))\n"
      ],
      "metadata": {
        "id": "ISSGA0CMBwhl",
        "outputId": "24733716-ede9-4f32-a6e9-6e0e4a9418dd",
        "colab": {
          "base_uri": "https://localhost:8080/",
          "height": 791
        }
      },
      "id": "ISSGA0CMBwhl",
      "execution_count": 12,
      "outputs": [
        {
          "output_type": "display_data",
          "data": {
            "text/plain": [
              "<Figure size 800x600 with 1 Axes>"
            ],
            "image/png": "[encoded data removed]"
          },
          "metadata": {}
        },
        {
          "output_type": "stream",
          "name": "stdout",
          "text": [
            "Precisión: 1.0\n",
            "\n",
            "Reporte de clasificación:\n",
            "               precision    recall  f1-score   support\n",
            "\n",
            "      setosa       1.00      1.00      1.00        19\n",
            "  versicolor       1.00      1.00      1.00        13\n",
            "   virginica       1.00      1.00      1.00        13\n",
            "\n",
            "    accuracy                           1.00        45\n",
            "   macro avg       1.00      1.00      1.00        45\n",
            "weighted avg       1.00      1.00      1.00        45\n",
            "\n"
          ]
        }
      ]
    }
  ],
  "metadata": {
    "kernelspec": {
      "display_name": "first_try",
      "language": "python",
      "name": "python3"
    },
    "language_info": {
      "codemirror_mode": {
        "name": "ipython",
        "version": 3
      },
      "file_extension": ".py",
      "mimetype": "text/x-python",
      "name": "python",
      "nbconvert_exporter": "python",
      "pygments_lexer": "ipython3",
      "version": "3.13.7"
    },
    "colab": {
      "provenance": []
    }
  },
  "nbformat": 4,
  "nbformat_minor": 5
}
