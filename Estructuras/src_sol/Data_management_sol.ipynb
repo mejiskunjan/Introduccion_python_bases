{
 "cells": [
  {
   "cell_type": "markdown",
   "id": "6d476307",
   "metadata": {},
   "source": [
    "## 1. Instalación e importación de librerías"
   ]
  },
  {
   "cell_type": "code",
   "execution_count": 1,
   "id": "889a8611",
   "metadata": {},
   "outputs": [
    {
     "name": "stdout",
     "output_type": "stream",
     "text": [
      "Requirement already satisfied: yfinance in /Users/gonzalo/anaconda3/lib/python3.12/site-packages (0.2.55)\n",
      "Requirement already satisfied: pandas in /Users/gonzalo/anaconda3/lib/python3.12/site-packages (2.2.3)\n",
      "Requirement already satisfied: numpy in /Users/gonzalo/anaconda3/lib/python3.12/site-packages (1.26.4)\n",
      "Requirement already satisfied: matplotlib in /Users/gonzalo/anaconda3/lib/python3.12/site-packages (3.9.2)\n",
      "Requirement already satisfied: plotly in /Users/gonzalo/anaconda3/lib/python3.12/site-packages (5.24.1)\n",
      "Requirement already satisfied: requests>=2.31 in /Users/gonzalo/anaconda3/lib/python3.12/site-packages (from yfinance) (2.32.3)\n",
      "Requirement already satisfied: multitasking>=0.0.7 in /Users/gonzalo/anaconda3/lib/python3.12/site-packages (from yfinance) (0.0.11)\n",
      "Requirement already satisfied: platformdirs>=2.0.0 in /Users/gonzalo/anaconda3/lib/python3.12/site-packages (from yfinance) (3.10.0)\n",
      "Requirement already satisfied: pytz>=2022.5 in /Users/gonzalo/anaconda3/lib/python3.12/site-packages (from yfinance) (2025.1)\n",
      "Requirement already satisfied: frozendict>=2.3.4 in /Users/gonzalo/anaconda3/lib/python3.12/site-packages (from yfinance) (2.4.2)\n",
      "Requirement already satisfied: peewee>=3.16.2 in /Users/gonzalo/anaconda3/lib/python3.12/site-packages (from yfinance) (3.17.7)\n",
      "Requirement already satisfied: beautifulsoup4>=4.11.1 in /Users/gonzalo/anaconda3/lib/python3.12/site-packages (from yfinance) (4.12.3)\n",
      "Requirement already satisfied: python-dateutil>=2.8.2 in /Users/gonzalo/anaconda3/lib/python3.12/site-packages (from pandas) (2.9.0.post0)\n",
      "Requirement already satisfied: tzdata>=2022.7 in /Users/gonzalo/anaconda3/lib/python3.12/site-packages (from pandas) (2025.1)\n",
      "Requirement already satisfied: contourpy>=1.0.1 in /Users/gonzalo/anaconda3/lib/python3.12/site-packages (from matplotlib) (1.2.0)\n",
      "Requirement already satisfied: cycler>=0.10 in /Users/gonzalo/anaconda3/lib/python3.12/site-packages (from matplotlib) (0.11.0)\n",
      "Requirement already satisfied: fonttools>=4.22.0 in /Users/gonzalo/anaconda3/lib/python3.12/site-packages (from matplotlib) (4.51.0)\n",
      "Requirement already satisfied: kiwisolver>=1.3.1 in /Users/gonzalo/anaconda3/lib/python3.12/site-packages (from matplotlib) (1.4.4)\n",
      "Requirement already satisfied: packaging>=20.0 in /Users/gonzalo/anaconda3/lib/python3.12/site-packages (from matplotlib) (24.2)\n",
      "Requirement already satisfied: pillow>=8 in /Users/gonzalo/anaconda3/lib/python3.12/site-packages (from matplotlib) (10.4.0)\n",
      "Requirement already satisfied: pyparsing>=2.3.1 in /Users/gonzalo/anaconda3/lib/python3.12/site-packages (from matplotlib) (3.1.2)\n",
      "Requirement already satisfied: tenacity>=6.2.0 in /Users/gonzalo/anaconda3/lib/python3.12/site-packages (from plotly) (8.2.3)\n",
      "Requirement already satisfied: soupsieve>1.2 in /Users/gonzalo/anaconda3/lib/python3.12/site-packages (from beautifulsoup4>=4.11.1->yfinance) (2.5)\n",
      "Requirement already satisfied: six>=1.5 in /Users/gonzalo/anaconda3/lib/python3.12/site-packages (from python-dateutil>=2.8.2->pandas) (1.17.0)\n",
      "Requirement already satisfied: charset-normalizer<4,>=2 in /Users/gonzalo/anaconda3/lib/python3.12/site-packages (from requests>=2.31->yfinance) (3.3.2)\n",
      "Requirement already satisfied: idna<4,>=2.5 in /Users/gonzalo/anaconda3/lib/python3.12/site-packages (from requests>=2.31->yfinance) (3.7)\n",
      "Requirement already satisfied: urllib3<3,>=1.21.1 in /Users/gonzalo/anaconda3/lib/python3.12/site-packages (from requests>=2.31->yfinance) (2.2.3)\n",
      "Requirement already satisfied: certifi>=2017.4.17 in /Users/gonzalo/anaconda3/lib/python3.12/site-packages (from requests>=2.31->yfinance) (2024.8.30)\n"
     ]
    }
   ],
   "source": [
    "# Solo es necesario ejecutar una vez en la terminal o en una celda con '!'  \n",
    "!pip install yfinance pandas numpy matplotlib plotly"
   ]
  },
  {
   "cell_type": "code",
   "execution_count": 2,
   "id": "d6146df1",
   "metadata": {},
   "outputs": [],
   "source": [
    "# Importamos las librerías básicas\n",
    "import yfinance as yf\n",
    "import pandas as pd\n",
    "import numpy as np\n",
    "import matplotlib.pyplot as plt\n",
    "import plotly.express as px\n"
   ]
  },
  {
   "cell_type": "markdown",
   "id": "c699da37",
   "metadata": {},
   "source": [
    "## 2. Descarga de datos con yfinance"
   ]
  },
  {
   "cell_type": "code",
   "execution_count": 3,
   "id": "d8b45204",
   "metadata": {},
   "outputs": [
    {
     "name": "stderr",
     "output_type": "stream",
     "text": [
      "[*********************100%***********************]  2 of 2 completed\n"
     ]
    },
    {
     "data": {
      "text/html": [
       "<div>\n",
       "<style scoped>\n",
       "    .dataframe tbody tr th:only-of-type {\n",
       "        vertical-align: middle;\n",
       "    }\n",
       "\n",
       "    .dataframe tbody tr th {\n",
       "        vertical-align: top;\n",
       "    }\n",
       "\n",
       "    .dataframe thead tr th {\n",
       "        text-align: left;\n",
       "    }\n",
       "\n",
       "    .dataframe thead tr:last-of-type th {\n",
       "        text-align: right;\n",
       "    }\n",
       "</style>\n",
       "<table border=\"1\" class=\"dataframe\">\n",
       "  <thead>\n",
       "    <tr>\n",
       "      <th>Price</th>\n",
       "      <th colspan=\"2\" halign=\"left\">Close</th>\n",
       "      <th colspan=\"2\" halign=\"left\">High</th>\n",
       "      <th colspan=\"2\" halign=\"left\">Low</th>\n",
       "      <th colspan=\"2\" halign=\"left\">Open</th>\n",
       "      <th colspan=\"2\" halign=\"left\">Volume</th>\n",
       "    </tr>\n",
       "    <tr>\n",
       "      <th>Ticker</th>\n",
       "      <th>AAPL</th>\n",
       "      <th>NVDA</th>\n",
       "      <th>AAPL</th>\n",
       "      <th>NVDA</th>\n",
       "      <th>AAPL</th>\n",
       "      <th>NVDA</th>\n",
       "      <th>AAPL</th>\n",
       "      <th>NVDA</th>\n",
       "      <th>AAPL</th>\n",
       "      <th>NVDA</th>\n",
       "    </tr>\n",
       "    <tr>\n",
       "      <th>Date</th>\n",
       "      <th></th>\n",
       "      <th></th>\n",
       "      <th></th>\n",
       "      <th></th>\n",
       "      <th></th>\n",
       "      <th></th>\n",
       "      <th></th>\n",
       "      <th></th>\n",
       "      <th></th>\n",
       "      <th></th>\n",
       "    </tr>\n",
       "  </thead>\n",
       "  <tbody>\n",
       "    <tr>\n",
       "      <th>2020-01-02</th>\n",
       "      <td>72.538536</td>\n",
       "      <td>5.971746</td>\n",
       "      <td>72.598914</td>\n",
       "      <td>5.971746</td>\n",
       "      <td>71.292326</td>\n",
       "      <td>5.892342</td>\n",
       "      <td>71.545912</td>\n",
       "      <td>5.942872</td>\n",
       "      <td>135480400</td>\n",
       "      <td>237536000</td>\n",
       "    </tr>\n",
       "    <tr>\n",
       "      <th>2020-01-03</th>\n",
       "      <td>71.833290</td>\n",
       "      <td>5.876163</td>\n",
       "      <td>72.594055</td>\n",
       "      <td>5.919972</td>\n",
       "      <td>71.608685</td>\n",
       "      <td>5.827126</td>\n",
       "      <td>71.765667</td>\n",
       "      <td>5.852018</td>\n",
       "      <td>146322800</td>\n",
       "      <td>205384000</td>\n",
       "    </tr>\n",
       "    <tr>\n",
       "      <th>2020-01-06</th>\n",
       "      <td>72.405693</td>\n",
       "      <td>5.900805</td>\n",
       "      <td>72.444336</td>\n",
       "      <td>5.906032</td>\n",
       "      <td>70.703027</td>\n",
       "      <td>5.756682</td>\n",
       "      <td>70.954203</td>\n",
       "      <td>5.782819</td>\n",
       "      <td>118387200</td>\n",
       "      <td>262636000</td>\n",
       "    </tr>\n",
       "    <tr>\n",
       "      <th>2020-01-07</th>\n",
       "      <td>72.065140</td>\n",
       "      <td>5.972246</td>\n",
       "      <td>72.671333</td>\n",
       "      <td>6.018046</td>\n",
       "      <td>71.845362</td>\n",
       "      <td>5.884129</td>\n",
       "      <td>72.415330</td>\n",
       "      <td>5.929183</td>\n",
       "      <td>108872000</td>\n",
       "      <td>314856000</td>\n",
       "    </tr>\n",
       "    <tr>\n",
       "      <th>2020-01-08</th>\n",
       "      <td>73.224403</td>\n",
       "      <td>5.983447</td>\n",
       "      <td>73.526295</td>\n",
       "      <td>6.024767</td>\n",
       "      <td>71.768079</td>\n",
       "      <td>5.927939</td>\n",
       "      <td>71.768079</td>\n",
       "      <td>5.968014</td>\n",
       "      <td>132079200</td>\n",
       "      <td>277108000</td>\n",
       "    </tr>\n",
       "  </tbody>\n",
       "</table>\n",
       "</div>"
      ],
      "text/plain": [
       "Price           Close                 High                  Low            \\\n",
       "Ticker           AAPL      NVDA       AAPL      NVDA       AAPL      NVDA   \n",
       "Date                                                                        \n",
       "2020-01-02  72.538536  5.971746  72.598914  5.971746  71.292326  5.892342   \n",
       "2020-01-03  71.833290  5.876163  72.594055  5.919972  71.608685  5.827126   \n",
       "2020-01-06  72.405693  5.900805  72.444336  5.906032  70.703027  5.756682   \n",
       "2020-01-07  72.065140  5.972246  72.671333  6.018046  71.845362  5.884129   \n",
       "2020-01-08  73.224403  5.983447  73.526295  6.024767  71.768079  5.927939   \n",
       "\n",
       "Price            Open               Volume             \n",
       "Ticker           AAPL      NVDA       AAPL       NVDA  \n",
       "Date                                                   \n",
       "2020-01-02  71.545912  5.942872  135480400  237536000  \n",
       "2020-01-03  71.765667  5.852018  146322800  205384000  \n",
       "2020-01-06  70.954203  5.782819  118387200  262636000  \n",
       "2020-01-07  72.415330  5.929183  108872000  314856000  \n",
       "2020-01-08  71.768079  5.968014  132079200  277108000  "
      ]
     },
     "execution_count": 3,
     "metadata": {},
     "output_type": "execute_result"
    }
   ],
   "source": [
    "# Definimos el ticker y el rango de fechas\n",
    "tickers = ['NVDA', 'AAPL']\n",
    "start_date = \"2020-01-01\"\n",
    "end_date = \"2022-12-31\"\n",
    "\n",
    "# Descarga de datos diarios\n",
    "dataframe = yf.download(tickers, start=start_date, end=end_date, auto_adjust=True)\n",
    "\n",
    "# Primer vistazo\n",
    "dataframe.head()\n"
   ]
  },
  {
   "cell_type": "code",
   "execution_count": 4,
   "id": "d5727fb4",
   "metadata": {},
   "outputs": [
    {
     "data": {
      "text/html": [
       "<div>\n",
       "<style scoped>\n",
       "    .dataframe tbody tr th:only-of-type {\n",
       "        vertical-align: middle;\n",
       "    }\n",
       "\n",
       "    .dataframe tbody tr th {\n",
       "        vertical-align: top;\n",
       "    }\n",
       "\n",
       "    .dataframe thead th {\n",
       "        text-align: right;\n",
       "    }\n",
       "</style>\n",
       "<table border=\"1\" class=\"dataframe\">\n",
       "  <thead>\n",
       "    <tr style=\"text-align: right;\">\n",
       "      <th>Ticker</th>\n",
       "      <th>AAPL</th>\n",
       "      <th>NVDA</th>\n",
       "    </tr>\n",
       "    <tr>\n",
       "      <th>Date</th>\n",
       "      <th></th>\n",
       "      <th></th>\n",
       "    </tr>\n",
       "  </thead>\n",
       "  <tbody>\n",
       "    <tr>\n",
       "      <th>2020-01-02</th>\n",
       "      <td>72.538536</td>\n",
       "      <td>5.971746</td>\n",
       "    </tr>\n",
       "    <tr>\n",
       "      <th>2020-01-03</th>\n",
       "      <td>71.833290</td>\n",
       "      <td>5.876163</td>\n",
       "    </tr>\n",
       "    <tr>\n",
       "      <th>2020-01-06</th>\n",
       "      <td>72.405693</td>\n",
       "      <td>5.900805</td>\n",
       "    </tr>\n",
       "    <tr>\n",
       "      <th>2020-01-07</th>\n",
       "      <td>72.065140</td>\n",
       "      <td>5.972246</td>\n",
       "    </tr>\n",
       "    <tr>\n",
       "      <th>2020-01-08</th>\n",
       "      <td>73.224403</td>\n",
       "      <td>5.983447</td>\n",
       "    </tr>\n",
       "  </tbody>\n",
       "</table>\n",
       "</div>"
      ],
      "text/plain": [
       "Ticker           AAPL      NVDA\n",
       "Date                           \n",
       "2020-01-02  72.538536  5.971746\n",
       "2020-01-03  71.833290  5.876163\n",
       "2020-01-06  72.405693  5.900805\n",
       "2020-01-07  72.065140  5.972246\n",
       "2020-01-08  73.224403  5.983447"
      ]
     },
     "execution_count": 4,
     "metadata": {},
     "output_type": "execute_result"
    }
   ],
   "source": [
    "# Elegimos la columna que queramos (preci ajustado)\n",
    "adj_close = dataframe['Close']\n",
    "\n",
    "adj_close.head()"
   ]
  },
  {
   "cell_type": "markdown",
   "id": "3effd48b",
   "metadata": {},
   "source": [
    "## 3. Limpieza de datos\n",
    "\n",
    "- Revisamos si hay valores faltantes\n",
    "\n",
    "- Ajustamos tipos de dato\n",
    "\n",
    "- Reindexamos si es necesario"
   ]
  },
  {
   "cell_type": "code",
   "execution_count": 5,
   "id": "2ef7c866",
   "metadata": {},
   "outputs": [
    {
     "name": "stdout",
     "output_type": "stream",
     "text": [
      "Valores nulos por columna:\n",
      "Ticker\n",
      "AAPL    0\n",
      "NVDA    0\n",
      "dtype: int64\n"
     ]
    }
   ],
   "source": [
    "# 3.1 Detectar valores nulos\n",
    "print(\"Valores nulos por columna:\")\n",
    "print(adj_close.isna().sum())"
   ]
  },
  {
   "cell_type": "markdown",
   "id": "0883639f",
   "metadata": {},
   "source": [
    "Recordemos que df_clean = df.copy() crea una copia nueva y la guarda en la variable de antes del igual."
   ]
  },
  {
   "cell_type": "markdown",
   "id": "7dd1f2e8",
   "metadata": {},
   "source": [
    "Hay2 formas de eliminar valores faltantes:\n",
    "- Por filas: (para eliminar días problemáticos)\n",
    "    - df.dropna(axis=0, how='any')\n",
    "\n",
    "        elimina todos los valores de la fila si hay CUALQUIER valor NaN (nulo)\n",
    "\n",
    "    - df.dropna(axis=0, how='all')\n",
    "\n",
    "        elimina todos los valores de la fila si TODOS son NaN (nulo)\n",
    "        \n",
    "- Por columnas: (para eliminar activos problemáticos)\n",
    "    - df.dropna(axis=1, how='any')\n",
    "\n",
    "        elimina todos los valores de la columna si hay CUALQUIER valor NaN (nulo)\n",
    "\n",
    "    - df.dropna(axis=1, how='all')\n",
    "\n",
    "        elimina todos los valores de la columna si TODOS son NaN (nulo)\n",
    "\n",
    "- En la función dropna hay otros 2 argumentos que nos pueden interesar:\n",
    "    - inplace=, True si queremos que la limpieza se haga en el mismo dataframe\n",
    "    - thresh=, para establecer el número mínimo de valores nulos que tiene que haber para que se elimine la fila o columna en cuestión"
   ]
  },
  {
   "cell_type": "code",
   "execution_count": 7,
   "id": "b70ddcf1",
   "metadata": {},
   "outputs": [],
   "source": [
    "# 3.2 Eliminar nulos (si los hubiese)\n",
    "adj_close_clean = adj_close.dropna(axis=0, how='any')\n"
   ]
  },
  {
   "cell_type": "code",
   "execution_count": 8,
   "id": "0ed91d52",
   "metadata": {},
   "outputs": [
    {
     "name": "stdout",
     "output_type": "stream",
     "text": [
      "<class 'pandas.core.frame.DataFrame'>\n",
      "DatetimeIndex: 756 entries, 2020-01-02 to 2022-12-30\n",
      "Data columns (total 2 columns):\n",
      " #   Column  Non-Null Count  Dtype  \n",
      "---  ------  --------------  -----  \n",
      " 0   AAPL    756 non-null    float64\n",
      " 1   NVDA    756 non-null    float64\n",
      "dtypes: float64(2)\n",
      "memory usage: 17.7 KB\n"
     ]
    }
   ],
   "source": [
    "# 3.3 Indexar por fecha como DatetimeIndex\n",
    "adj_close_clean.index = pd.to_datetime(adj_close_clean.index)\n",
    "\n",
    "adj_close_clean.info()"
   ]
  },
  {
   "cell_type": "markdown",
   "id": "0f73d14f",
   "metadata": {},
   "source": [
    "## 4. Slicing con condicionales"
   ]
  },
  {
   "cell_type": "code",
   "execution_count": 15,
   "id": "d8c83328",
   "metadata": {},
   "outputs": [
    {
     "name": "stdout",
     "output_type": "stream",
     "text": [
      "Ticker            AAPL       NVDA\n",
      "Date                             \n",
      "2021-01-04  126.096573  13.078189\n",
      "2021-01-05  127.655602  13.368654\n",
      "2021-01-06  123.358528  12.580535\n",
      "2021-01-07  127.567909  13.308069\n",
      "2021-01-08  128.668991  13.241001\n",
      "...                ...        ...\n",
      "2021-12-27  176.796051  30.888638\n",
      "2021-12-28  175.776428  30.266768\n",
      "2021-12-29  175.864624  29.946352\n",
      "2021-12-30  174.707809  29.532110\n",
      "2021-12-31  174.090164  29.357424\n",
      "\n",
      "[252 rows x 2 columns]\n",
      "Ticker            AAPL       NVDA\n",
      "Date                             \n",
      "2021-01-04  126.096573  13.078189\n",
      "2021-01-05  127.655602  13.368654\n",
      "2021-01-06  123.358528  12.580535\n",
      "2021-01-07  127.567909  13.308069\n",
      "2021-01-08  128.668991  13.241001\n",
      "...                ...        ...\n",
      "2021-12-27  176.796051  30.888638\n",
      "2021-12-28  175.776428  30.266768\n",
      "2021-12-29  175.864624  29.946352\n",
      "2021-12-30  174.707809  29.532110\n",
      "2021-12-31  174.090164  29.357424\n",
      "\n",
      "[252 rows x 2 columns]\n"
     ]
    }
   ],
   "source": [
    "# Extraer datos del año 2021\n",
    "# TO-DO\n",
    "close_21 = adj_close_clean.loc[\"2021\",:]\n",
    "print(close_21)\n",
    "\n",
    "close_21_distinto = adj_close_clean[\"2021-01-01\":\"2021-12-31\"]\n",
    "print(close_21_distinto)\n"
   ]
  },
  {
   "cell_type": "code",
   "execution_count": 23,
   "id": "7b66b653",
   "metadata": {},
   "outputs": [
    {
     "data": {
      "text/html": [
       "<div>\n",
       "<style scoped>\n",
       "    .dataframe tbody tr th:only-of-type {\n",
       "        vertical-align: middle;\n",
       "    }\n",
       "\n",
       "    .dataframe tbody tr th {\n",
       "        vertical-align: top;\n",
       "    }\n",
       "\n",
       "    .dataframe thead th {\n",
       "        text-align: right;\n",
       "    }\n",
       "</style>\n",
       "<table border=\"1\" class=\"dataframe\">\n",
       "  <thead>\n",
       "    <tr style=\"text-align: right;\">\n",
       "      <th>Ticker</th>\n",
       "      <th>AAPL</th>\n",
       "      <th>NVDA</th>\n",
       "    </tr>\n",
       "    <tr>\n",
       "      <th>Date</th>\n",
       "      <th></th>\n",
       "      <th></th>\n",
       "    </tr>\n",
       "  </thead>\n",
       "  <tbody>\n",
       "  </tbody>\n",
       "</table>\n",
       "</div>"
      ],
      "text/plain": [
       "Empty DataFrame\n",
       "Columns: [AAPL, NVDA]\n",
       "Index: []"
      ]
     },
     "execution_count": 23,
     "metadata": {},
     "output_type": "execute_result"
    }
   ],
   "source": [
    "# Días con cierre por encima de los 150 USD en ambas acciones\n",
    "# TO-DO\n",
    "high_close_both = adj_close_clean[(adj_close_clean['AAPL'] > 150) & (adj_close_clean['NVDA'] > 150)] \n",
    "high_close_both"
   ]
  },
  {
   "cell_type": "code",
   "execution_count": 24,
   "id": "dc494342",
   "metadata": {},
   "outputs": [
    {
     "data": {
      "text/html": [
       "<div>\n",
       "<style scoped>\n",
       "    .dataframe tbody tr th:only-of-type {\n",
       "        vertical-align: middle;\n",
       "    }\n",
       "\n",
       "    .dataframe tbody tr th {\n",
       "        vertical-align: top;\n",
       "    }\n",
       "\n",
       "    .dataframe thead th {\n",
       "        text-align: right;\n",
       "    }\n",
       "</style>\n",
       "<table border=\"1\" class=\"dataframe\">\n",
       "  <thead>\n",
       "    <tr style=\"text-align: right;\">\n",
       "      <th>Ticker</th>\n",
       "      <th>AAPL</th>\n",
       "      <th>NVDA</th>\n",
       "    </tr>\n",
       "    <tr>\n",
       "      <th>Date</th>\n",
       "      <th></th>\n",
       "      <th></th>\n",
       "    </tr>\n",
       "  </thead>\n",
       "  <tbody>\n",
       "    <tr>\n",
       "      <th>2021-09-02</th>\n",
       "      <td>150.419373</td>\n",
       "      <td>22.352470</td>\n",
       "    </tr>\n",
       "    <tr>\n",
       "      <th>2021-09-03</th>\n",
       "      <td>151.055725</td>\n",
       "      <td>22.798597</td>\n",
       "    </tr>\n",
       "    <tr>\n",
       "      <th>2021-09-07</th>\n",
       "      <td>153.395432</td>\n",
       "      <td>22.617950</td>\n",
       "    </tr>\n",
       "    <tr>\n",
       "      <th>2021-09-08</th>\n",
       "      <td>151.848679</td>\n",
       "      <td>22.295576</td>\n",
       "    </tr>\n",
       "    <tr>\n",
       "      <th>2021-09-09</th>\n",
       "      <td>150.830536</td>\n",
       "      <td>22.133896</td>\n",
       "    </tr>\n",
       "    <tr>\n",
       "      <th>...</th>\n",
       "      <td>...</td>\n",
       "      <td>...</td>\n",
       "    </tr>\n",
       "    <tr>\n",
       "      <th>2022-09-20</th>\n",
       "      <td>154.461777</td>\n",
       "      <td>13.160932</td>\n",
       "    </tr>\n",
       "    <tr>\n",
       "      <th>2022-09-21</th>\n",
       "      <td>151.331161</td>\n",
       "      <td>13.245833</td>\n",
       "    </tr>\n",
       "    <tr>\n",
       "      <th>2022-09-22</th>\n",
       "      <td>150.366409</td>\n",
       "      <td>12.546636</td>\n",
       "    </tr>\n",
       "    <tr>\n",
       "      <th>2022-10-28</th>\n",
       "      <td>153.319778</td>\n",
       "      <td>13.818178</td>\n",
       "    </tr>\n",
       "    <tr>\n",
       "      <th>2022-10-31</th>\n",
       "      <td>150.957077</td>\n",
       "      <td>13.481564</td>\n",
       "    </tr>\n",
       "  </tbody>\n",
       "</table>\n",
       "<p>169 rows × 2 columns</p>\n",
       "</div>"
      ],
      "text/plain": [
       "Ticker            AAPL       NVDA\n",
       "Date                             \n",
       "2021-09-02  150.419373  22.352470\n",
       "2021-09-03  151.055725  22.798597\n",
       "2021-09-07  153.395432  22.617950\n",
       "2021-09-08  151.848679  22.295576\n",
       "2021-09-09  150.830536  22.133896\n",
       "...                ...        ...\n",
       "2022-09-20  154.461777  13.160932\n",
       "2022-09-21  151.331161  13.245833\n",
       "2022-09-22  150.366409  12.546636\n",
       "2022-10-28  153.319778  13.818178\n",
       "2022-10-31  150.957077  13.481564\n",
       "\n",
       "[169 rows x 2 columns]"
      ]
     },
     "execution_count": 24,
     "metadata": {},
     "output_type": "execute_result"
    }
   ],
   "source": [
    "# Días con cierre por encima de los 150 USD para cualquiera de las acciones\n",
    "# TO-DO\n",
    "high_close_both = adj_close_clean[(adj_close_clean['AAPL'] > 150) | (adj_close_clean['NVDA'] > 150)] \n",
    "high_close_both"
   ]
  },
  {
   "cell_type": "markdown",
   "id": "a2835ce1",
   "metadata": {},
   "source": [
    "## 5. Visualización"
   ]
  },
  {
   "cell_type": "code",
   "execution_count": null,
   "id": "47d661dd",
   "metadata": {},
   "outputs": [],
   "source": [
    "plt.figure(figsize=(10, 5))\n",
    "plt.plot(df_clean.index, df_clean['AAPL'], color='tab:blue', lw=1.5, label='AAPL')\n",
    "plt.plot(df_clean.index, df_clean['NVDA'], color='tab:orange', lw=1.5, label='NVDA')\n",
    "plt.title('Precio de Cierre de AAPL y NVDA (2020–2022)')\n",
    "plt.xlabel('Fecha')\n",
    "plt.ylabel('USD')\n",
    "plt.grid(alpha=0.3)\n",
    "plt.legend()\n",
    "plt.show()\n"
   ]
  },
  {
   "cell_type": "code",
   "execution_count": null,
   "id": "2da40e51",
   "metadata": {},
   "outputs": [],
   "source": [
    "plt.figure(figsize=(8, 4))\n",
    "plt.hist(df_clean['AAPL'], bins=50, color='tab:green', edgecolor='pink', label='AAPL')\n",
    "plt.title('Distribución de Close Diario')\n",
    "plt.xlabel('Close')\n",
    "plt.ylabel('Frecuencia')\n",
    "plt.legend()\n",
    "plt.show()"
   ]
  }
 ],
 "metadata": {
  "kernelspec": {
   "display_name": "base",
   "language": "python",
   "name": "python3"
  },
  "language_info": {
   "codemirror_mode": {
    "name": "ipython",
    "version": 3
   },
   "file_extension": ".py",
   "mimetype": "text/x-python",
   "name": "python",
   "nbconvert_exporter": "python",
   "pygments_lexer": "ipython3",
   "version": "3.12.7"
  }
 },
 "nbformat": 4,
 "nbformat_minor": 5
}
