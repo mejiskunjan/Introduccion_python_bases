{
 "cells": [
  {
   "cell_type": "markdown",
   "id": "6d476307",
   "metadata": {},
   "source": [
    "## 1. Instalación e importación de librerías"
   ]
  },
  {
   "cell_type": "code",
   "execution_count": null,
   "id": "889a8611",
   "metadata": {},
   "outputs": [],
   "source": [
    "# Solo es necesario ejecutar una vez en la terminal o en una celda con '!'  \n",
    "!pip install yfinance pandas numpy matplotlib plotly"
   ]
  },
  {
   "cell_type": "code",
   "execution_count": null,
   "id": "d6146df1",
   "metadata": {},
   "outputs": [],
   "source": [
    "# Importamos las librerías básicas\n",
    "import yfinance as yf\n",
    "import pandas as pd\n",
    "import numpy as np\n",
    "import matplotlib.pyplot as plt\n",
    "import plotly.express as px\n"
   ]
  },
  {
   "cell_type": "markdown",
   "id": "c699da37",
   "metadata": {},
   "source": [
    "## 2. Descarga de datos con yfinance"
   ]
  },
  {
   "cell_type": "code",
   "execution_count": null,
   "id": "d8b45204",
   "metadata": {},
   "outputs": [],
   "source": [
    "# Definimos el ticker y el rango de fechas\n",
    "tickers = ['NVDA', 'AAPL']\n",
    "start_date = \"2020-01-01\"\n",
    "end_date = \"2022-12-31\"\n",
    "\n",
    "# Descarga de datos diarios\n",
    "dataframe = yf.download(tickers, start=start_date, end=end_date, auto_adjust=True)\n",
    "\n",
    "# Primer vistazo\n",
    "dataframe.head()\n"
   ]
  },
  {
   "cell_type": "code",
   "execution_count": null,
   "id": "d5727fb4",
   "metadata": {},
   "outputs": [],
   "source": [
    "# Elegimos la columna que queramos (preci ajustado)\n",
    "adj_close = dataframe['Close']\n",
    "\n",
    "adj_close.head()"
   ]
  },
  {
   "cell_type": "markdown",
   "id": "3effd48b",
   "metadata": {},
   "source": [
    "## 3. Limpieza de datos\n",
    "\n",
    "- Revisamos si hay valores faltantes\n",
    "\n",
    "- Ajustamos tipos de dato\n",
    "\n",
    "- Reindexamos si es necesario"
   ]
  },
  {
   "cell_type": "code",
   "execution_count": null,
   "id": "2ef7c866",
   "metadata": {},
   "outputs": [],
   "source": [
    "# 3.1 Detectar valores nulos\n",
    "print(\"Valores nulos por columna:\")\n",
    "print(adj_close.isna().sum())"
   ]
  },
  {
   "cell_type": "markdown",
   "id": "0883639f",
   "metadata": {},
   "source": [
    "Recordemos que df_clean = df.copy() crea una copia nueva y la guarda en la variable de antes del igual."
   ]
  },
  {
   "cell_type": "markdown",
   "id": "7dd1f2e8",
   "metadata": {},
   "source": [
    "Hay2 formas de eliminar valores faltantes:\n",
    "- Por filas: (para eliminar días problemáticos)\n",
    "    - df.dropna(axis=0, how='ANY')\n",
    "\n",
    "        elimina todos los valores de la fila si hay CUALQUIER valor NaN (nulo)\n",
    "\n",
    "    - df.dropna(axis=0, how='ALL')\n",
    "\n",
    "        elimina todos los valores de la fila si TODOS son NaN (nulo)\n",
    "        \n",
    "- Por columnas: (para eliminar activos problemáticos)\n",
    "    - df.dropna(axis=1, how='ANY')\n",
    "\n",
    "        elimina todos los valores de la columna si hay CUALQUIER valor NaN (nulo)\n",
    "\n",
    "    - df.dropna(axis=1, how='ALL')\n",
    "\n",
    "        elimina todos los valores de la columna si TODOS son NaN (nulo)\n",
    "\n",
    "- En la función dropna hay otros 2 argumentos que nos pueden interesar:\n",
    "    - inplace=, True si queremos que la limpieza se haga en el mismo dataframe\n",
    "    - thresh=, para establecer el número mínimo de valores nulos que tiene que haber para que se elimine la fila o columna en cuestión"
   ]
  },
  {
   "cell_type": "code",
   "execution_count": null,
   "id": "b70ddcf1",
   "metadata": {},
   "outputs": [],
   "source": [
    "# 3.2 Eliminar nulos (si los hubiese)\n",
    "adj_close_clean = adj_close.dropna(axis=0, how='ANY')\n"
   ]
  },
  {
   "cell_type": "code",
   "execution_count": null,
   "id": "0ed91d52",
   "metadata": {},
   "outputs": [],
   "source": [
    "# 3.3 Indexar por fecha como DatetimeIndex\n",
    "adj_close_clean.index = pd.to_datetime(adj_close_clean.index)\n",
    "\n",
    "adj_close_clean.info()"
   ]
  },
  {
   "cell_type": "markdown",
   "id": "0f73d14f",
   "metadata": {},
   "source": [
    "## 4. Slicing con condicionales"
   ]
  },
  {
   "cell_type": "code",
   "execution_count": null,
   "id": "d8c83328",
   "metadata": {},
   "outputs": [],
   "source": [
    "# Extraer datos del año 2021\n",
    "# TO-DO"
   ]
  },
  {
   "cell_type": "code",
   "execution_count": null,
   "id": "7b66b653",
   "metadata": {},
   "outputs": [],
   "source": [
    "# Días con cierre por encima de los 150 USD\n",
    "# TO-DO\n"
   ]
  },
  {
   "cell_type": "code",
   "execution_count": null,
   "id": "91fcb9fa",
   "metadata": {},
   "outputs": [],
   "source": [
    "# Días con cierre por encima de los 150 USD para cualquiera de las acciones\n",
    "# TO-DO"
   ]
  },
  {
   "cell_type": "markdown",
   "id": "a2835ce1",
   "metadata": {},
   "source": [
    "## 5. Visualización"
   ]
  },
  {
   "cell_type": "code",
   "execution_count": null,
   "id": "47d661dd",
   "metadata": {},
   "outputs": [],
   "source": [
    "plt.figure(figsize=(10, 5))\n",
    "plt.plot(df_clean.index, df_clean['AAPL'], color='tab:blue', lw=1.5, label='AAPL')\n",
    "plt.plot(df_clean.index, df_clean['NVDA'], color='tab:orange', lw=1.5, label='NVDA')\n",
    "plt.title('Precio de Cierre de AAPL y NVDA (2020–2022)')\n",
    "plt.xlabel('Fecha')\n",
    "plt.ylabel('USD')\n",
    "plt.grid(alpha=0.3)\n",
    "plt.legend()\n",
    "plt.show()\n"
   ]
  },
  {
   "cell_type": "code",
   "execution_count": null,
   "id": "2da40e51",
   "metadata": {},
   "outputs": [],
   "source": [
    "plt.figure(figsize=(8, 4))\n",
    "plt.hist(df_clean['AAPL'], bins=50, color='tab:green', edgecolor='pink', label='AAPL')\n",
    "plt.title('Distribución de Close Diario')\n",
    "plt.xlabel('Close')\n",
    "plt.ylabel('Frecuencia')\n",
    "plt.legend()\n",
    "plt.show()"
   ]
  }
 ],
 "metadata": {
  "kernelspec": {
   "display_name": "base",
   "language": "python",
   "name": "python3"
  },
  "language_info": {
   "codemirror_mode": {
    "name": "ipython",
    "version": 3
   },
   "file_extension": ".py",
   "mimetype": "text/x-python",
   "name": "python",
   "nbconvert_exporter": "python",
   "pygments_lexer": "ipython3",
   "version": "3.12.7"
  }
 },
 "nbformat": 4,
 "nbformat_minor": 5
}
