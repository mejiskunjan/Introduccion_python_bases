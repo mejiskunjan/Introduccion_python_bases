{
  "cells": [
    {
      "cell_type": "markdown",
      "id": "b8775406",
      "metadata": {
        "id": "b8775406"
      },
      "source": [
        "# Pandas desde cero\n",
        "\n",
        "Aprenderemos la teoría básica de Pandas, cómo crear y manipular Series y DataFrames, funciones útiles y técnicas de indexación y filtrado.\n",
        "\n",
        "---\n",
        "\n",
        "## 1. Introducción y Configuración\n",
        "\n",
        "### 1.1 ¿Qué es Pandas?\n",
        "\n",
        "Pandas es la librería de Python para el análisis y manipulación de datos.  \n",
        "Ofrece estructuras de datos de alto rendimiento como **Series** (1D) y **DataFrame** (2D) con etiquetas en filas y columnas.\n",
        "\n",
        "### 1.2 Instalación e Importación\n",
        "\n",
        "```bash\n",
        "pip install pandas\n"
      ]
    },
    {
      "cell_type": "markdown",
      "source": [
        "# 🧮 Diferencias entre NumPy y pandas\n",
        "\n",
        "En el ecosistema de Python para ciencia de datos, **NumPy** y **pandas** son dos bibliotecas fundamentales. Aunque se complementan, tienen enfoques distintos:\n",
        "\n",
        "---\n",
        "\n",
        "## 🔢 NumPy: Computación Numérica\n",
        "\n",
        "- **Estructura principal:** `ndarray` (matriz multidimensional).\n",
        "- **Datos homogéneos:** Todos los elementos deben ser del mismo tipo (por ejemplo, todos `float64`).\n",
        "- **Ideal para:** Álgebra lineal, estadísticas, simulaciones, procesamiento de imágenes y señales.\n",
        "- **Ventaja clave:** Muy rápido y eficiente en memoria para cálculos numéricos masivos.\n",
        "\n",
        "```python\n",
        "import numpy as np\n",
        "\n",
        "a = np.array([1, 2, 3, 4])\n",
        "print(a.mean())  # Media de los elementos"
      ],
      "metadata": {
        "id": "gQ5tykPgJKyI"
      },
      "id": "gQ5tykPgJKyI"
    },
    {
      "cell_type": "markdown",
      "source": [
        "# 📊 Introducción a pandas\n",
        "\n",
        "**pandas** es una biblioteca de Python diseñada para facilitar el análisis y manipulación de datos estructurados. Es especialmente útil cuando trabajamos con datos tabulares, como hojas de cálculo, archivos CSV o bases de datos.\n",
        "\n",
        "---\n",
        "\n",
        "## 🧱 Estructuras principales\n",
        "\n",
        "- **Series:** Una columna con etiquetas. Similar a un array de NumPy, pero con índice.\n",
        "- **DataFrame:** Una tabla bidimensional con filas y columnas etiquetadas. Es la estructura más usada.\n",
        "\n",
        "```python\n",
        "import pandas as pd\n",
        "\n",
        "# Crear una Series\n",
        "s = pd.Series([10, 20, 30], index=['a', 'b', 'c'])\n",
        "\n",
        "# Crear un DataFrame\n",
        "df = pd.DataFrame({\n",
        "    'Nombre': ['Ana', 'Luis', 'Carlos'],\n",
        "    'Edad': [23, 34, 45]\n",
        "})\n"
      ],
      "metadata": {
        "id": "UuoBn4KGJcA_"
      },
      "id": "UuoBn4KGJcA_"
    },
    {
      "cell_type": "code",
      "execution_count": null,
      "id": "fd10829d",
      "metadata": {
        "id": "fd10829d"
      },
      "outputs": [],
      "source": [
        "!pip install pandas"
      ]
    },
    {
      "cell_type": "code",
      "execution_count": null,
      "id": "72f4cc8d",
      "metadata": {
        "id": "72f4cc8d"
      },
      "outputs": [],
      "source": [
        "import pandas as pd\n"
      ]
    },
    {
      "cell_type": "markdown",
      "id": "646262a7",
      "metadata": {
        "id": "646262a7"
      },
      "source": [
        "## 2. Teoría Básica de Series y DataFrames\n",
        "\n",
        "### 2.1 Estructuras Principales\n",
        "\n",
        "- **Series**: arreglo unidimensional con etiquetas (índice).  \n",
        "- **DataFrame**: tabla bidimensional con filas y columnas etiquetadas.\n",
        "\n",
        "### 2.2 Creación de Series y DataFrames\n"
      ]
    },
    {
      "cell_type": "code",
      "execution_count": null,
      "id": "864a17f1",
      "metadata": {
        "id": "864a17f1"
      },
      "outputs": [],
      "source": [
        "# Series a partir de lista y diccionario\n",
        "s = pd.Series([10, 20, 30], index=['a', 'b', 'c'])\n",
        "s2 = pd.Series({'x': 1, 'y': 2, 'z': 3})\n",
        "\n",
        "# DataFrame a partir de diccionario de listas\n",
        "df = pd.DataFrame({\n",
        "    'Nombre': ['Ana', 'Luis', 'Eva'],\n",
        "    'Edad': [23, 19, 31],\n",
        "    'Puntaje': [88.5, 92.3, 79.4]\n",
        "})\n",
        "\n",
        "# DataFrame a partir de lista de diccionarios\n",
        "data = [\n",
        "    {'A': 1, 'B': 2},\n",
        "    {'A': 3, 'B': 4, 'C': 5}\n",
        "]\n",
        "df2 = pd.DataFrame(data)"
      ]
    },
    {
      "cell_type": "markdown",
      "id": "90d68574",
      "metadata": {
        "id": "90d68574"
      },
      "source": [
        "## 3. Atributos Clave de un DataFrame\n",
        "\n",
        "| Atributo     | Descripción                                 |\n",
        "|--------------|---------------------------------------------|\n",
        "| `df.shape`   | Tupla (filas, columnas)                     |\n",
        "| `df.size`    | Número total de elementos                   |\n",
        "| `df.ndim`    | Número de dimensiones (siempre 2 para DF)   |\n",
        "| `df.columns` | Etiquetas de columnas                       |\n",
        "| `df.index`   | Etiquetas de filas                          |\n",
        "| `df.dtypes`  | Tipo de dato de cada columna                |\n",
        "\n",
        "```python"
      ]
    },
    {
      "cell_type": "code",
      "execution_count": null,
      "id": "f7a06a7e",
      "metadata": {
        "id": "f7a06a7e"
      },
      "outputs": [],
      "source": [
        "print(df.shape)\n",
        "print(df.columns)\n",
        "print(df.dtypes)\n"
      ]
    },
    {
      "cell_type": "markdown",
      "id": "02863a41",
      "metadata": {
        "id": "02863a41"
      },
      "source": [
        "## 4. Operaciones Básicas\n",
        "\n",
        "- `df.head(n)`         : primeras *n* filas  \n",
        "- `df.tail(n)`         : últimas *n* filas  \n",
        "- `df.info()`          : resumen de índice, columnas y tipos  \n",
        "- `df.describe()`      : estadísticas descriptivas de columnas numéricas  \n",
        "- `df['col']` o `df.col`: acceso a columna  \n",
        "- `df[['col1','col2']]`: acceso a múltiples columnas  \n",
        "- `df['col'] = ...`    : crear o modificar columna  \n"
      ]
    },
    {
      "cell_type": "code",
      "execution_count": null,
      "id": "873c9a9a",
      "metadata": {
        "id": "873c9a9a"
      },
      "outputs": [],
      "source": [
        "# Mostrar las primeras 3 filas\n",
        "print(df.head(3))\n",
        "\n",
        "# Crear y acceder a una columna\n",
        "print(df['Edad'])\n",
        "df['Mayor'] = df['Edad'] >= 18\n",
        "print(df.head(3))"
      ]
    },
    {
      "cell_type": "markdown",
      "id": "9e51aac2",
      "metadata": {
        "id": "9e51aac2"
      },
      "source": [
        "## 5. Funciones Útiles\n",
        "\n",
        "| Función                      | Descripción                                         |\n",
        "|------------------------------|-----------------------------------------------------|\n",
        "| `df.dropna()`                | Elimina filas con valores NA                        |\n",
        "| `df.fillna(valor)`           | Rellena NA con un valor                             |\n",
        "| `df.sort_values(by)`         | Ordena por una o más columnas                       |\n",
        "| `df.groupby(col)`            | Agrupa por columna y permite agregaciones           |\n",
        "| `df.merge(otro, on)`         | Combina dos DataFrames por columna clave            |\n",
        "| `df.apply(func, axis)`       | Aplica función a filas (`axis=1`) o columnas (`axis=0`) |\n",
        "| `pd.concat([df1, df2])`      | Concatena DataFrames                                |\n"
      ]
    },
    {
      "cell_type": "code",
      "execution_count": null,
      "id": "393a83c8",
      "metadata": {
        "id": "393a83c8"
      },
      "outputs": [],
      "source": [
        "# Ejemplo de groupby y agregación\n",
        "df_group = df.groupby('Mayor')['Puntaje'].mean()\n",
        "print(df_group)\n",
        "\n",
        "# Merge de df y df2 por índice\n",
        "df_merged = df.merge(df2, left_index=True, right_index=True, how='left')\n",
        "print(df_merged)\n"
      ]
    },
    {
      "cell_type": "markdown",
      "id": "ba3b987f",
      "metadata": {
        "id": "ba3b987f"
      },
      "source": [
        "## 6. Indexación y Filtrado\n",
        "\n",
        "### 6.1 `.loc` por etiqueta\n",
        "- Selección basada en etiquetas de filas y columnas."
      ]
    },
    {
      "cell_type": "code",
      "execution_count": null,
      "id": "a7181cb1",
      "metadata": {
        "id": "a7181cb1"
      },
      "outputs": [],
      "source": [
        "# Asignamos un índice a df2 para el ejemplo\n",
        "df2.index = ['a', 'b']\n",
        "# Filas 'a' y 'c', columnas 'A' y 'B'\n",
        "print(df2.loc[['a','b'], ['A','C']])\n"
      ]
    },
    {
      "cell_type": "markdown",
      "id": "dd904fb7",
      "metadata": {
        "id": "dd904fb7"
      },
      "source": [
        "### 6.2 `.iloc` por posición\n",
        "- Selección basada en posiciones numéricas."
      ]
    },
    {
      "cell_type": "code",
      "execution_count": null,
      "id": "bc2184ac",
      "metadata": {
        "id": "bc2184ac"
      },
      "outputs": [],
      "source": [
        "# Filas 0-1, columnas 0-1\n",
        "print(df.iloc[0:2, 0:2])\n"
      ]
    },
    {
      "cell_type": "markdown",
      "id": "29982ca2",
      "metadata": {
        "id": "29982ca2"
      },
      "source": [
        "### 6.3 Filtrado booleano\n",
        "- Usar condiciones para filtrar filas."
      ]
    },
    {
      "cell_type": "code",
      "execution_count": null,
      "id": "15fe40f3",
      "metadata": {
        "id": "15fe40f3"
      },
      "outputs": [],
      "source": [
        "# Filtrar mayores de 25 años\n",
        "print(df[df['Edad'] > 25])\n",
        "\n",
        "# Varias condiciones combinadas\n",
        "print(df[(df['Edad'] > 20) & (df['Puntaje'] > 80)])\n"
      ]
    },
    {
      "cell_type": "markdown",
      "source": [
        "## Ejercicios\n"
      ],
      "metadata": {
        "id": "O6vaPaBJKTUJ"
      },
      "id": "O6vaPaBJKTUJ"
    },
    {
      "cell_type": "code",
      "source": [
        "import pandas as pd\n",
        "\n",
        "data = {\n",
        "    'Nombre': ['Ana', 'Luis', 'Carlos', 'María'],\n",
        "    'Edad': [23, 34, 45, 29],\n",
        "    'Ciudad': ['Madrid', 'Barcelona', 'Sevilla', 'Bilbao']\n",
        "}\n",
        "\n",
        "df = pd.DataFrame(data)"
      ],
      "metadata": {
        "id": "iCc2txyQKVOx"
      },
      "id": "iCc2txyQKVOx",
      "execution_count": null,
      "outputs": []
    },
    {
      "cell_type": "markdown",
      "source": [
        "- Selecciona solo las filas donde la edad sea mayor de 30.\n",
        "\n",
        "- Extrae la segunda fila usando .iloc.\n",
        "\n",
        "- Muestra solo las columnas \"Nombre\" y \"Edad\"."
      ],
      "metadata": {
        "id": "Tj6DLv94_jJE"
      },
      "id": "Tj6DLv94_jJE"
    },
    {
      "cell_type": "code",
      "source": [],
      "metadata": {
        "id": "5w4LzGgeKbwc"
      },
      "id": "5w4LzGgeKbwc",
      "execution_count": null,
      "outputs": []
    },
    {
      "cell_type": "markdown",
      "source": [
        "- Calcula la edad media.\n",
        "\n",
        "- Muestra un resumen estadístico del DataFrame.\n",
        "\n",
        "- Cuenta cuántas personas hay por ciudad."
      ],
      "metadata": {
        "id": "P-HT7PGY_xQ1"
      },
      "id": "P-HT7PGY_xQ1"
    },
    {
      "cell_type": "code",
      "source": [],
      "metadata": {
        "id": "qo4EGU_MKjks"
      },
      "id": "qo4EGU_MKjks",
      "execution_count": null,
      "outputs": []
    },
    {
      "cell_type": "markdown",
      "source": [
        "Usaremos el dataset de iris desde la biblioteca seaborn, que lo carga como DataFrame\n",
        "\n",
        "- Muestra cuántas especies distintas hay.\n",
        "\n",
        "- Calcula la media del largo del pétalo por especie.\n",
        "\n",
        "- Guarda el DataFrame en un CSV con iris.to_csv('iris.csv', index=False)"
      ],
      "metadata": {
        "id": "4m5USEwv_85P"
      },
      "id": "4m5USEwv_85P"
    },
    {
      "cell_type": "code",
      "source": [
        "import seaborn as sns\n",
        "\n",
        "iris = sns.load_dataset('iris')\n",
        "print(iris.head())"
      ],
      "metadata": {
        "id": "XC-Iv8ITKlXV"
      },
      "id": "XC-Iv8ITKlXV",
      "execution_count": null,
      "outputs": []
    },
    {
      "cell_type": "code",
      "source": [],
      "metadata": {
        "id": "-AofkhPOKl7j"
      },
      "id": "-AofkhPOKl7j",
      "execution_count": null,
      "outputs": []
    },
    {
      "cell_type": "markdown",
      "id": "1c8b3502",
      "metadata": {
        "id": "1c8b3502"
      },
      "source": [
        "## Práctica\n",
        "\n",
        "1. Crea un DataFrame con las ventas diarias (columna `Ventas`) de 7 días y calcula la suma, media, mínima y máxima.  \n",
        "2. Añade una columna `Descuento` con valor 5% y calcula `Venta_Neta`.  \n",
        "3. Carga un CSV de ejemplo con `pd.read_csv()`, muestra sus 5 primeros registros y tipos de datos.  \n",
        "4. Agrupa un DataFrame de transacciones por `Cliente` y calcula el total de compra por cliente.\n"
      ]
    }
  ],
  "metadata": {
    "kernelspec": {
      "display_name": "first_try",
      "language": "python",
      "name": "python3"
    },
    "language_info": {
      "codemirror_mode": {
        "name": "ipython",
        "version": 3
      },
      "file_extension": ".py",
      "mimetype": "text/x-python",
      "name": "python",
      "nbconvert_exporter": "python",
      "pygments_lexer": "ipython3",
      "version": "3.13.7"
    },
    "colab": {
      "provenance": []
    }
  },
  "nbformat": 4,
  "nbformat_minor": 5
}
