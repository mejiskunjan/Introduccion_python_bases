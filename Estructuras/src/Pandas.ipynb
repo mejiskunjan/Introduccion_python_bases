{
 "cells": [
  {
   "cell_type": "markdown",
   "id": "b8775406",
   "metadata": {},
   "source": [
    "# Pandas desde cero\n",
    "\n",
    "Aprenderemos la teoría básica de Pandas, cómo crear y manipular Series y DataFrames, funciones útiles y técnicas de indexación y filtrado.\n",
    "\n",
    "---\n",
    "\n",
    "## 1. Introducción y Configuración\n",
    "\n",
    "### 1.1 ¿Qué es Pandas?\n",
    "\n",
    "Pandas es la librería de Python para el análisis y manipulación de datos.  \n",
    "Ofrece estructuras de datos de alto rendimiento como **Series** (1D) y **DataFrame** (2D) con etiquetas en filas y columnas.\n",
    "\n",
    "### 1.2 Instalación e Importación\n",
    "\n",
    "```bash\n",
    "pip install pandas\n"
   ]
  },
  {
   "cell_type": "code",
   "execution_count": 1,
   "id": "fd10829d",
   "metadata": {},
   "outputs": [
    {
     "name": "stdout",
     "output_type": "stream",
     "text": [
      "Defaulting to user installation because normal site-packages is not writeable\n",
      "Requirement already satisfied: pandas in c:\\users\\gonme\\appdata\\local\\packages\\pythonsoftwarefoundation.python.3.13_qbz5n2kfra8p0\\localcache\\local-packages\\python313\\site-packages (2.3.2)\n",
      "Requirement already satisfied: numpy>=1.26.0 in c:\\users\\gonme\\appdata\\local\\packages\\pythonsoftwarefoundation.python.3.13_qbz5n2kfra8p0\\localcache\\local-packages\\python313\\site-packages (from pandas) (2.3.2)\n",
      "Requirement already satisfied: python-dateutil>=2.8.2 in c:\\users\\gonme\\appdata\\local\\packages\\pythonsoftwarefoundation.python.3.13_qbz5n2kfra8p0\\localcache\\local-packages\\python313\\site-packages (from pandas) (2.9.0.post0)\n",
      "Requirement already satisfied: pytz>=2020.1 in c:\\users\\gonme\\appdata\\local\\packages\\pythonsoftwarefoundation.python.3.13_qbz5n2kfra8p0\\localcache\\local-packages\\python313\\site-packages (from pandas) (2025.2)\n",
      "Requirement already satisfied: tzdata>=2022.7 in c:\\users\\gonme\\appdata\\local\\packages\\pythonsoftwarefoundation.python.3.13_qbz5n2kfra8p0\\localcache\\local-packages\\python313\\site-packages (from pandas) (2025.2)\n",
      "Requirement already satisfied: six>=1.5 in c:\\users\\gonme\\appdata\\local\\packages\\pythonsoftwarefoundation.python.3.13_qbz5n2kfra8p0\\localcache\\local-packages\\python313\\site-packages (from python-dateutil>=2.8.2->pandas) (1.17.0)\n"
     ]
    }
   ],
   "source": [
    "!pip install pandas"
   ]
  },
  {
   "cell_type": "code",
   "execution_count": 2,
   "id": "72f4cc8d",
   "metadata": {},
   "outputs": [],
   "source": [
    "import pandas as pd\n"
   ]
  },
  {
   "cell_type": "markdown",
   "id": "646262a7",
   "metadata": {},
   "source": [
    "## 2. Teoría Básica de Series y DataFrames\n",
    "\n",
    "### 2.1 Estructuras Principales\n",
    "\n",
    "- **Series**: arreglo unidimensional con etiquetas (índice).  \n",
    "- **DataFrame**: tabla bidimensional con filas y columnas etiquetadas.\n",
    "\n",
    "### 2.2 Creación de Series y DataFrames\n"
   ]
  },
  {
   "cell_type": "code",
   "execution_count": 3,
   "id": "864a17f1",
   "metadata": {},
   "outputs": [],
   "source": [
    "# Series a partir de lista y diccionario\n",
    "s = pd.Series([10, 20, 30], index=['a', 'b', 'c'])\n",
    "s2 = pd.Series({'x': 1, 'y': 2, 'z': 3})\n",
    "\n",
    "# DataFrame a partir de diccionario de listas\n",
    "df = pd.DataFrame({\n",
    "    'Nombre': ['Ana', 'Luis', 'Eva'],\n",
    "    'Edad': [23, 19, 31],\n",
    "    'Puntaje': [88.5, 92.3, 79.4]\n",
    "})\n",
    "\n",
    "# DataFrame a partir de lista de diccionarios\n",
    "data = [\n",
    "    {'A': 1, 'B': 2},\n",
    "    {'A': 3, 'B': 4, 'C': 5}\n",
    "]\n",
    "df2 = pd.DataFrame(data)"
   ]
  },
  {
   "cell_type": "markdown",
   "id": "90d68574",
   "metadata": {},
   "source": [
    "## 3. Atributos Clave de un DataFrame\n",
    "\n",
    "| Atributo     | Descripción                                 |\n",
    "|--------------|---------------------------------------------|\n",
    "| `df.shape`   | Tupla (filas, columnas)                     |\n",
    "| `df.size`    | Número total de elementos                   |\n",
    "| `df.ndim`    | Número de dimensiones (siempre 2 para DF)   |\n",
    "| `df.columns` | Etiquetas de columnas                       |\n",
    "| `df.index`   | Etiquetas de filas                          |\n",
    "| `df.dtypes`  | Tipo de dato de cada columna                |\n",
    "\n",
    "```python"
   ]
  },
  {
   "cell_type": "code",
   "execution_count": 4,
   "id": "f7a06a7e",
   "metadata": {},
   "outputs": [
    {
     "name": "stdout",
     "output_type": "stream",
     "text": [
      "(3, 3)\n",
      "Index(['Nombre', 'Edad', 'Puntaje'], dtype='object')\n",
      "Nombre      object\n",
      "Edad         int64\n",
      "Puntaje    float64\n",
      "dtype: object\n"
     ]
    }
   ],
   "source": [
    "print(df.shape)\n",
    "print(df.columns)\n",
    "print(df.dtypes)\n"
   ]
  },
  {
   "cell_type": "markdown",
   "id": "02863a41",
   "metadata": {},
   "source": [
    "## 4. Operaciones Básicas\n",
    "\n",
    "- `df.head(n)`         : primeras *n* filas  \n",
    "- `df.tail(n)`         : últimas *n* filas  \n",
    "- `df.info()`          : resumen de índice, columnas y tipos  \n",
    "- `df.describe()`      : estadísticas descriptivas de columnas numéricas  \n",
    "- `df['col']` o `df.col`: acceso a columna  \n",
    "- `df[['col1','col2']]`: acceso a múltiples columnas  \n",
    "- `df['col'] = ...`    : crear o modificar columna  \n"
   ]
  },
  {
   "cell_type": "code",
   "execution_count": 5,
   "id": "873c9a9a",
   "metadata": {},
   "outputs": [
    {
     "name": "stdout",
     "output_type": "stream",
     "text": [
      "  Nombre  Edad  Puntaje\n",
      "0    Ana    23     88.5\n",
      "1   Luis    19     92.3\n",
      "2    Eva    31     79.4\n",
      "0    23\n",
      "1    19\n",
      "2    31\n",
      "Name: Edad, dtype: int64\n",
      "  Nombre  Edad  Puntaje  Mayor\n",
      "0    Ana    23     88.5   True\n",
      "1   Luis    19     92.3   True\n",
      "2    Eva    31     79.4   True\n"
     ]
    }
   ],
   "source": [
    "# Mostrar las primeras 3 filas\n",
    "print(df.head(3))\n",
    "\n",
    "# Crear y acceder a una columna\n",
    "print(df['Edad'])\n",
    "df['Mayor'] = df['Edad'] >= 18\n",
    "print(df.head(3))"
   ]
  },
  {
   "cell_type": "markdown",
   "id": "9e51aac2",
   "metadata": {},
   "source": [
    "## 5. Funciones Útiles\n",
    "\n",
    "| Función                      | Descripción                                         |\n",
    "|------------------------------|-----------------------------------------------------|\n",
    "| `df.dropna()`                | Elimina filas con valores NA                        |\n",
    "| `df.fillna(valor)`           | Rellena NA con un valor                             |\n",
    "| `df.sort_values(by)`         | Ordena por una o más columnas                       |\n",
    "| `df.groupby(col)`            | Agrupa por columna y permite agregaciones           |\n",
    "| `df.merge(otro, on)`         | Combina dos DataFrames por columna clave            |\n",
    "| `df.apply(func, axis)`       | Aplica función a filas (`axis=1`) o columnas (`axis=0`) |\n",
    "| `pd.concat([df1, df2])`      | Concatena DataFrames                                |\n"
   ]
  },
  {
   "cell_type": "code",
   "execution_count": 6,
   "id": "393a83c8",
   "metadata": {},
   "outputs": [
    {
     "name": "stdout",
     "output_type": "stream",
     "text": [
      "Mayor\n",
      "True    86.733333\n",
      "Name: Puntaje, dtype: float64\n",
      "  Nombre  Edad  Puntaje  Mayor    A    B    C\n",
      "0    Ana    23     88.5   True  1.0  2.0  NaN\n",
      "1   Luis    19     92.3   True  3.0  4.0  5.0\n",
      "2    Eva    31     79.4   True  NaN  NaN  NaN\n"
     ]
    }
   ],
   "source": [
    "# Ejemplo de groupby y agregación\n",
    "df_group = df.groupby('Mayor')['Puntaje'].mean()\n",
    "print(df_group)\n",
    "\n",
    "# Merge de df y df2 por índice\n",
    "df_merged = df.merge(df2, left_index=True, right_index=True, how='left')\n",
    "print(df_merged)\n"
   ]
  },
  {
   "cell_type": "markdown",
   "id": "ba3b987f",
   "metadata": {},
   "source": [
    "## 6. Indexación y Filtrado\n",
    "\n",
    "### 6.1 `.loc` por etiqueta\n",
    "- Selección basada en etiquetas de filas y columnas."
   ]
  },
  {
   "cell_type": "code",
   "execution_count": 9,
   "id": "a7181cb1",
   "metadata": {},
   "outputs": [
    {
     "name": "stdout",
     "output_type": "stream",
     "text": [
      "   A    C\n",
      "a  1  NaN\n",
      "b  3  5.0\n"
     ]
    }
   ],
   "source": [
    "# Asignamos un índice a df2 para el ejemplo\n",
    "df2.index = ['a', 'b']\n",
    "# Filas 'a' y 'c', columnas 'A' y 'B'\n",
    "print(df2.loc[['a','b'], ['A','C']])\n"
   ]
  },
  {
   "cell_type": "markdown",
   "id": "dd904fb7",
   "metadata": {},
   "source": [
    "### 6.2 `.iloc` por posición\n",
    "- Selección basada en posiciones numéricas."
   ]
  },
  {
   "cell_type": "code",
   "execution_count": null,
   "id": "bc2184ac",
   "metadata": {},
   "outputs": [],
   "source": [
    "# Filas 0-1, columnas 0-1\n",
    "print(df.iloc[0:2, 0:2])\n"
   ]
  },
  {
   "cell_type": "markdown",
   "id": "29982ca2",
   "metadata": {},
   "source": [
    "### 6.3 Filtrado booleano\n",
    "- Usar condiciones para filtrar filas."
   ]
  },
  {
   "cell_type": "code",
   "execution_count": null,
   "id": "15fe40f3",
   "metadata": {},
   "outputs": [],
   "source": [
    "# Filtrar mayores de 25 años\n",
    "print(df[df['Edad'] > 25])\n",
    "\n",
    "# Varias condiciones combinadas\n",
    "print(df[(df['Edad'] > 20) & (df['Puntaje'] > 80)])\n"
   ]
  },
  {
   "cell_type": "markdown",
   "id": "1c8b3502",
   "metadata": {},
   "source": [
    "## Práctica\n",
    "\n",
    "1. Crea un DataFrame con las ventas diarias (columna `Ventas`) de 7 días y calcula la suma, media, mínima y máxima.  \n",
    "2. Añade una columna `Descuento` con valor 5% y calcula `Venta_Neta`.  \n",
    "3. Carga un CSV de ejemplo con `pd.read_csv()`, muestra sus 5 primeros registros y tipos de datos.  \n",
    "4. Agrupa un DataFrame de transacciones por `Cliente` y calcula el total de compra por cliente.\n"
   ]
  },
  {
   "cell_type": "markdown",
   "id": "193b0897",
   "metadata": {},
   "source": []
  }
 ],
 "metadata": {
  "kernelspec": {
   "display_name": "first_try",
   "language": "python",
   "name": "python3"
  },
  "language_info": {
   "codemirror_mode": {
    "name": "ipython",
    "version": 3
   },
   "file_extension": ".py",
   "mimetype": "text/x-python",
   "name": "python",
   "nbconvert_exporter": "python",
   "pygments_lexer": "ipython3",
   "version": "3.13.7"
  }
 },
 "nbformat": 4,
 "nbformat_minor": 5
}
